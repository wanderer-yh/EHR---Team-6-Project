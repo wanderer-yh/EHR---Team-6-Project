{
 "cells": [
  {
   "cell_type": "code",
   "execution_count": 1,
   "metadata": {},
   "outputs": [],
   "source": [
    "import numpy as np\n",
    "import pandas as pd\n",
    "import os\n",
    "import datetime\n",
    "os.getcwd()\n",
    "\n",
    "from sklearn.model_selection import (\n",
    "    GridSearchCV,\n",
    "    KFold,\n",
    "    train_test_split)\n",
    "from sklearn.metrics import ConfusionMatrixDisplay\n",
    "from sklearn.ensemble import RandomForestClassifier, AdaBoostClassifier\n",
    "\n",
    "from sklearn.metrics import (\n",
    "    accuracy_score,\n",
    "    ConfusionMatrixDisplay,\n",
    "    mean_squared_error,\n",
    "    precision_score,\n",
    "    recall_score,\n",
    "    RocCurveDisplay\n",
    ")"
   ]
  },
  {
   "cell_type": "code",
   "execution_count": 2,
   "metadata": {},
   "outputs": [],
   "source": [
    "projectdf = pd.read_csv('NewMemYear.csv')\n",
    "projectdf2 = pd.read_csv('NewMemYear.csv')\n",
    "conditionsdf = pd.read_csv('Conditions_ohc.csv')\n",
    "chemo_pats = pd.read_csv('chemo_pats.csv')"
   ]
  },
  {
   "cell_type": "code",
   "execution_count": 3,
   "metadata": {},
   "outputs": [],
   "source": [
    "conditionsdrop_list = ['DeceasedFlag', 'CHEMO', 'Alcoholism', 'Anemia (disorder)',\n",
    "       'Blindness due to type 2 diabetes mellitus (disorder)',\n",
    "       'Body mass index 30+ - obesity (finding)',\n",
    "       'Body mass index 40+ - severely obese (finding)',\n",
    "       'Chronic kidney disease stage 1 (disorder)',\n",
    "       'Chronic kidney disease stage 2 (disorder)',\n",
    "       'Chronic obstructive bronchitis (disorder)', 'Diabetes',\n",
    "       'Diabetic retinopathy associated with type II diabetes mellitus (disorder)',\n",
    "       'Hyperglycemia (disorder)', 'Hyperlipidemia', 'Hypertension',\n",
    "       'Hypertriglyceridemia (disorder)', 'Lupus erythematosus',\n",
    "       'Macular edema and retinopathy due to type 2 diabetes mellitus (disorder)',\n",
    "       'Metabolic syndrome X (disorder)',\n",
    "       'Microalbuminuria due to type 2 diabetes mellitus (disorder)',\n",
    "       'Neuropathy due to type 2 diabetes mellitus (disorder)',\n",
    "       'Nonproliferative diabetic retinopathy due to type 2 diabetes mellitus (disorder)',\n",
    "       'Opioid abuse (disorder)', 'Prediabetes',\n",
    "       'Primary fibromyalgia syndrome',\n",
    "       'Proliferative diabetic retinopathy due to type II diabetes mellitus (disorder)',\n",
    "       'Pulmonary emphysema (disorder)', 'Rheumatoid arthritis',\n",
    "       'Shock (disorder)', 'Stroke', 'Chronic congestive heart failure (disorder)', 'Atrial Fibrillation',\n",
    "       'Cardiac Arrest', 'Coronary Heart Disease',\n",
    "       'History of cardiac arrest (situation)',\n",
    "       'History of myocardial infarction (situation)', 'Myocardial Infarction', 'Cardiac Event', 'Unnamed: 0', 'Age']"
   ]
  },
  {
   "cell_type": "code",
   "execution_count": 4,
   "metadata": {},
   "outputs": [],
   "source": [
    "# Looking at specific chemo drugs -- this code creates dummies for them and groups by patient\n",
    "chemo_ohc = chemo_pats[['PATIENT']].join(pd.get_dummies(chemo_pats['DESCRIPTION'])).groupby('PATIENT').max()"
   ]
  },
  {
   "cell_type": "code",
   "execution_count": 5,
   "metadata": {},
   "outputs": [],
   "source": [
    "# Drop some columns\n",
    "projectdf.drop(['MemYear', 'emergency', 'inpatient', 'outpatient', 'urgentcare', 'wellness', 'ER_Visits', 'Inpt_Admits'], axis=1, inplace=True)"
   ]
  },
  {
   "cell_type": "code",
   "execution_count": 6,
   "metadata": {},
   "outputs": [],
   "source": [
    "cancer_list = ['Carcinoma in situ of prostate (disorder)',\n",
    "       'Malignant neoplasm of breast (disorder)', 'Malignant tumor of colon',\n",
    "       'Metastasis from malignant tumor of prostate (disorder)',\n",
    "       'Neoplasm of prostate',\n",
    "       'Non-small cell carcinoma of lung  TNM stage 1 (disorder)',\n",
    "       'Non-small cell lung cancer (disorder)',\n",
    "       'Primary malignant neoplasm of colon',\n",
    "       'Primary small cell malignant neoplasm of lung  TNM stage 1 (disorder)',\n",
    "       'Secondary malignant neoplasm of colon',\n",
    "       'Suspected lung cancer (situation)']\n",
    "\n",
    "# New df to attempt date calculations\n",
    "dateattempt = projectdf2[projectdf2[cancer_list].any(axis=1)]\n",
    "dateattempt2 = projectdf2[projectdf2['Chronic congestive heart failure (disorder)']==True]\n",
    "\n",
    "# Query first and last years for any cancer column containing a true value and caluculate difference\n",
    "date2 = dateattempt.groupby('PATIENT').agg(CAFirstYear=('MemYear', 'min'), CALastYear=('MemYear', 'max'))\n",
    "date2['CADuration'] = date2['CALastYear']-date2['CAFirstYear']\n",
    "\n",
    "# Query first year CHF column contains a true value and caluculate difference from initial cancer diagnosis\n",
    "chfdate = dateattempt2.groupby('PATIENT').agg(CHFDiagnosisYear=('MemYear', 'min'))\n",
    "chfdate['DelaytoCHF']=chfdate['CHFDiagnosisYear']-date2['CAFirstYear']\n"
   ]
  },
  {
   "cell_type": "code",
   "execution_count": 7,
   "metadata": {},
   "outputs": [
    {
     "data": {
      "text/plain": [
       "CHFDiagnosisYear    False\n",
       "DelaytoCHF          False\n",
       "dtype: bool"
      ]
     },
     "execution_count": 7,
     "metadata": {},
     "output_type": "execute_result"
    }
   ],
   "source": [
    "#There are no values less than zero in the CHF time to diagnosis. \n",
    "chfdate[chfdate['DelaytoCHF']<1].any()"
   ]
  },
  {
   "cell_type": "code",
   "execution_count": 8,
   "metadata": {},
   "outputs": [],
   "source": [
    "# Group all the patient info into one line for each patient\n",
    "projectdf = projectdf.groupby('PATIENT').max()"
   ]
  },
  {
   "cell_type": "code",
   "execution_count": 9,
   "metadata": {},
   "outputs": [],
   "source": [
    "# Add the one hot encoded chemo drugs to the conditions df.\n",
    "projectdf = projectdf.join(chemo_ohc, on='PATIENT', how = 'left')"
   ]
  },
  {
   "cell_type": "code",
   "execution_count": 10,
   "metadata": {},
   "outputs": [],
   "source": [
    "# Join timeline dfs to main df\n",
    "projectdf = projectdf.join(date2['CADuration'], on='PATIENT', how='left')"
   ]
  },
  {
   "cell_type": "code",
   "execution_count": 11,
   "metadata": {},
   "outputs": [],
   "source": [
    "#projectdf=projectdf.reset_index().drop(['Unnamed: 0'], axis=1)"
   ]
  },
  {
   "cell_type": "code",
   "execution_count": 12,
   "metadata": {},
   "outputs": [],
   "source": [
    "# Assess for null values and fill null conditions with '0'\n",
    "projectdf.isnull().sum()\n",
    "projectdf.fillna(0, inplace=True)"
   ]
  },
  {
   "cell_type": "code",
   "execution_count": 13,
   "metadata": {},
   "outputs": [],
   "source": [
    "Y = projectdf['Chronic congestive heart failure (disorder)']\n",
    "# X = projectdf.drop(['Chronic congestive heart failure (disorder)', 'Atrial Fibrillation',\n",
    "#        'Cardiac Arrest', 'Coronary Heart Disease',\n",
    "#        'History of cardiac arrest (situation)',\n",
    "#        'History of myocardial infarction (situation)', 'Myocardial Infarction', 'Cardiac Event', \"Unnamed: 0\", 'Age'], axis=1)\n",
    "X = projectdf.drop(conditionsdrop_list, axis=1).drop(cancer_list, axis=1).drop(['ISMALE', 'ISMARRIED', 'ISHISPANIC', 'asian', 'black', 'other', 'white', 'CADuration'], axis=1)\n",
    "#X = projectdf.drop(conditionsdrop_list, axis=1).drop(chemo_ohc, axis=1).drop(['ISMALE', 'ISMARRIED', 'ISHISPANIC', 'asian', 'black', 'other', 'white'], axis=1)"
   ]
  },
  {
   "cell_type": "code",
   "execution_count": 41,
   "metadata": {},
   "outputs": [
    {
     "data": {
      "text/plain": [
       "(514, 8)"
      ]
     },
     "execution_count": 41,
     "metadata": {},
     "output_type": "execute_result"
    }
   ],
   "source": [
    "Demographics = projectdf.drop(conditionsdrop_list, axis=1).drop(cancer_list, axis=1).drop(chemo_ohc, axis=1)\n"
   ]
  },
  {
   "cell_type": "code",
   "execution_count": 47,
   "metadata": {},
   "outputs": [
    {
     "data": {
      "text/plain": [
       "ISMALE         413\n",
       "ISMARRIED      413\n",
       "ISHISPANIC      36\n",
       "asian           31\n",
       "black           54\n",
       "other            0\n",
       "white          429\n",
       "CADuration    4794\n",
       "dtype: int64"
      ]
     },
     "execution_count": 47,
     "metadata": {},
     "output_type": "execute_result"
    }
   ],
   "source": [
    "Demographics.sum()"
   ]
  },
  {
   "cell_type": "code",
   "execution_count": 44,
   "metadata": {},
   "outputs": [
    {
     "data": {
      "text/plain": [
       "9.326848249027238"
      ]
     },
     "execution_count": 44,
     "metadata": {},
     "output_type": "execute_result"
    }
   ],
   "source": [
    "Demographics['CADuration'].mean()"
   ]
  },
  {
   "cell_type": "code",
   "execution_count": 14,
   "metadata": {},
   "outputs": [],
   "source": [
    "# Split into training and test sets\n",
    "X_train, X_test, Y_train, Y_test = train_test_split(X, Y, test_size=0.30, random_state=42)"
   ]
  },
  {
   "cell_type": "code",
   "execution_count": 15,
   "metadata": {},
   "outputs": [],
   "source": [
    "\n",
    "# Create a random forest model with cross validation values\n",
    "rfc = RandomForestClassifier(class_weight='balanced', random_state=42)\n",
    "rfc.get_params()\n",
    "\n",
    "param_grid = {\n",
    "            'max_depth': [2, 3, 4, 5],\n",
    "            'n_estimators': [5, 10, 15, 25, 50],\n",
    "            'n_jobs': [-1],\n",
    "            }\n",
    "\n",
    "cv = KFold(n_splits=5)\n",
    "\n",
    "cv_mod = GridSearchCV(rfc, param_grid=param_grid, cv=cv)\n"
   ]
  },
  {
   "cell_type": "code",
   "execution_count": 16,
   "metadata": {},
   "outputs": [
    {
     "data": {
      "text/plain": [
       "{'max_depth': 3, 'n_estimators': 10, 'n_jobs': -1}"
      ]
     },
     "execution_count": 16,
     "metadata": {},
     "output_type": "execute_result"
    }
   ],
   "source": [
    "# Fit model and get best parameters\n",
    "gridcv = cv_mod.fit(X_train, Y_train)\n",
    "gridcv.best_params_"
   ]
  },
  {
   "cell_type": "code",
   "execution_count": 17,
   "metadata": {},
   "outputs": [
    {
     "data": {
      "text/plain": [
       "Index(['0.25 ML Leuprolide Acetate 30 MG/ML Prefilled Syringe',\n",
       "       '1 ML DOCEtaxel 20 MG/ML Injection',\n",
       "       '10 ML Doxorubicin Hydrochloride 2 MG/ML Injection',\n",
       "       '10 ML oxaliplatin 5 MG/ML Injection',\n",
       "       '100 ML Epirubicin Hydrochloride 2 MG/ML Injection',\n",
       "       'Cisplatin 50 MG Injection', 'Etoposide 100 MG Injection',\n",
       "       'Methotrexate 2.5 MG Oral Tablet', 'PACLitaxel 100 MG Injection',\n",
       "       'Paclitaxel 100 MG Injection', 'Tamoxifen 10 MG Oral Tablet',\n",
       "       'exemestane 25 MG Oral Tablet', 'neratinib 40 MG Oral Tablet',\n",
       "       'palbociclib 100 MG Oral Capsule', 'ribociclib 200 MG Oral Tablet'],\n",
       "      dtype='object')"
      ]
     },
     "execution_count": 17,
     "metadata": {},
     "output_type": "execute_result"
    }
   ],
   "source": [
    "# A list of features used\n",
    "X_train.columns"
   ]
  },
  {
   "cell_type": "code",
   "execution_count": 18,
   "metadata": {},
   "outputs": [
    {
     "data": {
      "text/plain": [
       "Index(['1 ML DOCEtaxel 20 MG/ML Injection',\n",
       "       '1 ML DOCEtaxel 20 MG/ML Injection',\n",
       "       '10 ML oxaliplatin 5 MG/ML Injection',\n",
       "       '0.25 ML Leuprolide Acetate 30 MG/ML Prefilled Syringe',\n",
       "       '10 ML oxaliplatin 5 MG/ML Injection',\n",
       "       '10 ML oxaliplatin 5 MG/ML Injection', 'PACLitaxel 100 MG Injection',\n",
       "       '0.25 ML Leuprolide Acetate 30 MG/ML Prefilled Syringe',\n",
       "       '0.25 ML Leuprolide Acetate 30 MG/ML Prefilled Syringe',\n",
       "       '1 ML DOCEtaxel 20 MG/ML Injection'],\n",
       "      dtype='object')"
      ]
     },
     "execution_count": 18,
     "metadata": {},
     "output_type": "execute_result"
    }
   ],
   "source": [
    "# Identify most relevant features in the set\n",
    "most_relevant_features = [gridcv.best_estimator_.estimators_[i].feature_importances_.argmax()\n",
    "                          for i in range(len(gridcv.best_estimator_.estimators_))]\n",
    "X_train.columns[most_relevant_features]"
   ]
  },
  {
   "cell_type": "code",
   "execution_count": 19,
   "metadata": {},
   "outputs": [
    {
     "data": {
      "image/png": "[encoded data removed]",
      "text/plain": [
       "<Figure size 640x480 with 2 Axes>"
      ]
     },
     "metadata": {},
     "output_type": "display_data"
    }
   ],
   "source": [
    "# Confusion matrix for the training set\n",
    "_ = ConfusionMatrixDisplay.from_estimator(gridcv.best_estimator_, X_train, Y_train)"
   ]
  },
  {
   "cell_type": "code",
   "execution_count": 20,
   "metadata": {},
   "outputs": [
    {
     "data": {
      "image/png": "[encoded data removed]",
      "text/plain": [
       "<Figure size 640x480 with 2 Axes>"
      ]
     },
     "metadata": {},
     "output_type": "display_data"
    }
   ],
   "source": [
    "# Confusion matrix for the test set\n",
    "_ = ConfusionMatrixDisplay.from_estimator(gridcv.best_estimator_, X_test, Y_test)"
   ]
  },
  {
   "cell_type": "code",
   "execution_count": 21,
   "metadata": {},
   "outputs": [
    {
     "data": {
      "text/plain": [
       "0.6713091922005571"
      ]
     },
     "execution_count": 21,
     "metadata": {},
     "output_type": "execute_result"
    }
   ],
   "source": [
    "accuracy_score(Y_train, gridcv.best_estimator_.predict(X_train))"
   ]
  },
  {
   "cell_type": "code",
   "execution_count": 22,
   "metadata": {},
   "outputs": [
    {
     "data": {
      "text/plain": [
       "0.17557251908396945"
      ]
     },
     "execution_count": 22,
     "metadata": {},
     "output_type": "execute_result"
    }
   ],
   "source": [
    "precision_score(Y_train, gridcv.best_estimator_.predict(X_train))"
   ]
  },
  {
   "cell_type": "code",
   "execution_count": 23,
   "metadata": {},
   "outputs": [
    {
     "data": {
      "text/plain": [
       "0.696969696969697"
      ]
     },
     "execution_count": 23,
     "metadata": {},
     "output_type": "execute_result"
    }
   ],
   "source": [
    "recall_score(Y_train, gridcv.best_estimator_.predict(X_train))"
   ]
  },
  {
   "cell_type": "code",
   "execution_count": 24,
   "metadata": {},
   "outputs": [
    {
     "data": {
      "text/plain": [
       "0.6516129032258065"
      ]
     },
     "execution_count": 24,
     "metadata": {},
     "output_type": "execute_result"
    }
   ],
   "source": [
    "accuracy_score(Y_test, gridcv.best_estimator_.predict(X_test))"
   ]
  },
  {
   "cell_type": "code",
   "execution_count": 25,
   "metadata": {},
   "outputs": [
    {
     "data": {
      "text/plain": [
       "0.19696969696969696"
      ]
     },
     "execution_count": 25,
     "metadata": {},
     "output_type": "execute_result"
    }
   ],
   "source": [
    "precision_score(Y_test, gridcv.best_estimator_.predict(X_test))"
   ]
  },
  {
   "cell_type": "code",
   "execution_count": 26,
   "metadata": {},
   "outputs": [
    {
     "data": {
      "text/plain": [
       "0.9285714285714286"
      ]
     },
     "execution_count": 26,
     "metadata": {},
     "output_type": "execute_result"
    }
   ],
   "source": [
    "recall_score(Y_test, gridcv.best_estimator_.predict(X_test))"
   ]
  },
  {
   "cell_type": "code",
   "execution_count": 27,
   "metadata": {},
   "outputs": [
    {
     "data": {
      "image/png": "[encoded data removed]",
      "text/plain": [
       "<Figure size 640x480 with 1 Axes>"
      ]
     },
     "metadata": {},
     "output_type": "display_data"
    }
   ],
   "source": [
    "# ROCAUC  for the training set\n",
    "_ = RocCurveDisplay.from_estimator(gridcv, X_train, Y_train)"
   ]
  },
  {
   "cell_type": "code",
   "execution_count": 28,
   "metadata": {},
   "outputs": [
    {
     "data": {
      "image/png": "[encoded data removed]",
      "text/plain": [
       "<Figure size 640x480 with 1 Axes>"
      ]
     },
     "metadata": {},
     "output_type": "display_data"
    }
   ],
   "source": [
    "# ROCAUC  for the test set\n",
    "_ = RocCurveDisplay.from_estimator(gridcv, X_test, Y_test)"
   ]
  }
 ],
 "metadata": {
  "kernelspec": {
   "display_name": "fuqua",
   "language": "python",
   "name": "python3"
  },
  "language_info": {
   "codemirror_mode": {
    "name": "ipython",
    "version": 3
   },
   "file_extension": ".py",
   "mimetype": "text/x-python",
   "name": "python",
   "nbconvert_exporter": "python",
   "pygments_lexer": "ipython3",
   "version": "3.11.3"
  },
  "orig_nbformat": 4
 },
 "nbformat": 4,
 "nbformat_minor": 2
}
