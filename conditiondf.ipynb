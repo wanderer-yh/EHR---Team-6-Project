{
 "cells": [
  {
   "cell_type": "code",
   "execution_count": 1,
   "metadata": {},
   "outputs": [
    {
     "data": {
      "text/plain": [
       "'c:\\\\Users\\\\Student\\\\Documents\\\\EHR---Team-6-Project'"
      ]
     },
     "execution_count": 1,
     "metadata": {},
     "output_type": "execute_result"
    }
   ],
   "source": [
    "import numpy as np\n",
    "import pandas as pd\n",
    "import os\n",
    "import datetime\n",
    "os.getcwd()"
   ]
  },
  {
   "cell_type": "code",
   "execution_count": 2,
   "metadata": {},
   "outputs": [],
   "source": [
    "conditions = pd.read_csv('data/coherent-11-07-2022/csv/conditions.csv')"
   ]
  },
  {
   "cell_type": "code",
   "execution_count": 3,
   "metadata": {},
   "outputs": [
    {
     "data": {
      "text/plain": [
       "Index(['START', 'STOP', 'PATIENT', 'ENCOUNTER', 'CODE', 'DESCRIPTION'], dtype='object')"
      ]
     },
     "execution_count": 3,
     "metadata": {},
     "output_type": "execute_result"
    }
   ],
   "source": [
    "conditions.columns"
   ]
  },
  {
   "cell_type": "code",
   "execution_count": 4,
   "metadata": {},
   "outputs": [
    {
     "data": {
      "text/plain": [
       "array(['Body mass index 30+ - obesity (finding)', 'Prediabetes',\n",
       "       'Anemia (disorder)', 'Hypertension', 'Sprain of wrist',\n",
       "       \"Familial Alzheimer's disease of early onset (disorder)\",\n",
       "       'Localized  primary osteoarthritis of the hand',\n",
       "       'Viral sinusitis (disorder)', 'Acute viral pharyngitis (disorder)',\n",
       "       'Laceration of foot', 'Pneumonia',\n",
       "       'Miscarriage in first trimester', 'Diabetes',\n",
       "       'Hypertriglyceridemia (disorder)',\n",
       "       'Metabolic syndrome X (disorder)', 'Perennial allergic rhinitis',\n",
       "       'Escherichia coli urinary tract infection', 'Normal pregnancy',\n",
       "       'Tubal pregnancy', 'Acute bronchitis (disorder)',\n",
       "       'Fetus with unknown complication', 'Polyp of colon',\n",
       "       'Recurrent urinary tract infection', 'Laceration of hand',\n",
       "       'Fracture of forearm', 'Otitis media', 'Bullet wound',\n",
       "       'Chronic sinusitis (disorder)', 'Hyperglycemia (disorder)',\n",
       "       'Chronic obstructive bronchitis (disorder)', 'Hyperlipidemia',\n",
       "       'Osteoarthritis of knee',\n",
       "       'Chronic kidney disease stage 1 (disorder)',\n",
       "       'Diabetic renal disease (disorder)', 'Neoplasm of prostate',\n",
       "       'Carcinoma in situ of prostate (disorder)', 'Sprain of ankle',\n",
       "       'Streptococcal sore throat (disorder)',\n",
       "       'Chronic congestive heart failure (disorder)', 'Stroke',\n",
       "       'Acute bacterial sinusitis (disorder)', 'Bleeding from anus',\n",
       "       'Protracted diarrhea', 'Malignant tumor of colon',\n",
       "       'First degree burn', 'Seizure disorder',\n",
       "       'History of single seizure (situation)', 'Shock (disorder)',\n",
       "       'Cardiac Arrest', 'History of cardiac arrest (situation)',\n",
       "       'Facial laceration', 'Blighted ovum', 'Preeclampsia',\n",
       "       'Atrial Fibrillation', 'Monoparesis - arm (disorder)',\n",
       "       'Impaired cognition (finding)', 'Abnormal gait (finding)',\n",
       "       'Silent micro-hemorrhage of brain (disorder)',\n",
       "       'Osteoporosis (disorder)', 'Closed fracture of hip',\n",
       "       'Pathological fracture due to osteoporosis (disorder)',\n",
       "       'Whiplash injury to neck', 'Coronary Heart Disease',\n",
       "       'Laceration of thigh', 'Primary malignant neoplasm of colon',\n",
       "       'Atopic dermatitis',\n",
       "       'Perennial allergic rhinitis with seasonal variation',\n",
       "       'Sinusitis (disorder)', 'Laceration of forearm',\n",
       "       'Antepartum eclampsia', 'Epilepsy', 'Numbness of face (finding)',\n",
       "       \"Alzheimer's disease (disorder)\", 'Smokes tobacco daily',\n",
       "       'Impacted molars',\n",
       "       'Neuropathy due to type 2 diabetes mellitus (disorder)',\n",
       "       'Diabetic retinopathy associated with type II diabetes mellitus (disorder)',\n",
       "       'Injury of medial collateral ligament of knee',\n",
       "       'Fracture subluxation of wrist', 'Brain damage - traumatic',\n",
       "       'Concussion injury of brain', 'Pulmonary emphysema (disorder)',\n",
       "       'Alcoholism', 'At risk for suicide (finding)',\n",
       "       'Suspected lung cancer (situation)',\n",
       "       'Non-small cell lung cancer (disorder)',\n",
       "       'Non-small cell carcinoma of lung  TNM stage 1 (disorder)',\n",
       "       'Cystitis', 'Malignant neoplasm of breast (disorder)',\n",
       "       'Drug overdose', 'Appendicitis', 'History of appendectomy', 'Gout',\n",
       "       'Fracture of ankle',\n",
       "       'Nonproliferative diabetic retinopathy due to type 2 diabetes mellitus (disorder)',\n",
       "       'Concussion with no loss of consciousness',\n",
       "       'Idiopathic atrophic hypothyroidism',\n",
       "       'Chronic intractable migraine without aura',\n",
       "       'Recurrent rectal polyp',\n",
       "       'Macular edema and retinopathy due to type 2 diabetes mellitus (disorder)',\n",
       "       'Proliferative diabetic retinopathy due to type II diabetes mellitus (disorder)',\n",
       "       'Injury of tendon of the rotator cuff of shoulder',\n",
       "       'Second degree burn', 'Injury of anterior cruciate ligament',\n",
       "       'Chronic pain',\n",
       "       'Metastasis from malignant tumor of prostate (disorder)',\n",
       "       'Major depression disorder', 'Fracture of clavicle',\n",
       "       'Childhood asthma', 'Rheumatoid arthritis',\n",
       "       'Myocardial Infarction',\n",
       "       'History of myocardial infarction (situation)',\n",
       "       'Concussion with loss of consciousness',\n",
       "       'Overlapping malignant neoplasm of colon', 'Rupture of appendix',\n",
       "       'Osteoarthritis of hip', 'Tear of meniscus of knee',\n",
       "       'History of amputation of foot (situation)',\n",
       "       'Body mass index 40+ - severely obese (finding)',\n",
       "       'Fracture of rib', 'Dysarthria (finding)',\n",
       "       'Opioid abuse (disorder)', 'Child attention deficit disorder',\n",
       "       'Primary fibromyalgia syndrome', 'Rupture of patellar tendon',\n",
       "       'Acute Cholecystitis', 'Cholelithiasis',\n",
       "       'Fracture of the vertebral column with spinal cord injury',\n",
       "       'Chronic paralysis due to lesion of spinal cord',\n",
       "       'Seasonal allergic rhinitis', 'Contact dermatitis',\n",
       "       'Third degree burn', 'Small cell carcinoma of lung (disorder)',\n",
       "       'Primary small cell malignant neoplasm of lung  TNM stage 1 (disorder)',\n",
       "       'Secondary malignant neoplasm of colon', 'Asthma',\n",
       "       'Chronic kidney disease stage 2 (disorder)',\n",
       "       'Microalbuminuria due to type 2 diabetes mellitus (disorder)',\n",
       "       'Fracture of vertebral column without spinal cord injury',\n",
       "       'Acute allergic reaction',\n",
       "       'History of lower limb amputation (situation)',\n",
       "       'Traumatic brain injury (disorder)',\n",
       "       'Posttraumatic stress disorder',\n",
       "       'Blindness due to type 2 diabetes mellitus (disorder)',\n",
       "       'Female Infertility', 'Cystic Fibrosis',\n",
       "       'Diabetes from Cystic Fibrosis',\n",
       "       'Infection caused by Pseudomonas aeruginosa',\n",
       "       'Acute respiratory failure (disorder)', 'Lupus erythematosus',\n",
       "       'Chronic kidney disease stage 3 (disorder)',\n",
       "       'Proteinuria due to type 2 diabetes mellitus (disorder)'],\n",
       "      dtype=object)"
      ]
     },
     "execution_count": 4,
     "metadata": {},
     "output_type": "execute_result"
    }
   ],
   "source": [
    "conditions['DESCRIPTION'].unique()"
   ]
  },
  {
   "cell_type": "code",
   "execution_count": 5,
   "metadata": {},
   "outputs": [],
   "source": [
    "condition_list = ['Body mass index 30+ - obesity (finding)', 'Prediabetes',\n",
    "       'Anemia (disorder)', 'Hypertension', 'Diabetes',\n",
    "       'Hypertriglyceridemia (disorder)',\n",
    "       'Metabolic syndrome X (disorder)', 'Hyperglycemia (disorder)',\n",
    "       'Chronic obstructive bronchitis (disorder)', 'Hyperlipidemia',\n",
    "       'Chronic kidney disease stage 1 (disorder)',\n",
    "       'Stroke',\n",
    "       'Shock (disorder)',\n",
    "       'Cardiac Arrest', 'History of cardiac arrest (situation)',\n",
    "       'Neuropathy due to type 2 diabetes mellitus (disorder)',\n",
    "       'Diabetic retinopathy associated with type II diabetes mellitus (disorder)',\n",
    "       'Pulmonary emphysema (disorder)',\n",
    "       'Alcoholism', \n",
    "       'Nonproliferative diabetic retinopathy due to type 2 diabetes mellitus (disorder)',\n",
    "       'Macular edema and retinopathy due to type 2 diabetes mellitus (disorder)',\n",
    "       'Proliferative diabetic retinopathy due to type II diabetes mellitus (disorder)',\n",
    "       'Rheumatoid arthritis',\n",
    "       'Myocardial Infarction',\n",
    "       'Body mass index 40+ - severely obese (finding)',\n",
    "       'Opioid abuse (disorder)', \n",
    "       'Primary fibromyalgia syndrome', \n",
    "       'Chronic kidney disease stage 2 (disorder)',\n",
    "       'Microalbuminuria due to type 2 diabetes mellitus (disorder)',\n",
    "       'Blindness due to type 2 diabetes mellitus (disorder)',\n",
    "       'Cystic Fibrosis',\n",
    "       'Diabetes from Cystic Fibrosis',\n",
    "       'Acute respiratory failure (disorder)', 'Lupus erythematosus',\n",
    "       'Chronic kidney disease stage 3 (disorder)',\n",
    "       'Proteinuria due to type 2 diabetes mellitus (disorder)']"
   ]
  },
  {
   "cell_type": "code",
   "execution_count": 8,
   "metadata": {},
   "outputs": [],
   "source": [
    "chemo_pats = pd.read_csv('chemo_pats.csv')"
   ]
  },
  {
   "cell_type": "code",
   "execution_count": 10,
   "metadata": {},
   "outputs": [],
   "source": [
    "Condition_df = condition_pats[condition_pats['PATIENT'].isin(chemo_pats['PATIENT'])==True]"
   ]
  }
 ],
 "metadata": {
  "kernelspec": {
   "display_name": "fuqua",
   "language": "python",
   "name": "python3"
  },
  "language_info": {
   "codemirror_mode": {
    "name": "ipython",
    "version": 3
   },
   "file_extension": ".py",
   "mimetype": "text/x-python",
   "name": "python",
   "nbconvert_exporter": "python",
   "pygments_lexer": "ipython3",
   "version": "3.11.3"
  },
  "orig_nbformat": 4
 },
 "nbformat": 4,
 "nbformat_minor": 2
}
