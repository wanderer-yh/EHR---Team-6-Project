{
 "cells": [
  {
   "cell_type": "markdown",
   "metadata": {},
   "source": [
    "I made a few changes. Unfortunately we were counting the same patients repeatedly so I grouped by patient and ran the classifier models. Currently it looks like they are overfitting so I will play with them some more. "
   ]
  },
  {
   "cell_type": "code",
   "execution_count": 1,
   "metadata": {},
   "outputs": [],
   "source": [
    "import numpy as np\n",
    "import pandas as pd\n",
    "import os\n",
    "import datetime\n",
    "os.getcwd()\n",
    "\n",
    "from sklearn.model_selection import (\n",
    "    GridSearchCV,\n",
    "    KFold,\n",
    "    train_test_split)\n",
    "from sklearn.metrics import ConfusionMatrixDisplay\n",
    "from sklearn.ensemble import RandomForestClassifier, AdaBoostClassifier"
   ]
  },
  {
   "cell_type": "code",
   "execution_count": 47,
   "metadata": {},
   "outputs": [],
   "source": [
    "projectdf = pd.read_csv('NewMemYear.csv')\n",
    "conditionsdf = pd.read_csv('Conditions_ohc.csv')\n",
    "chemo_pats = pd.read_csv('chemo_pats.csv')"
   ]
  },
  {
   "cell_type": "code",
   "execution_count": 48,
   "metadata": {},
   "outputs": [],
   "source": [
    "chemo_pats['START'] = pd.to_datetime(chemo_pats['START'])"
   ]
  },
  {
   "cell_type": "code",
   "execution_count": 49,
   "metadata": {},
   "outputs": [],
   "source": [
    "chemo_pats['MemYear'] = chemo_pats['START'].dt.strftime('%Y')"
   ]
  },
  {
   "cell_type": "code",
   "execution_count": 50,
   "metadata": {},
   "outputs": [
    {
     "data": {
      "text/html": [
       "<div>\n",
       "<style scoped>\n",
       "    .dataframe tbody tr th:only-of-type {\n",
       "        vertical-align: middle;\n",
       "    }\n",
       "\n",
       "    .dataframe tbody tr th {\n",
       "        vertical-align: top;\n",
       "    }\n",
       "\n",
       "    .dataframe thead th {\n",
       "        text-align: right;\n",
       "    }\n",
       "</style>\n",
       "<table border=\"1\" class=\"dataframe\">\n",
       "  <thead>\n",
       "    <tr style=\"text-align: right;\">\n",
       "      <th></th>\n",
       "      <th>PATIENT</th>\n",
       "      <th>MemYear</th>\n",
       "      <th>0.25 ML Leuprolide Acetate 30 MG/ML Prefilled Syringe</th>\n",
       "      <th>1 ML DOCEtaxel 20 MG/ML Injection</th>\n",
       "      <th>10 ML Doxorubicin Hydrochloride 2 MG/ML Injection</th>\n",
       "      <th>10 ML oxaliplatin 5 MG/ML Injection</th>\n",
       "      <th>100 ML Epirubicin Hydrochloride 2 MG/ML Injection</th>\n",
       "      <th>Cisplatin 50 MG Injection</th>\n",
       "      <th>Etoposide 100 MG Injection</th>\n",
       "      <th>Methotrexate 2.5 MG Oral Tablet</th>\n",
       "      <th>PACLitaxel 100 MG Injection</th>\n",
       "      <th>Paclitaxel 100 MG Injection</th>\n",
       "      <th>Tamoxifen 10 MG Oral Tablet</th>\n",
       "      <th>exemestane 25 MG Oral Tablet</th>\n",
       "      <th>neratinib 40 MG Oral Tablet</th>\n",
       "      <th>palbociclib 100 MG Oral Capsule</th>\n",
       "      <th>ribociclib 200 MG Oral Tablet</th>\n",
       "    </tr>\n",
       "  </thead>\n",
       "  <tbody>\n",
       "    <tr>\n",
       "      <th>0</th>\n",
       "      <td>01541ad3-5323-cb64-96a7-c2ef42941253</td>\n",
       "      <td>1987</td>\n",
       "      <td>1</td>\n",
       "      <td>1</td>\n",
       "      <td>0</td>\n",
       "      <td>0</td>\n",
       "      <td>0</td>\n",
       "      <td>0</td>\n",
       "      <td>0</td>\n",
       "      <td>0</td>\n",
       "      <td>0</td>\n",
       "      <td>0</td>\n",
       "      <td>0</td>\n",
       "      <td>0</td>\n",
       "      <td>0</td>\n",
       "      <td>0</td>\n",
       "      <td>0</td>\n",
       "    </tr>\n",
       "    <tr>\n",
       "      <th>1</th>\n",
       "      <td>0159e45d-0e1c-4108-6cf5-0107b8825389</td>\n",
       "      <td>1978</td>\n",
       "      <td>1</td>\n",
       "      <td>1</td>\n",
       "      <td>0</td>\n",
       "      <td>0</td>\n",
       "      <td>0</td>\n",
       "      <td>0</td>\n",
       "      <td>0</td>\n",
       "      <td>0</td>\n",
       "      <td>0</td>\n",
       "      <td>0</td>\n",
       "      <td>0</td>\n",
       "      <td>0</td>\n",
       "      <td>0</td>\n",
       "      <td>0</td>\n",
       "      <td>0</td>\n",
       "    </tr>\n",
       "    <tr>\n",
       "      <th>2</th>\n",
       "      <td>01ece8c9-b5f1-4a9e-251c-3ee76f0739b5</td>\n",
       "      <td>1980</td>\n",
       "      <td>1</td>\n",
       "      <td>1</td>\n",
       "      <td>0</td>\n",
       "      <td>0</td>\n",
       "      <td>0</td>\n",
       "      <td>0</td>\n",
       "      <td>0</td>\n",
       "      <td>0</td>\n",
       "      <td>0</td>\n",
       "      <td>0</td>\n",
       "      <td>0</td>\n",
       "      <td>0</td>\n",
       "      <td>0</td>\n",
       "      <td>0</td>\n",
       "      <td>0</td>\n",
       "    </tr>\n",
       "    <tr>\n",
       "      <th>3</th>\n",
       "      <td>02551c0a-12e2-a8d0-d756-408440072685</td>\n",
       "      <td>1965</td>\n",
       "      <td>0</td>\n",
       "      <td>0</td>\n",
       "      <td>0</td>\n",
       "      <td>1</td>\n",
       "      <td>0</td>\n",
       "      <td>0</td>\n",
       "      <td>0</td>\n",
       "      <td>0</td>\n",
       "      <td>0</td>\n",
       "      <td>0</td>\n",
       "      <td>0</td>\n",
       "      <td>0</td>\n",
       "      <td>0</td>\n",
       "      <td>0</td>\n",
       "      <td>0</td>\n",
       "    </tr>\n",
       "    <tr>\n",
       "      <th>4</th>\n",
       "      <td>02551c0a-12e2-a8d0-d756-408440072685</td>\n",
       "      <td>1990</td>\n",
       "      <td>0</td>\n",
       "      <td>0</td>\n",
       "      <td>0</td>\n",
       "      <td>0</td>\n",
       "      <td>0</td>\n",
       "      <td>1</td>\n",
       "      <td>0</td>\n",
       "      <td>0</td>\n",
       "      <td>1</td>\n",
       "      <td>0</td>\n",
       "      <td>0</td>\n",
       "      <td>0</td>\n",
       "      <td>0</td>\n",
       "      <td>0</td>\n",
       "      <td>0</td>\n",
       "    </tr>\n",
       "    <tr>\n",
       "      <th>...</th>\n",
       "      <td>...</td>\n",
       "      <td>...</td>\n",
       "      <td>...</td>\n",
       "      <td>...</td>\n",
       "      <td>...</td>\n",
       "      <td>...</td>\n",
       "      <td>...</td>\n",
       "      <td>...</td>\n",
       "      <td>...</td>\n",
       "      <td>...</td>\n",
       "      <td>...</td>\n",
       "      <td>...</td>\n",
       "      <td>...</td>\n",
       "      <td>...</td>\n",
       "      <td>...</td>\n",
       "      <td>...</td>\n",
       "      <td>...</td>\n",
       "    </tr>\n",
       "    <tr>\n",
       "      <th>1194</th>\n",
       "      <td>ffbbfa5b-12c0-1084-d65c-bd8a03cf523a</td>\n",
       "      <td>1997</td>\n",
       "      <td>1</td>\n",
       "      <td>1</td>\n",
       "      <td>0</td>\n",
       "      <td>0</td>\n",
       "      <td>0</td>\n",
       "      <td>0</td>\n",
       "      <td>0</td>\n",
       "      <td>0</td>\n",
       "      <td>0</td>\n",
       "      <td>0</td>\n",
       "      <td>0</td>\n",
       "      <td>0</td>\n",
       "      <td>0</td>\n",
       "      <td>0</td>\n",
       "      <td>0</td>\n",
       "    </tr>\n",
       "    <tr>\n",
       "      <th>1195</th>\n",
       "      <td>ffbbfa5b-12c0-1084-d65c-bd8a03cf523a</td>\n",
       "      <td>2007</td>\n",
       "      <td>0</td>\n",
       "      <td>0</td>\n",
       "      <td>0</td>\n",
       "      <td>0</td>\n",
       "      <td>0</td>\n",
       "      <td>1</td>\n",
       "      <td>0</td>\n",
       "      <td>0</td>\n",
       "      <td>1</td>\n",
       "      <td>0</td>\n",
       "      <td>0</td>\n",
       "      <td>0</td>\n",
       "      <td>0</td>\n",
       "      <td>0</td>\n",
       "      <td>0</td>\n",
       "    </tr>\n",
       "    <tr>\n",
       "      <th>1196</th>\n",
       "      <td>ffbbfa5b-12c0-1084-d65c-bd8a03cf523a</td>\n",
       "      <td>2008</td>\n",
       "      <td>0</td>\n",
       "      <td>0</td>\n",
       "      <td>0</td>\n",
       "      <td>0</td>\n",
       "      <td>0</td>\n",
       "      <td>1</td>\n",
       "      <td>0</td>\n",
       "      <td>0</td>\n",
       "      <td>1</td>\n",
       "      <td>0</td>\n",
       "      <td>0</td>\n",
       "      <td>0</td>\n",
       "      <td>0</td>\n",
       "      <td>0</td>\n",
       "      <td>0</td>\n",
       "    </tr>\n",
       "    <tr>\n",
       "      <th>1197</th>\n",
       "      <td>ffbbfa5b-12c0-1084-d65c-bd8a03cf523a</td>\n",
       "      <td>2009</td>\n",
       "      <td>0</td>\n",
       "      <td>0</td>\n",
       "      <td>0</td>\n",
       "      <td>0</td>\n",
       "      <td>0</td>\n",
       "      <td>1</td>\n",
       "      <td>0</td>\n",
       "      <td>0</td>\n",
       "      <td>1</td>\n",
       "      <td>0</td>\n",
       "      <td>0</td>\n",
       "      <td>0</td>\n",
       "      <td>0</td>\n",
       "      <td>0</td>\n",
       "      <td>0</td>\n",
       "    </tr>\n",
       "    <tr>\n",
       "      <th>1198</th>\n",
       "      <td>ffbbfa5b-12c0-1084-d65c-bd8a03cf523a</td>\n",
       "      <td>2010</td>\n",
       "      <td>0</td>\n",
       "      <td>0</td>\n",
       "      <td>0</td>\n",
       "      <td>0</td>\n",
       "      <td>0</td>\n",
       "      <td>1</td>\n",
       "      <td>0</td>\n",
       "      <td>0</td>\n",
       "      <td>1</td>\n",
       "      <td>0</td>\n",
       "      <td>0</td>\n",
       "      <td>0</td>\n",
       "      <td>0</td>\n",
       "      <td>0</td>\n",
       "      <td>0</td>\n",
       "    </tr>\n",
       "  </tbody>\n",
       "</table>\n",
       "<p>1199 rows × 17 columns</p>\n",
       "</div>"
      ],
      "text/plain": [
       "                                   PATIENT MemYear  \\\n",
       "0     01541ad3-5323-cb64-96a7-c2ef42941253    1987   \n",
       "1     0159e45d-0e1c-4108-6cf5-0107b8825389    1978   \n",
       "2     01ece8c9-b5f1-4a9e-251c-3ee76f0739b5    1980   \n",
       "3     02551c0a-12e2-a8d0-d756-408440072685    1965   \n",
       "4     02551c0a-12e2-a8d0-d756-408440072685    1990   \n",
       "...                                    ...     ...   \n",
       "1194  ffbbfa5b-12c0-1084-d65c-bd8a03cf523a    1997   \n",
       "1195  ffbbfa5b-12c0-1084-d65c-bd8a03cf523a    2007   \n",
       "1196  ffbbfa5b-12c0-1084-d65c-bd8a03cf523a    2008   \n",
       "1197  ffbbfa5b-12c0-1084-d65c-bd8a03cf523a    2009   \n",
       "1198  ffbbfa5b-12c0-1084-d65c-bd8a03cf523a    2010   \n",
       "\n",
       "      0.25 ML Leuprolide Acetate 30 MG/ML Prefilled Syringe  \\\n",
       "0                                                     1       \n",
       "1                                                     1       \n",
       "2                                                     1       \n",
       "3                                                     0       \n",
       "4                                                     0       \n",
       "...                                                 ...       \n",
       "1194                                                  1       \n",
       "1195                                                  0       \n",
       "1196                                                  0       \n",
       "1197                                                  0       \n",
       "1198                                                  0       \n",
       "\n",
       "      1 ML DOCEtaxel 20 MG/ML Injection  \\\n",
       "0                                     1   \n",
       "1                                     1   \n",
       "2                                     1   \n",
       "3                                     0   \n",
       "4                                     0   \n",
       "...                                 ...   \n",
       "1194                                  1   \n",
       "1195                                  0   \n",
       "1196                                  0   \n",
       "1197                                  0   \n",
       "1198                                  0   \n",
       "\n",
       "      10 ML Doxorubicin Hydrochloride 2 MG/ML Injection  \\\n",
       "0                                                     0   \n",
       "1                                                     0   \n",
       "2                                                     0   \n",
       "3                                                     0   \n",
       "4                                                     0   \n",
       "...                                                 ...   \n",
       "1194                                                  0   \n",
       "1195                                                  0   \n",
       "1196                                                  0   \n",
       "1197                                                  0   \n",
       "1198                                                  0   \n",
       "\n",
       "      10 ML oxaliplatin 5 MG/ML Injection  \\\n",
       "0                                       0   \n",
       "1                                       0   \n",
       "2                                       0   \n",
       "3                                       1   \n",
       "4                                       0   \n",
       "...                                   ...   \n",
       "1194                                    0   \n",
       "1195                                    0   \n",
       "1196                                    0   \n",
       "1197                                    0   \n",
       "1198                                    0   \n",
       "\n",
       "      100 ML Epirubicin Hydrochloride 2 MG/ML Injection  \\\n",
       "0                                                     0   \n",
       "1                                                     0   \n",
       "2                                                     0   \n",
       "3                                                     0   \n",
       "4                                                     0   \n",
       "...                                                 ...   \n",
       "1194                                                  0   \n",
       "1195                                                  0   \n",
       "1196                                                  0   \n",
       "1197                                                  0   \n",
       "1198                                                  0   \n",
       "\n",
       "      Cisplatin 50 MG Injection  Etoposide 100 MG Injection  \\\n",
       "0                             0                           0   \n",
       "1                             0                           0   \n",
       "2                             0                           0   \n",
       "3                             0                           0   \n",
       "4                             1                           0   \n",
       "...                         ...                         ...   \n",
       "1194                          0                           0   \n",
       "1195                          1                           0   \n",
       "1196                          1                           0   \n",
       "1197                          1                           0   \n",
       "1198                          1                           0   \n",
       "\n",
       "      Methotrexate 2.5 MG Oral Tablet  PACLitaxel 100 MG Injection  \\\n",
       "0                                   0                            0   \n",
       "1                                   0                            0   \n",
       "2                                   0                            0   \n",
       "3                                   0                            0   \n",
       "4                                   0                            1   \n",
       "...                               ...                          ...   \n",
       "1194                                0                            0   \n",
       "1195                                0                            1   \n",
       "1196                                0                            1   \n",
       "1197                                0                            1   \n",
       "1198                                0                            1   \n",
       "\n",
       "      Paclitaxel 100 MG Injection  Tamoxifen 10 MG Oral Tablet  \\\n",
       "0                               0                            0   \n",
       "1                               0                            0   \n",
       "2                               0                            0   \n",
       "3                               0                            0   \n",
       "4                               0                            0   \n",
       "...                           ...                          ...   \n",
       "1194                            0                            0   \n",
       "1195                            0                            0   \n",
       "1196                            0                            0   \n",
       "1197                            0                            0   \n",
       "1198                            0                            0   \n",
       "\n",
       "      exemestane 25 MG Oral Tablet  neratinib 40 MG Oral Tablet  \\\n",
       "0                                0                            0   \n",
       "1                                0                            0   \n",
       "2                                0                            0   \n",
       "3                                0                            0   \n",
       "4                                0                            0   \n",
       "...                            ...                          ...   \n",
       "1194                             0                            0   \n",
       "1195                             0                            0   \n",
       "1196                             0                            0   \n",
       "1197                             0                            0   \n",
       "1198                             0                            0   \n",
       "\n",
       "      palbociclib 100 MG Oral Capsule  ribociclib 200 MG Oral Tablet  \n",
       "0                                   0                              0  \n",
       "1                                   0                              0  \n",
       "2                                   0                              0  \n",
       "3                                   0                              0  \n",
       "4                                   0                              0  \n",
       "...                               ...                            ...  \n",
       "1194                                0                              0  \n",
       "1195                                0                              0  \n",
       "1196                                0                              0  \n",
       "1197                                0                              0  \n",
       "1198                                0                              0  \n",
       "\n",
       "[1199 rows x 17 columns]"
      ]
     },
     "execution_count": 50,
     "metadata": {},
     "output_type": "execute_result"
    }
   ],
   "source": [
    "chemo_pats[['PATIENT', 'MemYear']].join(pd.get_dummies(chemo_pats['DESCRIPTION'])).groupby(['PATIENT', 'MemYear']).max().reset_index()"
   ]
  },
  {
   "cell_type": "code",
   "execution_count": 51,
   "metadata": {},
   "outputs": [],
   "source": [
    "# Looking at specific chemo drugs -- this code creates dummies for them and groups by patient\n",
    "chemo_ohc = chemo_pats[['PATIENT', 'MemYear']].join(pd.get_dummies(chemo_pats['DESCRIPTION'])).groupby(['PATIENT', 'MemYear']).max().reset_index()"
   ]
  },
  {
   "cell_type": "code",
   "execution_count": 52,
   "metadata": {},
   "outputs": [],
   "source": [
    "projectdf.drop(['emergency', 'inpatient', 'outpatient', 'urgentcare', 'wellness', 'ER_Visits', 'Inpt_Admits'], axis=1, inplace=True)"
   ]
  },
  {
   "cell_type": "code",
   "execution_count": 53,
   "metadata": {},
   "outputs": [],
   "source": [
    "# Group all the patient info into one line for each patient\n",
    "projectdf = projectdf.groupby(['PATIENT', 'MemYear']).max()"
   ]
  },
  {
   "cell_type": "code",
   "execution_count": 54,
   "metadata": {},
   "outputs": [],
   "source": [
    "projectdf.reset_index(inplace = True)"
   ]
  },
  {
   "cell_type": "code",
   "execution_count": 59,
   "metadata": {},
   "outputs": [],
   "source": [
    "chemo_ohc['MemYear'] = chemo_ohc['MemYear'].astype('int')"
   ]
  },
  {
   "cell_type": "code",
   "execution_count": 58,
   "metadata": {},
   "outputs": [
    {
     "data": {
      "text/plain": [
       "PATIENT                                                                              object\n",
       "MemYear                                                                               int64\n",
       "Unnamed: 0                                                                            int64\n",
       "Carcinoma in situ of prostate (disorder)                                              int64\n",
       "Malignant neoplasm of breast (disorder)                                               int64\n",
       "Malignant tumor of colon                                                              int64\n",
       "Metastasis from malignant tumor of prostate (disorder)                                int64\n",
       "Neoplasm of prostate                                                                  int64\n",
       "Non-small cell carcinoma of lung  TNM stage 1 (disorder)                              int64\n",
       "Non-small cell lung cancer (disorder)                                                 int64\n",
       "Primary malignant neoplasm of colon                                                   int64\n",
       "Primary small cell malignant neoplasm of lung  TNM stage 1 (disorder)                 int64\n",
       "Secondary malignant neoplasm of colon                                                 int64\n",
       "Suspected lung cancer (situation)                                                     int64\n",
       "ISMALE                                                                                int64\n",
       "ISMARRIED                                                                             int64\n",
       "ISHISPANIC                                                                            int64\n",
       "asian                                                                                 int64\n",
       "black                                                                                 int64\n",
       "other                                                                                 int64\n",
       "white                                                                                 int64\n",
       "Atrial Fibrillation                                                                   int64\n",
       "Cardiac Arrest                                                                        int64\n",
       "Chronic congestive heart failure (disorder)                                           int64\n",
       "Coronary Heart Disease                                                                int64\n",
       "History of cardiac arrest (situation)                                                 int64\n",
       "History of myocardial infarction (situation)                                          int64\n",
       "Myocardial Infarction                                                                 int64\n",
       "Age                                                                                   int64\n",
       "DeceasedFlag                                                                          int64\n",
       "CHEMO                                                                                 int64\n",
       "Alcoholism                                                                          float64\n",
       "Anemia (disorder)                                                                   float64\n",
       "Blindness due to type 2 diabetes mellitus (disorder)                                float64\n",
       "Body mass index 30+ - obesity (finding)                                             float64\n",
       "Body mass index 40+ - severely obese (finding)                                      float64\n",
       "Chronic kidney disease stage 1 (disorder)                                           float64\n",
       "Chronic kidney disease stage 2 (disorder)                                           float64\n",
       "Chronic obstructive bronchitis (disorder)                                           float64\n",
       "Diabetes                                                                            float64\n",
       "Diabetic retinopathy associated with type II diabetes mellitus (disorder)           float64\n",
       "Hyperglycemia (disorder)                                                            float64\n",
       "Hyperlipidemia                                                                      float64\n",
       "Hypertension                                                                        float64\n",
       "Hypertriglyceridemia (disorder)                                                     float64\n",
       "Lupus erythematosus                                                                 float64\n",
       "Macular edema and retinopathy due to type 2 diabetes mellitus (disorder)            float64\n",
       "Metabolic syndrome X (disorder)                                                     float64\n",
       "Microalbuminuria due to type 2 diabetes mellitus (disorder)                         float64\n",
       "Neuropathy due to type 2 diabetes mellitus (disorder)                               float64\n",
       "Nonproliferative diabetic retinopathy due to type 2 diabetes mellitus (disorder)    float64\n",
       "Opioid abuse (disorder)                                                             float64\n",
       "Prediabetes                                                                         float64\n",
       "Primary fibromyalgia syndrome                                                       float64\n",
       "Proliferative diabetic retinopathy due to type II diabetes mellitus (disorder)      float64\n",
       "Pulmonary emphysema (disorder)                                                      float64\n",
       "Rheumatoid arthritis                                                                float64\n",
       "Shock (disorder)                                                                    float64\n",
       "Stroke                                                                              float64\n",
       "Cardiac Event                                                                         int64\n",
       "dtype: object"
      ]
     },
     "execution_count": 58,
     "metadata": {},
     "output_type": "execute_result"
    }
   ],
   "source": [
    "projectdf.dtypes"
   ]
  },
  {
   "cell_type": "code",
   "execution_count": 60,
   "metadata": {},
   "outputs": [],
   "source": [
    "# Add the one hot encoded chemo drugs to the conditions df.\n",
    "projectdf = projectdf.merge(chemo_ohc, on = ['PATIENT', 'MemYear'], how = 'left')"
   ]
  },
  {
   "cell_type": "code",
   "execution_count": 62,
   "metadata": {},
   "outputs": [],
   "source": [
    "# Assess for null values and fill null conditions with '0'\n",
    "projectdf.isnull().sum()\n",
    "projectdf.fillna(0, inplace=True)"
   ]
  },
  {
   "cell_type": "code",
   "execution_count": null,
   "metadata": {},
   "outputs": [],
   "source": []
  },
  {
   "cell_type": "code",
   "execution_count": 72,
   "metadata": {},
   "outputs": [],
   "source": [
    "Y = projectdf['Chronic congestive heart failure (disorder)']\n",
    "X = projectdf.drop(['Chronic congestive heart failure (disorder)', 'PATIENT', 'MemYear', 'Unnamed: 0'], axis=1)"
   ]
  },
  {
   "cell_type": "code",
   "execution_count": 73,
   "metadata": {},
   "outputs": [],
   "source": [
    "X_train, X_test, Y_train, Y_test = train_test_split(X, Y, test_size=0.30, random_state=42)"
   ]
  },
  {
   "cell_type": "code",
   "execution_count": 74,
   "metadata": {},
   "outputs": [],
   "source": [
    "from sklearn.linear_model import Lasso"
   ]
  },
  {
   "cell_type": "code",
   "execution_count": 75,
   "metadata": {},
   "outputs": [],
   "source": [
    "rfc = RandomForestClassifier(random_state=42)\n",
    "rfc.get_params()\n",
    "\n",
    "param_grid = {\n",
    "            'max_depth': [5, 10, 15, 20, 25],\n",
    "            'n_estimators': [10, 15, 25, 50, 100],\n",
    "            'n_jobs': [-1]}\n",
    "\n",
    "cv = KFold(n_splits=5)\n",
    "\n"
   ]
  },
  {
   "cell_type": "code",
   "execution_count": 76,
   "metadata": {},
   "outputs": [],
   "source": [
    "cv_mod = GridSearchCV(rfc, param_grid=param_grid, cv=cv)"
   ]
  },
  {
   "cell_type": "code",
   "execution_count": 77,
   "metadata": {},
   "outputs": [
    {
     "data": {
      "text/plain": [
       "{'max_depth': 15, 'n_estimators': 50, 'n_jobs': -1}"
      ]
     },
     "execution_count": 77,
     "metadata": {},
     "output_type": "execute_result"
    }
   ],
   "source": [
    "gridcv = cv_mod.fit(X_train, Y_train)\n",
    "gridcv.best_params_"
   ]
  },
  {
   "cell_type": "code",
   "execution_count": 71,
   "metadata": {},
   "outputs": [
    {
     "data": {
      "text/html": [
       "<div>\n",
       "<style scoped>\n",
       "    .dataframe tbody tr th:only-of-type {\n",
       "        vertical-align: middle;\n",
       "    }\n",
       "\n",
       "    .dataframe tbody tr th {\n",
       "        vertical-align: top;\n",
       "    }\n",
       "\n",
       "    .dataframe thead th {\n",
       "        text-align: right;\n",
       "    }\n",
       "</style>\n",
       "<table border=\"1\" class=\"dataframe\">\n",
       "  <thead>\n",
       "    <tr style=\"text-align: right;\">\n",
       "      <th></th>\n",
       "      <th>PATIENT</th>\n",
       "      <th>MemYear</th>\n",
       "      <th>Unnamed: 0</th>\n",
       "      <th>Carcinoma in situ of prostate (disorder)</th>\n",
       "      <th>Malignant neoplasm of breast (disorder)</th>\n",
       "      <th>Malignant tumor of colon</th>\n",
       "      <th>Metastasis from malignant tumor of prostate (disorder)</th>\n",
       "      <th>Neoplasm of prostate</th>\n",
       "      <th>Non-small cell carcinoma of lung  TNM stage 1 (disorder)</th>\n",
       "      <th>Non-small cell lung cancer (disorder)</th>\n",
       "      <th>...</th>\n",
       "      <th>Cisplatin 50 MG Injection</th>\n",
       "      <th>Etoposide 100 MG Injection</th>\n",
       "      <th>Methotrexate 2.5 MG Oral Tablet</th>\n",
       "      <th>PACLitaxel 100 MG Injection</th>\n",
       "      <th>Paclitaxel 100 MG Injection</th>\n",
       "      <th>Tamoxifen 10 MG Oral Tablet</th>\n",
       "      <th>exemestane 25 MG Oral Tablet</th>\n",
       "      <th>neratinib 40 MG Oral Tablet</th>\n",
       "      <th>palbociclib 100 MG Oral Capsule</th>\n",
       "      <th>ribociclib 200 MG Oral Tablet</th>\n",
       "    </tr>\n",
       "  </thead>\n",
       "  <tbody>\n",
       "    <tr>\n",
       "      <th>4774</th>\n",
       "      <td>ec43182d-169c-8490-88d7-b0ae1dc7df38</td>\n",
       "      <td>2012</td>\n",
       "      <td>4774</td>\n",
       "      <td>0</td>\n",
       "      <td>0</td>\n",
       "      <td>0</td>\n",
       "      <td>0</td>\n",
       "      <td>0</td>\n",
       "      <td>1</td>\n",
       "      <td>1</td>\n",
       "      <td>...</td>\n",
       "      <td>1.0</td>\n",
       "      <td>0.0</td>\n",
       "      <td>0.0</td>\n",
       "      <td>1.0</td>\n",
       "      <td>0.0</td>\n",
       "      <td>0.0</td>\n",
       "      <td>0.0</td>\n",
       "      <td>0.0</td>\n",
       "      <td>0.0</td>\n",
       "      <td>0.0</td>\n",
       "    </tr>\n",
       "    <tr>\n",
       "      <th>2974</th>\n",
       "      <td>856f9aac-e1bf-ca04-14f4-840d3acea4ac</td>\n",
       "      <td>1980</td>\n",
       "      <td>2974</td>\n",
       "      <td>0</td>\n",
       "      <td>1</td>\n",
       "      <td>0</td>\n",
       "      <td>0</td>\n",
       "      <td>0</td>\n",
       "      <td>0</td>\n",
       "      <td>0</td>\n",
       "      <td>...</td>\n",
       "      <td>0.0</td>\n",
       "      <td>0.0</td>\n",
       "      <td>0.0</td>\n",
       "      <td>0.0</td>\n",
       "      <td>1.0</td>\n",
       "      <td>1.0</td>\n",
       "      <td>0.0</td>\n",
       "      <td>0.0</td>\n",
       "      <td>0.0</td>\n",
       "      <td>0.0</td>\n",
       "    </tr>\n",
       "    <tr>\n",
       "      <th>2462</th>\n",
       "      <td>6f60d183-2b8d-8c3c-77d0-2b684653651e</td>\n",
       "      <td>1991</td>\n",
       "      <td>2462</td>\n",
       "      <td>1</td>\n",
       "      <td>0</td>\n",
       "      <td>0</td>\n",
       "      <td>0</td>\n",
       "      <td>1</td>\n",
       "      <td>0</td>\n",
       "      <td>0</td>\n",
       "      <td>...</td>\n",
       "      <td>0.0</td>\n",
       "      <td>0.0</td>\n",
       "      <td>0.0</td>\n",
       "      <td>0.0</td>\n",
       "      <td>0.0</td>\n",
       "      <td>0.0</td>\n",
       "      <td>0.0</td>\n",
       "      <td>0.0</td>\n",
       "      <td>0.0</td>\n",
       "      <td>0.0</td>\n",
       "    </tr>\n",
       "    <tr>\n",
       "      <th>622</th>\n",
       "      <td>198670b2-4ae7-a613-5723-5db0aaaa4d04</td>\n",
       "      <td>1986</td>\n",
       "      <td>622</td>\n",
       "      <td>0</td>\n",
       "      <td>0</td>\n",
       "      <td>0</td>\n",
       "      <td>0</td>\n",
       "      <td>0</td>\n",
       "      <td>1</td>\n",
       "      <td>1</td>\n",
       "      <td>...</td>\n",
       "      <td>1.0</td>\n",
       "      <td>0.0</td>\n",
       "      <td>0.0</td>\n",
       "      <td>1.0</td>\n",
       "      <td>0.0</td>\n",
       "      <td>0.0</td>\n",
       "      <td>0.0</td>\n",
       "      <td>0.0</td>\n",
       "      <td>0.0</td>\n",
       "      <td>0.0</td>\n",
       "    </tr>\n",
       "    <tr>\n",
       "      <th>2577</th>\n",
       "      <td>726e09f8-adf9-1752-4436-344cc32ac6ee</td>\n",
       "      <td>1978</td>\n",
       "      <td>2577</td>\n",
       "      <td>0</td>\n",
       "      <td>0</td>\n",
       "      <td>0</td>\n",
       "      <td>0</td>\n",
       "      <td>0</td>\n",
       "      <td>0</td>\n",
       "      <td>0</td>\n",
       "      <td>...</td>\n",
       "      <td>1.0</td>\n",
       "      <td>1.0</td>\n",
       "      <td>0.0</td>\n",
       "      <td>0.0</td>\n",
       "      <td>0.0</td>\n",
       "      <td>0.0</td>\n",
       "      <td>0.0</td>\n",
       "      <td>0.0</td>\n",
       "      <td>0.0</td>\n",
       "      <td>0.0</td>\n",
       "    </tr>\n",
       "    <tr>\n",
       "      <th>...</th>\n",
       "      <td>...</td>\n",
       "      <td>...</td>\n",
       "      <td>...</td>\n",
       "      <td>...</td>\n",
       "      <td>...</td>\n",
       "      <td>...</td>\n",
       "      <td>...</td>\n",
       "      <td>...</td>\n",
       "      <td>...</td>\n",
       "      <td>...</td>\n",
       "      <td>...</td>\n",
       "      <td>...</td>\n",
       "      <td>...</td>\n",
       "      <td>...</td>\n",
       "      <td>...</td>\n",
       "      <td>...</td>\n",
       "      <td>...</td>\n",
       "      <td>...</td>\n",
       "      <td>...</td>\n",
       "      <td>...</td>\n",
       "      <td>...</td>\n",
       "    </tr>\n",
       "    <tr>\n",
       "      <th>3092</th>\n",
       "      <td>89975c92-669d-3c1c-fc93-5b4aea094719</td>\n",
       "      <td>1983</td>\n",
       "      <td>3092</td>\n",
       "      <td>0</td>\n",
       "      <td>0</td>\n",
       "      <td>0</td>\n",
       "      <td>1</td>\n",
       "      <td>1</td>\n",
       "      <td>0</td>\n",
       "      <td>0</td>\n",
       "      <td>...</td>\n",
       "      <td>0.0</td>\n",
       "      <td>0.0</td>\n",
       "      <td>0.0</td>\n",
       "      <td>0.0</td>\n",
       "      <td>0.0</td>\n",
       "      <td>0.0</td>\n",
       "      <td>0.0</td>\n",
       "      <td>0.0</td>\n",
       "      <td>0.0</td>\n",
       "      <td>0.0</td>\n",
       "    </tr>\n",
       "    <tr>\n",
       "      <th>3772</th>\n",
       "      <td>b7c5b161-8cb9-2348-b1e3-5acd92e6447b</td>\n",
       "      <td>2004</td>\n",
       "      <td>3772</td>\n",
       "      <td>0</td>\n",
       "      <td>1</td>\n",
       "      <td>0</td>\n",
       "      <td>0</td>\n",
       "      <td>0</td>\n",
       "      <td>0</td>\n",
       "      <td>0</td>\n",
       "      <td>...</td>\n",
       "      <td>0.0</td>\n",
       "      <td>0.0</td>\n",
       "      <td>0.0</td>\n",
       "      <td>0.0</td>\n",
       "      <td>0.0</td>\n",
       "      <td>0.0</td>\n",
       "      <td>0.0</td>\n",
       "      <td>0.0</td>\n",
       "      <td>0.0</td>\n",
       "      <td>0.0</td>\n",
       "    </tr>\n",
       "    <tr>\n",
       "      <th>5191</th>\n",
       "      <td>fcfd49f2-5e59-1299-7466-25366ddfa1ff</td>\n",
       "      <td>1994</td>\n",
       "      <td>5191</td>\n",
       "      <td>1</td>\n",
       "      <td>0</td>\n",
       "      <td>0</td>\n",
       "      <td>0</td>\n",
       "      <td>1</td>\n",
       "      <td>0</td>\n",
       "      <td>0</td>\n",
       "      <td>...</td>\n",
       "      <td>0.0</td>\n",
       "      <td>0.0</td>\n",
       "      <td>0.0</td>\n",
       "      <td>0.0</td>\n",
       "      <td>0.0</td>\n",
       "      <td>0.0</td>\n",
       "      <td>0.0</td>\n",
       "      <td>0.0</td>\n",
       "      <td>0.0</td>\n",
       "      <td>0.0</td>\n",
       "    </tr>\n",
       "    <tr>\n",
       "      <th>5226</th>\n",
       "      <td>fe47f88d-4c6a-308e-46bb-ffe899aba1c8</td>\n",
       "      <td>1999</td>\n",
       "      <td>5226</td>\n",
       "      <td>1</td>\n",
       "      <td>0</td>\n",
       "      <td>0</td>\n",
       "      <td>0</td>\n",
       "      <td>1</td>\n",
       "      <td>0</td>\n",
       "      <td>0</td>\n",
       "      <td>...</td>\n",
       "      <td>0.0</td>\n",
       "      <td>0.0</td>\n",
       "      <td>0.0</td>\n",
       "      <td>0.0</td>\n",
       "      <td>0.0</td>\n",
       "      <td>0.0</td>\n",
       "      <td>0.0</td>\n",
       "      <td>0.0</td>\n",
       "      <td>0.0</td>\n",
       "      <td>0.0</td>\n",
       "    </tr>\n",
       "    <tr>\n",
       "      <th>860</th>\n",
       "      <td>213c2154-18ee-cb25-2594-9f4f3baf6aa4</td>\n",
       "      <td>1993</td>\n",
       "      <td>860</td>\n",
       "      <td>1</td>\n",
       "      <td>0</td>\n",
       "      <td>0</td>\n",
       "      <td>0</td>\n",
       "      <td>1</td>\n",
       "      <td>0</td>\n",
       "      <td>0</td>\n",
       "      <td>...</td>\n",
       "      <td>0.0</td>\n",
       "      <td>0.0</td>\n",
       "      <td>0.0</td>\n",
       "      <td>0.0</td>\n",
       "      <td>0.0</td>\n",
       "      <td>0.0</td>\n",
       "      <td>0.0</td>\n",
       "      <td>0.0</td>\n",
       "      <td>0.0</td>\n",
       "      <td>0.0</td>\n",
       "    </tr>\n",
       "  </tbody>\n",
       "</table>\n",
       "<p>3708 rows × 74 columns</p>\n",
       "</div>"
      ],
      "text/plain": [
       "                                   PATIENT  MemYear  Unnamed: 0  \\\n",
       "4774  ec43182d-169c-8490-88d7-b0ae1dc7df38     2012        4774   \n",
       "2974  856f9aac-e1bf-ca04-14f4-840d3acea4ac     1980        2974   \n",
       "2462  6f60d183-2b8d-8c3c-77d0-2b684653651e     1991        2462   \n",
       "622   198670b2-4ae7-a613-5723-5db0aaaa4d04     1986         622   \n",
       "2577  726e09f8-adf9-1752-4436-344cc32ac6ee     1978        2577   \n",
       "...                                    ...      ...         ...   \n",
       "3092  89975c92-669d-3c1c-fc93-5b4aea094719     1983        3092   \n",
       "3772  b7c5b161-8cb9-2348-b1e3-5acd92e6447b     2004        3772   \n",
       "5191  fcfd49f2-5e59-1299-7466-25366ddfa1ff     1994        5191   \n",
       "5226  fe47f88d-4c6a-308e-46bb-ffe899aba1c8     1999        5226   \n",
       "860   213c2154-18ee-cb25-2594-9f4f3baf6aa4     1993         860   \n",
       "\n",
       "      Carcinoma in situ of prostate (disorder)  \\\n",
       "4774                                         0   \n",
       "2974                                         0   \n",
       "2462                                         1   \n",
       "622                                          0   \n",
       "2577                                         0   \n",
       "...                                        ...   \n",
       "3092                                         0   \n",
       "3772                                         0   \n",
       "5191                                         1   \n",
       "5226                                         1   \n",
       "860                                          1   \n",
       "\n",
       "      Malignant neoplasm of breast (disorder)  Malignant tumor of colon  \\\n",
       "4774                                        0                         0   \n",
       "2974                                        1                         0   \n",
       "2462                                        0                         0   \n",
       "622                                         0                         0   \n",
       "2577                                        0                         0   \n",
       "...                                       ...                       ...   \n",
       "3092                                        0                         0   \n",
       "3772                                        1                         0   \n",
       "5191                                        0                         0   \n",
       "5226                                        0                         0   \n",
       "860                                         0                         0   \n",
       "\n",
       "      Metastasis from malignant tumor of prostate (disorder)  \\\n",
       "4774                                                  0        \n",
       "2974                                                  0        \n",
       "2462                                                  0        \n",
       "622                                                   0        \n",
       "2577                                                  0        \n",
       "...                                                 ...        \n",
       "3092                                                  1        \n",
       "3772                                                  0        \n",
       "5191                                                  0        \n",
       "5226                                                  0        \n",
       "860                                                   0        \n",
       "\n",
       "      Neoplasm of prostate  \\\n",
       "4774                     0   \n",
       "2974                     0   \n",
       "2462                     1   \n",
       "622                      0   \n",
       "2577                     0   \n",
       "...                    ...   \n",
       "3092                     1   \n",
       "3772                     0   \n",
       "5191                     1   \n",
       "5226                     1   \n",
       "860                      1   \n",
       "\n",
       "      Non-small cell carcinoma of lung  TNM stage 1 (disorder)  \\\n",
       "4774                                                  1          \n",
       "2974                                                  0          \n",
       "2462                                                  0          \n",
       "622                                                   1          \n",
       "2577                                                  0          \n",
       "...                                                 ...          \n",
       "3092                                                  0          \n",
       "3772                                                  0          \n",
       "5191                                                  0          \n",
       "5226                                                  0          \n",
       "860                                                   0          \n",
       "\n",
       "      Non-small cell lung cancer (disorder)  ...  Cisplatin 50 MG Injection  \\\n",
       "4774                                      1  ...                        1.0   \n",
       "2974                                      0  ...                        0.0   \n",
       "2462                                      0  ...                        0.0   \n",
       "622                                       1  ...                        1.0   \n",
       "2577                                      0  ...                        1.0   \n",
       "...                                     ...  ...                        ...   \n",
       "3092                                      0  ...                        0.0   \n",
       "3772                                      0  ...                        0.0   \n",
       "5191                                      0  ...                        0.0   \n",
       "5226                                      0  ...                        0.0   \n",
       "860                                       0  ...                        0.0   \n",
       "\n",
       "      Etoposide 100 MG Injection  Methotrexate 2.5 MG Oral Tablet  \\\n",
       "4774                         0.0                              0.0   \n",
       "2974                         0.0                              0.0   \n",
       "2462                         0.0                              0.0   \n",
       "622                          0.0                              0.0   \n",
       "2577                         1.0                              0.0   \n",
       "...                          ...                              ...   \n",
       "3092                         0.0                              0.0   \n",
       "3772                         0.0                              0.0   \n",
       "5191                         0.0                              0.0   \n",
       "5226                         0.0                              0.0   \n",
       "860                          0.0                              0.0   \n",
       "\n",
       "      PACLitaxel 100 MG Injection  Paclitaxel 100 MG Injection  \\\n",
       "4774                          1.0                          0.0   \n",
       "2974                          0.0                          1.0   \n",
       "2462                          0.0                          0.0   \n",
       "622                           1.0                          0.0   \n",
       "2577                          0.0                          0.0   \n",
       "...                           ...                          ...   \n",
       "3092                          0.0                          0.0   \n",
       "3772                          0.0                          0.0   \n",
       "5191                          0.0                          0.0   \n",
       "5226                          0.0                          0.0   \n",
       "860                           0.0                          0.0   \n",
       "\n",
       "      Tamoxifen 10 MG Oral Tablet  exemestane 25 MG Oral Tablet  \\\n",
       "4774                          0.0                           0.0   \n",
       "2974                          1.0                           0.0   \n",
       "2462                          0.0                           0.0   \n",
       "622                           0.0                           0.0   \n",
       "2577                          0.0                           0.0   \n",
       "...                           ...                           ...   \n",
       "3092                          0.0                           0.0   \n",
       "3772                          0.0                           0.0   \n",
       "5191                          0.0                           0.0   \n",
       "5226                          0.0                           0.0   \n",
       "860                           0.0                           0.0   \n",
       "\n",
       "      neratinib 40 MG Oral Tablet  palbociclib 100 MG Oral Capsule  \\\n",
       "4774                          0.0                              0.0   \n",
       "2974                          0.0                              0.0   \n",
       "2462                          0.0                              0.0   \n",
       "622                           0.0                              0.0   \n",
       "2577                          0.0                              0.0   \n",
       "...                           ...                              ...   \n",
       "3092                          0.0                              0.0   \n",
       "3772                          0.0                              0.0   \n",
       "5191                          0.0                              0.0   \n",
       "5226                          0.0                              0.0   \n",
       "860                           0.0                              0.0   \n",
       "\n",
       "      ribociclib 200 MG Oral Tablet  \n",
       "4774                            0.0  \n",
       "2974                            0.0  \n",
       "2462                            0.0  \n",
       "622                             0.0  \n",
       "2577                            0.0  \n",
       "...                             ...  \n",
       "3092                            0.0  \n",
       "3772                            0.0  \n",
       "5191                            0.0  \n",
       "5226                            0.0  \n",
       "860                             0.0  \n",
       "\n",
       "[3708 rows x 74 columns]"
      ]
     },
     "execution_count": 71,
     "metadata": {},
     "output_type": "execute_result"
    }
   ],
   "source": [
    "X_train"
   ]
  },
  {
   "cell_type": "code",
   "execution_count": 78,
   "metadata": {},
   "outputs": [
    {
     "data": {
      "image/png": "[encoded data removed]",
      "text/plain": [
       "<Figure size 432x288 with 2 Axes>"
      ]
     },
     "metadata": {
      "needs_background": "light"
     },
     "output_type": "display_data"
    }
   ],
   "source": [
    "_ = ConfusionMatrixDisplay.from_estimator(gridcv.best_estimator_, X_test, Y_test)"
   ]
  },
  {
   "cell_type": "code",
   "execution_count": 79,
   "metadata": {},
   "outputs": [],
   "source": [
    "ada = AdaBoostClassifier(random_state=42)\n",
    "ada.get_params()\n",
    "\n",
    "param_grid = {\n",
    "            'learning_rate': [0.5, 0.8, 15],\n",
    "            'n_estimators': [10, 15, 25, 50, 100],\n",
    "            'n_jobs': [-1]}\n",
    "\n",
    "cv = KFold(n_splits=5)\n"
   ]
  },
  {
   "cell_type": "code",
   "execution_count": 80,
   "metadata": {},
   "outputs": [],
   "source": [
    "adacv_mod = GridSearchCV(ada, param_grid=param_grid, cv=cv)"
   ]
  },
  {
   "cell_type": "code",
   "execution_count": 81,
   "metadata": {},
   "outputs": [
    {
     "data": {
      "text/plain": [
       "{'max_depth': 15, 'n_estimators': 50, 'n_jobs': -1}"
      ]
     },
     "execution_count": 81,
     "metadata": {},
     "output_type": "execute_result"
    }
   ],
   "source": [
    "adagridcv = cv_mod.fit(X_train, Y_train)\n",
    "adagridcv.best_params_"
   ]
  },
  {
   "cell_type": "code",
   "execution_count": 82,
   "metadata": {},
   "outputs": [
    {
     "data": {
      "image/png": "[encoded data removed]",
      "text/plain": [
       "<Figure size 432x288 with 2 Axes>"
      ]
     },
     "metadata": {
      "needs_background": "light"
     },
     "output_type": "display_data"
    }
   ],
   "source": [
    "_ = ConfusionMatrixDisplay.from_estimator(adagridcv.best_estimator_, X_train, Y_train)"
   ]
  },
  {
   "cell_type": "code",
   "execution_count": 83,
   "metadata": {},
   "outputs": [
    {
     "data": {
      "image/png": "[encoded data removed]",
      "text/plain": [
       "<Figure size 432x288 with 2 Axes>"
      ]
     },
     "metadata": {
      "needs_background": "light"
     },
     "output_type": "display_data"
    }
   ],
   "source": [
    "_ = ConfusionMatrixDisplay.from_estimator(adagridcv.best_estimator_, X_test, Y_test)"
   ]
  },
  {
   "cell_type": "code",
   "execution_count": 85,
   "metadata": {},
   "outputs": [],
   "source": [
    "import os\n",
    "\n",
    "import matplotlib.pyplot as plt\n",
    "import numpy as np\n",
    "import pandas as pd\n",
    "import seaborn as sns\n",
    "from sklearn.linear_model import LogisticRegression\n",
    "from sklearn.metrics import (\n",
    "    ConfusionMatrixDisplay,\n",
    "    plot_confusion_matrix,\n",
    "    accuracy_score,\n",
    "    plot_roc_curve,\n",
    "    precision_score,\n",
    "    recall_score,\n",
    "    RocCurveDisplay\n",
    ")\n",
    "from sklearn.model_selection import (\n",
    "    GridSearchCV,\n",
    "    KFold,\n",
    "    train_test_split\n",
    ")\n",
    "from sklearn.naive_bayes import GaussianNB\n",
    "from sklearn.neighbors import KNeighborsClassifier\n",
    "from sklearn.pipeline import make_pipeline\n",
    "from sklearn.preprocessing import StandardScaler\n",
    "from sklearn.svm import SVC\n",
    "\n",
    "import datetime\n",
    "\n",
    "#from utils import plot_decision_boundary"
   ]
  },
  {
   "cell_type": "code",
   "execution_count": 89,
   "metadata": {},
   "outputs": [],
   "source": [
    "k_fold = KFold(n_splits=2, shuffle=True, random_state=42) #setting up our number of folds"
   ]
  },
  {
   "cell_type": "code",
   "execution_count": 88,
   "metadata": {},
   "outputs": [],
   "source": [
    "#logspace-- what power base 10 are we raising to\n",
    "C_candidates = np.logspace(-2, 0, 20) #Grid of 20 points between 10^-2 and 10^0 (which is 1)\n",
    "gamma_candidates = np.logspace(-2, 1, 20) #Grid of 20 points between 10^-2 and 10^1 (which is 10)"
   ]
  },
  {
   "cell_type": "code",
   "execution_count": 90,
   "metadata": {},
   "outputs": [],
   "source": [
    "svm_pipeline = make_pipeline(StandardScaler(), #Scaling features-- want to make sure our distance computations are dominated by predictors that have large variability\n",
    "                             SVC(random_state=42))"
   ]
  },
  {
   "cell_type": "code",
   "execution_count": 91,
   "metadata": {},
   "outputs": [],
   "source": [
    "#Looking in a \"box\" 20 points on gamma axis (depth) and 20 points on x? axis (width); either way 400 candidates total\n",
    "grid_search_cv = GridSearchCV(svm_pipeline, \n",
    "                              dict(svc__C=C_candidates, svc__gamma=gamma_candidates), #C parameter is the marginal regularlization strength\n",
    "                              cv=k_fold).fit(X_train, Y_train) #two folds defined above"
   ]
  },
  {
   "cell_type": "code",
   "execution_count": 92,
   "metadata": {},
   "outputs": [
    {
     "data": {
      "text/plain": [
       "{'svc__C': 0.615848211066026, 'svc__gamma': 0.01}"
      ]
     },
     "execution_count": 92,
     "metadata": {},
     "output_type": "execute_result"
    }
   ],
   "source": [
    "grid_search_cv.best_params_"
   ]
  },
  {
   "cell_type": "code",
   "execution_count": 93,
   "metadata": {},
   "outputs": [
    {
     "data": {
      "image/png": "[encoded data removed]",
      "text/plain": [
       "<Figure size 432x288 with 2 Axes>"
      ]
     },
     "metadata": {
      "needs_background": "light"
     },
     "output_type": "display_data"
    }
   ],
   "source": [
    "_ = ConfusionMatrixDisplay.from_estimator(grid_search_cv.best_estimator_, X_test, Y_test)"
   ]
  },
  {
   "cell_type": "code",
   "execution_count": 94,
   "metadata": {},
   "outputs": [
    {
     "data": {
      "image/png": "[encoded data removed]",
      "text/plain": [
       "<Figure size 432x288 with 2 Axes>"
      ]
     },
     "metadata": {
      "needs_background": "light"
     },
     "output_type": "display_data"
    }
   ],
   "source": [
    "_ = ConfusionMatrixDisplay.from_estimator(grid_search_cv.best_estimator_, X_test, Y_test, normalize='all')"
   ]
  },
  {
   "cell_type": "code",
   "execution_count": 95,
   "metadata": {},
   "outputs": [
    {
     "data": {
      "text/plain": [
       "1.0"
      ]
     },
     "execution_count": 95,
     "metadata": {},
     "output_type": "execute_result"
    }
   ],
   "source": [
    "precision_score(Y_test, grid_search_cv.best_estimator_.predict(X_test))"
   ]
  },
  {
   "cell_type": "code",
   "execution_count": 96,
   "metadata": {},
   "outputs": [
    {
     "data": {
      "text/plain": [
       "1.0"
      ]
     },
     "execution_count": 96,
     "metadata": {},
     "output_type": "execute_result"
    }
   ],
   "source": [
    "recall_score(Y_test, grid_search_cv.best_estimator_.predict(X_test))"
   ]
  },
  {
   "cell_type": "code",
   "execution_count": 97,
   "metadata": {},
   "outputs": [
    {
     "data": {
      "text/plain": [
       "1.0"
      ]
     },
     "execution_count": 97,
     "metadata": {},
     "output_type": "execute_result"
    }
   ],
   "source": [
    "accuracy_score(Y_test, grid_search_cv.best_estimator_.predict(X_test))"
   ]
  },
  {
   "cell_type": "code",
   "execution_count": 98,
   "metadata": {},
   "outputs": [
    {
     "data": {
      "image/png": "[encoded data removed]",
      "text/plain": [
       "<Figure size 432x288 with 1 Axes>"
      ]
     },
     "metadata": {
      "needs_background": "light"
     },
     "output_type": "display_data"
    }
   ],
   "source": [
    "_ = RocCurveDisplay.from_estimator(grid_search_cv.best_estimator_, X_test, Y_test)"
   ]
  },
  {
   "cell_type": "code",
   "execution_count": 99,
   "metadata": {},
   "outputs": [
    {
     "data": {
      "image/png": "[encoded data removed]",
      "text/plain": [
       "<Figure size 432x288 with 2 Axes>"
      ]
     },
     "metadata": {
      "needs_background": "light"
     },
     "output_type": "display_data"
    }
   ],
   "source": [
    "_ = ConfusionMatrixDisplay.from_estimator(grid_search_cv.best_estimator_, X_train, Y_train)"
   ]
  },
  {
   "cell_type": "code",
   "execution_count": 100,
   "metadata": {},
   "outputs": [
    {
     "data": {
      "text/plain": [
       "0.9230769230769231"
      ]
     },
     "execution_count": 100,
     "metadata": {},
     "output_type": "execute_result"
    }
   ],
   "source": [
    "recall_score(Y_train, grid_search_cv.best_estimator_.predict(X_train))"
   ]
  }
 ],
 "metadata": {
  "kernelspec": {
   "display_name": "Python 3 (ipykernel)",
   "language": "python",
   "name": "python3"
  },
  "language_info": {
   "codemirror_mode": {
    "name": "ipython",
    "version": 3
   },
   "file_extension": ".py",
   "mimetype": "text/x-python",
   "name": "python",
   "nbconvert_exporter": "python",
   "pygments_lexer": "ipython3",
   "version": "3.9.12"
  }
 },
 "nbformat": 4,
 "nbformat_minor": 2
}
