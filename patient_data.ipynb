{
 "cells": [
  {
   "attachments": {},
   "cell_type": "markdown",
   "metadata": {},
   "source": [
    "This file features the code for cleaning the patient.csv data. Relevant columns are chosen, cleaned, and converted to boolean and datetimes where necessary."
   ]
  },
  {
   "cell_type": "code",
   "execution_count": 3,
   "metadata": {},
   "outputs": [
    {
     "data": {
      "text/plain": [
       "'c:\\\\Users\\\\Student\\\\Documents\\\\EHR---Team-6-Project'"
      ]
     },
     "execution_count": 3,
     "metadata": {},
     "output_type": "execute_result"
    }
   ],
   "source": [
    "import numpy as np\n",
    "import pandas as pd\n",
    "import os\n",
    "import datetime\n",
    "os.getcwd()"
   ]
  },
  {
   "cell_type": "code",
   "execution_count": 4,
   "metadata": {},
   "outputs": [],
   "source": [
    "patients = pd.read_csv('data/coherent-11-07-2022/csv/patients.csv')"
   ]
  },
  {
   "cell_type": "code",
   "execution_count": 5,
   "metadata": {},
   "outputs": [
    {
     "data": {
      "text/plain": [
       "Index(['Id', 'BIRTHDATE', 'DEATHDATE', 'SSN', 'DRIVERS', 'PASSPORT', 'PREFIX',\n",
       "       'FIRST', 'LAST', 'SUFFIX', 'MAIDEN', 'MARITAL', 'RACE', 'ETHNICITY',\n",
       "       'GENDER', 'BIRTHPLACE', 'ADDRESS', 'CITY', 'STATE', 'COUNTY', 'ZIP',\n",
       "       'LAT', 'LON', 'HEALTHCARE_EXPENSES', 'HEALTHCARE_COVERAGE'],\n",
       "      dtype='object')"
      ]
     },
     "execution_count": 5,
     "metadata": {},
     "output_type": "execute_result"
    }
   ],
   "source": [
    "patients.columns"
   ]
  },
  {
   "cell_type": "code",
   "execution_count": 6,
   "metadata": {},
   "outputs": [],
   "source": [
    "patients.drop(['SSN', 'DRIVERS', 'PASSPORT', 'PREFIX',\n",
    "       'FIRST', 'LAST', 'SUFFIX', 'MAIDEN', 'BIRTHPLACE', 'ADDRESS', 'CITY', 'STATE', 'COUNTY', 'ZIP',\n",
    "       'LAT', 'LON', 'HEALTHCARE_EXPENSES', 'HEALTHCARE_COVERAGE'], axis = 1, inplace = True)"
   ]
  },
  {
   "cell_type": "code",
   "execution_count": 23,
   "metadata": {},
   "outputs": [
    {
     "data": {
      "text/plain": [
       "Id                    object\n",
       "BIRTHDATE     datetime64[ns]\n",
       "DEATHDATE     datetime64[ns]\n",
       "RACE                  object\n",
       "ISMALE                  bool\n",
       "ISMARRIED               bool\n",
       "ISHISPANIC              bool\n",
       "dtype: object"
      ]
     },
     "execution_count": 23,
     "metadata": {},
     "output_type": "execute_result"
    }
   ],
   "source": [
    "patients['BIRTHDATE']=pd.to_datetime(patients['BIRTHDATE'])\n",
    "patients['DEATHDATE']=pd.to_datetime(patients['DEATHDATE'])\n",
    "patients.dtypes"
   ]
  },
  {
   "cell_type": "code",
   "execution_count": 9,
   "metadata": {},
   "outputs": [
    {
     "data": {
      "text/plain": [
       "white    2978\n",
       "black     316\n",
       "asian     233\n",
       "other      12\n",
       "Name: RACE, dtype: int64"
      ]
     },
     "execution_count": 9,
     "metadata": {},
     "output_type": "execute_result"
    }
   ],
   "source": [
    "# Combine 'native' and 'other' into one group as there are few values\n",
    "patients['RACE'].replace(to_replace='native', value='other', inplace=True)\n",
    "patients.RACE.value_counts(dropna=False)"
   ]
  },
  {
   "cell_type": "code",
   "execution_count": 13,
   "metadata": {},
   "outputs": [],
   "source": [
    "# Convert Gender to boolean/integer\n",
    "patients['ISMALE'] = patients['GENDER']=='M'\n",
    "\n",
    "# Convert Martial to boolean/integer\n",
    "patients['ISMARRIED'] = patients['MARITAL']=='M'\n",
    "\n",
    "# Convert Ethnicity to boolean/integer\n",
    "patients['ISHISPANIC'] = patients['ETHNICITY']=='hispanic'\n",
    "\n",
    "patients = patients.drop(['MARITAL', 'ETHNICITY', 'GENDER'], axis = 1)"
   ]
  },
  {
   "cell_type": "code",
   "execution_count": 14,
   "metadata": {},
   "outputs": [
    {
     "data": {
      "text/plain": [
       "Id                    object\n",
       "BIRTHDATE     datetime64[ns]\n",
       "DEATHDATE     datetime64[ns]\n",
       "RACE                  object\n",
       "ISMALE                  bool\n",
       "ISMARRIED               bool\n",
       "ISHISPANIC              bool\n",
       "dtype: object"
      ]
     },
     "execution_count": 14,
     "metadata": {},
     "output_type": "execute_result"
    }
   ],
   "source": [
    "patients.dtypes"
   ]
  },
  {
   "cell_type": "code",
   "execution_count": 15,
   "metadata": {},
   "outputs": [
    {
     "data": {
      "text/plain": [
       "(3539, 7)"
      ]
     },
     "execution_count": 15,
     "metadata": {},
     "output_type": "execute_result"
    }
   ],
   "source": [
    "patients.shape"
   ]
  }
 ],
 "metadata": {
  "kernelspec": {
   "display_name": "fuqua",
   "language": "python",
   "name": "python3"
  },
  "language_info": {
   "codemirror_mode": {
    "name": "ipython",
    "version": 3
   },
   "file_extension": ".py",
   "mimetype": "text/x-python",
   "name": "python",
   "nbconvert_exporter": "python",
   "pygments_lexer": "ipython3",
   "version": "3.11.3"
  },
  "orig_nbformat": 4
 },
 "nbformat": 4,
 "nbformat_minor": 2
}
