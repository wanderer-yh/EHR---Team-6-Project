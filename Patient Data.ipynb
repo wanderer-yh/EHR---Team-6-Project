{
 "cells": [
  {
   "cell_type": "code",
   "execution_count": 1,
   "id": "7df947b0",
   "metadata": {},
   "outputs": [],
   "source": [
    "import numpy as np\n",
    "import pandas as pd\n",
    "import os\n",
    "from datetime import datetime, timedelta\n",
    "from dateutil.relativedelta import relativedelta"
   ]
  },
  {
   "cell_type": "code",
   "execution_count": 2,
   "id": "e97a3716",
   "metadata": {},
   "outputs": [],
   "source": [
    "os.chdir('C:/Users/Student/Documents/EHR---Team-6-Project')"
   ]
  },
  {
   "cell_type": "code",
   "execution_count": 3,
   "id": "d0d94987",
   "metadata": {},
   "outputs": [],
   "source": [
    "patients = pd.read_csv('patients.csv')"
   ]
  },
  {
   "cell_type": "code",
   "execution_count": 4,
   "id": "66e6c208",
   "metadata": {},
   "outputs": [],
   "source": [
    "patients.drop(['SSN', 'DRIVERS', 'PASSPORT', 'PREFIX',\n",
    "       'FIRST', 'LAST', 'SUFFIX', 'MAIDEN', 'BIRTHPLACE', 'ADDRESS', 'CITY', 'STATE', 'COUNTY', 'ZIP',\n",
    "       'LAT', 'LON', 'HEALTHCARE_EXPENSES', 'HEALTHCARE_COVERAGE'], axis = 1, inplace = True)"
   ]
  },
  {
   "cell_type": "code",
   "execution_count": 5,
   "id": "dd64b03d",
   "metadata": {},
   "outputs": [],
   "source": [
    "patients['BIRTHDATE']=pd.to_datetime(patients['BIRTHDATE'])\n",
    "patients['DEATHDATE']=pd.to_datetime(patients['DEATHDATE'])"
   ]
  },
  {
   "cell_type": "code",
   "execution_count": 6,
   "id": "a0705ef4",
   "metadata": {},
   "outputs": [
    {
     "data": {
      "text/plain": [
       "white    2978\n",
       "black     316\n",
       "asian     233\n",
       "other      12\n",
       "Name: RACE, dtype: int64"
      ]
     },
     "execution_count": 6,
     "metadata": {},
     "output_type": "execute_result"
    }
   ],
   "source": [
    "# Combine 'native' and 'other' into one group as there are few values\n",
    "patients['RACE'].replace(to_replace='native', value='other', inplace=True)\n",
    "patients.RACE.value_counts(dropna=False)"
   ]
  },
  {
   "cell_type": "code",
   "execution_count": 7,
   "id": "77167187",
   "metadata": {},
   "outputs": [],
   "source": [
    "# Convert Gender to boolean/integer\n",
    "patients['ISMALE'] = patients['GENDER']=='M'\n",
    "\n",
    "# Convert Martial to boolean/integer\n",
    "patients['ISMARRIED'] = patients['MARITAL']=='M'\n",
    "\n",
    "# Convert Ethnicity to boolean/integer\n",
    "patients['ISHISPANIC'] = patients['ETHNICITY']=='hispanic'\n",
    "\n",
    "patients = patients.drop(['MARITAL', 'ETHNICITY', 'GENDER'], axis = 1)"
   ]
  },
  {
   "cell_type": "code",
   "execution_count": 8,
   "id": "ff27585a",
   "metadata": {},
   "outputs": [],
   "source": [
    "# Convert Gender to integer\n",
    "patients['ISMALE'] = patients['ISMALE'].astype(int)\n",
    "\n",
    "# Convert Marital to integer\n",
    "patients['ISMARRIED'] = patients['ISMARRIED'].astype(int)\n",
    "\n",
    "# Convert Ethnicity to integer\n",
    "patients['ISHISPANIC'] = patients['ISHISPANIC'].astype(int)"
   ]
  },
  {
   "cell_type": "code",
   "execution_count": 9,
   "id": "9b6ea7d4",
   "metadata": {},
   "outputs": [],
   "source": [
    "PatientsWide = patients[['Id', 'BIRTHDATE', 'DEATHDATE', 'ISMALE', 'ISMARRIED', 'ISHISPANIC']].join(pd.get_dummies(patients['RACE'])).groupby(['Id', 'BIRTHDATE', 'DEATHDATE', 'ISMALE', 'ISMARRIED', 'ISHISPANIC']).max().reset_index()"
   ]
  },
  {
   "cell_type": "code",
   "execution_count": 10,
   "id": "aeb96fe9",
   "metadata": {},
   "outputs": [],
   "source": [
    "PatientsWide.to_csv(r'PatientData.csv', index = False) "
   ]
  }
 ],
 "metadata": {
  "kernelspec": {
   "display_name": "Python 3 (ipykernel)",
   "language": "python",
   "name": "python3"
  },
  "language_info": {
   "codemirror_mode": {
    "name": "ipython",
    "version": 3
   },
   "file_extension": ".py",
   "mimetype": "text/x-python",
   "name": "python",
   "nbconvert_exporter": "python",
   "pygments_lexer": "ipython3",
   "version": "3.9.12"
  }
 },
 "nbformat": 4,
 "nbformat_minor": 5
}
