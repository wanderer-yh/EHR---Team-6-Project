{
 "cells": [
  {
   "cell_type": "code",
   "execution_count": 19,
   "id": "e220d4f5",
   "metadata": {},
   "outputs": [],
   "source": [
    "import numpy as np\n",
    "import pandas as pd\n",
    "import os\n",
    "from datetime import datetime, timedelta\n",
    "from dateutil.relativedelta import relativedelta"
   ]
  },
  {
   "cell_type": "code",
   "execution_count": 20,
   "id": "052a2e3a",
   "metadata": {},
   "outputs": [],
   "source": [
    "os.chdir('C:/Users/Student/Documents/EHR---Team-6-Project')"
   ]
  },
  {
   "cell_type": "code",
   "execution_count": 21,
   "id": "f332c5ee",
   "metadata": {},
   "outputs": [],
   "source": [
    "# Load the conditions.csv df into a list and determine unique values\n",
    "conditions = pd.read_csv('conditions.csv')"
   ]
  },
  {
   "cell_type": "code",
   "execution_count": 22,
   "id": "38690ebd",
   "metadata": {},
   "outputs": [],
   "source": [
    "# Create a list of cardiac conditions\n",
    "cardiac_list = ['Chronic congestive heart failure (disorder)', \n",
    "       'Cardiac Arrest', 'History of cardiac arrest (situation)',\n",
    "       'Atrial Fibrillation', \n",
    "       'Coronary Heart Disease',\n",
    "       'Myocardial Infarction',\n",
    "       'History of myocardial infarction (situation)']\n",
    "\n",
    "# Filiter the conditions df to get all cardiac patients\n",
    "cardiac_patients = conditions[conditions['DESCRIPTION'].isin(cardiac_list)].reset_index()"
   ]
  },
  {
   "cell_type": "code",
   "execution_count": 23,
   "id": "28840ff4",
   "metadata": {},
   "outputs": [],
   "source": [
    "#Converting the START column to datetime\n",
    "cardiac_patients['START'] = pd.to_datetime(cardiac_patients['START'])"
   ]
  },
  {
   "cell_type": "code",
   "execution_count": 24,
   "id": "e4651bf8",
   "metadata": {},
   "outputs": [],
   "source": [
    "#Creating PatMonth field that is first day of the Start date's month\n",
    "cardiac_patients['PatMonth'] = (cardiac_patients['START'].dt.floor('d') + pd.offsets.MonthEnd(0) - pd.offsets.MonthBegin(1))"
   ]
  },
  {
   "cell_type": "code",
   "execution_count": 25,
   "id": "ef47d6d2",
   "metadata": {},
   "outputs": [],
   "source": [
    "cardiac_patients_wide = cardiac_patients[['PATIENT', 'PatMonth']].join(pd.get_dummies(cardiac_patients['DESCRIPTION'])).groupby(['PATIENT', 'PatMonth']).max().reset_index()"
   ]
  },
  {
   "cell_type": "code",
   "execution_count": 26,
   "id": "b23da36c",
   "metadata": {},
   "outputs": [],
   "source": [
    "cardiac_patients_wide.to_csv(r'cardiac_patients.csv', index = False) "
   ]
  }
 ],
 "metadata": {
  "kernelspec": {
   "display_name": "Python 3 (ipykernel)",
   "language": "python",
   "name": "python3"
  },
  "language_info": {
   "codemirror_mode": {
    "name": "ipython",
    "version": 3
   },
   "file_extension": ".py",
   "mimetype": "text/x-python",
   "name": "python",
   "nbconvert_exporter": "python",
   "pygments_lexer": "ipython3",
   "version": "3.9.12"
  }
 },
 "nbformat": 4,
 "nbformat_minor": 5
}
