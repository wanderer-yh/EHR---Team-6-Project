{
 "cells": [
  {
   "cell_type": "code",
   "execution_count": 1,
   "id": "6f4a2e05",
   "metadata": {},
   "outputs": [],
   "source": [
    "import numpy as np\n",
    "import pandas as pd\n",
    "import os\n",
    "from datetime import datetime, timedelta\n",
    "from dateutil.relativedelta import relativedelta"
   ]
  },
  {
   "cell_type": "code",
   "execution_count": 2,
   "id": "9ee068d4",
   "metadata": {},
   "outputs": [],
   "source": [
    "os.chdir('C:/Users/Student/Documents/EHR---Team-6-Project')"
   ]
  },
  {
   "cell_type": "code",
   "execution_count": 3,
   "id": "0718a5d1",
   "metadata": {},
   "outputs": [],
   "source": [
    "# Load the conditions.csv df into a list and determine unique values\n",
    "conditions = pd.read_csv('conditions.csv')"
   ]
  },
  {
   "cell_type": "code",
   "execution_count": 4,
   "id": "41394080",
   "metadata": {},
   "outputs": [],
   "source": [
    "# Create a list of cancer conditions\n",
    "cancer_list = ['Neoplasm of prostate',\n",
    "       'Carcinoma in situ of prostate (disorder)',\n",
    "       'Malignant tumor of colon', \n",
    "       'Primary malignant neoplasm of colon',\n",
    "       'Suspected lung cancer (situation)',\n",
    "       'Non-small cell lung cancer (disorder)',\n",
    "       'Non-small cell carcinoma of lung  TNM stage 1 (disorder)',\n",
    "       'Malignant neoplasm of breast (disorder)',\n",
    "       'Metastasis from malignant tumor of prostate (disorder)',\n",
    "       'Overlapping malignant neoplasm of colon'\n",
    "       'Small cell carcinoma of lung (disorder)',\n",
    "       'Primary small cell malignant neoplasm of lung  TNM stage 1 (disorder)',\n",
    "       'Secondary malignant neoplasm of colon']\n",
    "\n",
    "# Filiter the conditions df to get all cancer patients\n",
    "cancer_patients = conditions[conditions['DESCRIPTION'].isin(cancer_list)].reset_index()"
   ]
  },
  {
   "cell_type": "code",
   "execution_count": 5,
   "id": "4e0083f9",
   "metadata": {},
   "outputs": [],
   "source": [
    "#Converting the START column to datetime\n",
    "cancer_patients['START'] = pd.to_datetime(cancer_patients['START'])"
   ]
  },
  {
   "cell_type": "code",
   "execution_count": 6,
   "id": "17a063b0",
   "metadata": {},
   "outputs": [],
   "source": [
    "#Converting the STOP column to datetime\n",
    "cancer_patients['STOP'] = pd.to_datetime(cancer_patients['STOP'])"
   ]
  },
  {
   "cell_type": "code",
   "execution_count": 21,
   "id": "9f05e6a1",
   "metadata": {},
   "outputs": [],
   "source": [
    "#Changing NaN values to max month used in EHR Data (August 2021)\n",
    "cancer_patients['STOP'] = cancer_patients['STOP'].replace(np.nan, '2021-08-01')"
   ]
  },
  {
   "cell_type": "code",
   "execution_count": 23,
   "id": "8558bafa",
   "metadata": {},
   "outputs": [],
   "source": [
    "cancer_patients.drop(['index'], axis = 1, inplace = True)"
   ]
  },
  {
   "cell_type": "code",
   "execution_count": 26,
   "id": "d5cb3dbb",
   "metadata": {},
   "outputs": [],
   "source": [
    "cancer_patients.to_csv(r'cancer_patients.csv', index = False) "
   ]
  }
 ],
 "metadata": {
  "kernelspec": {
   "display_name": "Python 3 (ipykernel)",
   "language": "python",
   "name": "python3"
  },
  "language_info": {
   "codemirror_mode": {
    "name": "ipython",
    "version": 3
   },
   "file_extension": ".py",
   "mimetype": "text/x-python",
   "name": "python",
   "nbconvert_exporter": "python",
   "pygments_lexer": "ipython3",
   "version": "3.9.12"
  }
 },
 "nbformat": 4,
 "nbformat_minor": 5
}
