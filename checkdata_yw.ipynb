{
 "cells": [
  {
   "cell_type": "code",
   "execution_count": 1,
   "metadata": {},
   "outputs": [],
   "source": [
    "import numpy as np\n",
    "import pandas as pd\n",
    "import os\n",
    "from datetime import datetime, timedelta\n",
    "from dateutil.relativedelta import relativedelta"
   ]
  },
  {
   "cell_type": "code",
   "execution_count": 4,
   "metadata": {},
   "outputs": [],
   "source": [
    "conditions = pd.read_csv('data/coherent-11-07-2022/csv/conditions.csv')\n",
    "patients = pd.read_csv('data/coherent-11-07-2022/csv/patients.csv')"
   ]
  },
  {
   "cell_type": "code",
   "execution_count": 3,
   "metadata": {},
   "outputs": [],
   "source": [
    "diseases = conditions.DESCRIPTION.unique()"
   ]
  },
  {
   "cell_type": "code",
   "execution_count": 5,
   "metadata": {},
   "outputs": [],
   "source": [
    "# Create a list of cancer conditions\n",
    "cancer_list = ['Neoplasm of prostate',\n",
    "       'Carcinoma in situ of prostate (disorder)',\n",
    "       'Malignant tumor of colon', \n",
    "       'Primary malignant neoplasm of colon',\n",
    "       'Suspected lung cancer (situation)',\n",
    "       'Non-small cell lung cancer (disorder)',\n",
    "       'Non-small cell carcinoma of lung  TNM stage 1 (disorder)',\n",
    "       'Malignant neoplasm of breast (disorder)',\n",
    "       'Metastasis from malignant tumor of prostate (disorder)',\n",
    "       'Overlapping malignant neoplasm of colon'\n",
    "       'Small cell carcinoma of lung (disorder)',\n",
    "       'Primary small cell malignant neoplasm of lung  TNM stage 1 (disorder)',\n",
    "       'Secondary malignant neoplasm of colon']\n"
   ]
  },
  {
   "cell_type": "code",
   "execution_count": 14,
   "metadata": {},
   "outputs": [
    {
     "data": {
      "text/plain": [
       "Index(['index', 'START', 'STOP', 'PATIENT', 'ENCOUNTER', 'CODE',\n",
       "       'DESCRIPTION'],\n",
       "      dtype='object')"
      ]
     },
     "execution_count": 14,
     "metadata": {},
     "output_type": "execute_result"
    }
   ],
   "source": [
    "\n",
    "# Filiter the conditions df to get all cancer patients\n",
    "cancer_patients = conditions.query('DESCRIPTION in @cancer_list').reset_index()\n",
    "cancer_patients.columns\n"
   ]
  },
  {
   "cell_type": "code",
   "execution_count": 15,
   "metadata": {},
   "outputs": [],
   "source": [
    "# Create a list of cardiac conditions\n",
    "cardiac_list = ['Chronic congestive heart failure (disorder)', \n",
    "       'Cardiac Arrest', 'History of cardiac arrest (situation)',\n",
    "       'Atrial Fibrillation', \n",
    "       'Coronary Heart Disease',\n",
    "       'Myocardial Infarction',\n",
    "       'History of myocardial infarction (situation)']"
   ]
  },
  {
   "cell_type": "code",
   "execution_count": 16,
   "metadata": {},
   "outputs": [
    {
     "data": {
      "text/plain": [
       "Index(['index', 'START', 'STOP', 'PATIENT', 'ENCOUNTER', 'CODE',\n",
       "       'DESCRIPTION'],\n",
       "      dtype='object')"
      ]
     },
     "execution_count": 16,
     "metadata": {},
     "output_type": "execute_result"
    }
   ],
   "source": [
    "\n",
    "# Filiter the conditions df to get all cardiac patients\n",
    "cardiac_patients = conditions.query('DESCRIPTION in @cardiac_list').reset_index()\n",
    "cardiac_patients.columns\n"
   ]
  },
  {
   "cell_type": "code",
   "execution_count": 19,
   "metadata": {},
   "outputs": [
    {
     "data": {
      "text/plain": [
       "297"
      ]
     },
     "execution_count": 19,
     "metadata": {},
     "output_type": "execute_result"
    }
   ],
   "source": [
    "# Create a list of cancer patients that have the cardiac outcomes. \n",
    "combo_patients = cancer_patients.merge(cardiac_patients, on='PATIENT').reset_index()\n",
    "unique_combo_patients =  combo_patients['PATIENT'].unique()\n",
    "len(unique_combo_patients)"
   ]
  },
  {
   "cell_type": "code",
   "execution_count": 20,
   "metadata": {},
   "outputs": [],
   "source": [
    "# Read in medication data and review unique meds\n",
    "medications = pd.read_csv('data/coherent-11-07-2022/csv/medications.csv')\n",
    "meds = medications.DESCRIPTION.unique()\n",
    "\n",
    "# Compile a list of chemo meds from the medications data\n",
    "chemo = ['1 ML DOCEtaxel 20 MG/ML Injection', '0.25 ML Leuprolide Acetate 30 MG/ML Prefilled Syringe', \n",
    "         '10 ML oxaliplatin 5 MG/ML Injection', 'Cisplatin 50 MG Injection', 'PACLitaxel 100 MG Injection', \n",
    "         '100 ML Epirubicin Hydrochloride 2 MG/ML Injection', 'Tamoxifen 10 MG Oral Tablet', 'palbociclib 100 MG Oral Capsule', \n",
    "         'Paclitaxel 100 MG Injection', '10 ML Doxorubicin Hydrochloride 2 MG/ML Injection',\n",
    "         'Etoposide 100 MG Injection', 'Methotrexate 2.5 MG Oral Tablet', 'ribociclib 200 MG Oral Tablet', \n",
    "         'neratinib 40 MG Oral Tablet', 'exemestane 25 MG Oral Tablet']"
   ]
  },
  {
   "cell_type": "code",
   "execution_count": 23,
   "metadata": {},
   "outputs": [
    {
     "data": {
      "text/plain": [
       "618"
      ]
     },
     "execution_count": 23,
     "metadata": {},
     "output_type": "execute_result"
    }
   ],
   "source": [
    "# Search for patient who have received chemo in the list above\n",
    "chemo_pats = medications.query('DESCRIPTION in @chemo').reset_index()\n",
    "len(chemo_pats.PATIENT.unique())"
   ]
  },
  {
   "cell_type": "code",
   "execution_count": 26,
   "metadata": {},
   "outputs": [
    {
     "name": "stdout",
     "output_type": "stream",
     "text": [
      "index          1283\n",
      "START           895\n",
      "STOP             22\n",
      "PATIENT         542\n",
      "ENCOUNTER       930\n",
      "CODE             11\n",
      "DESCRIPTION      11\n",
      "dtype: int64\n"
     ]
    }
   ],
   "source": [
    "# unique value of patients with cancer have received the chemos above\n",
    "combo_patients = cancer_patients.merge(chemo_pats[['PATIENT']], on='PATIENT').nunique()\n",
    "print(combo_patients)"
   ]
  },
  {
   "cell_type": "code",
   "execution_count": 1,
   "metadata": {},
   "outputs": [
    {
     "ename": "NameError",
     "evalue": "name 'chemo_pats' is not defined",
     "output_type": "error",
     "traceback": [
      "\u001b[0;31m---------------------------------------------------------------------------\u001b[0m",
      "\u001b[0;31mNameError\u001b[0m                                 Traceback (most recent call last)",
      "Cell \u001b[0;32mIn [1], line 2\u001b[0m\n\u001b[1;32m      1\u001b[0m \u001b[39m#select columns and convert to datetime format\u001b[39;00m\n\u001b[0;32m----> 2\u001b[0m chemo_pats \u001b[39m=\u001b[39m chemo_pats[[\u001b[39m'\u001b[39m\u001b[39mSTART\u001b[39m\u001b[39m'\u001b[39m, \u001b[39m'\u001b[39m\u001b[39mPATIENT\u001b[39m\u001b[39m'\u001b[39m, \u001b[39m'\u001b[39m\u001b[39mDESCRIPTION\u001b[39m\u001b[39m'\u001b[39m]]\u001b[39m.\u001b[39mreset_index()\n\u001b[1;32m      3\u001b[0m chemo_pats[\u001b[39m'\u001b[39m\u001b[39mSTART\u001b[39m\u001b[39m'\u001b[39m] \u001b[39m=\u001b[39m pd\u001b[39m.\u001b[39mto_datetime(chemo_pats[\u001b[39m'\u001b[39m\u001b[39mSTART\u001b[39m\u001b[39m'\u001b[39m])\u001b[39m.\u001b[39mdt\u001b[39m.\u001b[39mnormalize()\n",
      "\u001b[0;31mNameError\u001b[0m: name 'chemo_pats' is not defined"
     ]
    }
   ],
   "source": [
    "#select columns and convert to datetime format\n",
    "chemo_pats = chemo_pats[['START', 'PATIENT', 'DESCRIPTION']].reset_index()\n",
    "chemo_pats['START'] = pd.to_datetime(chemo_pats['START']).dt.normalize()"
   ]
  },
  {
   "cell_type": "code",
   "execution_count": null,
   "metadata": {},
   "outputs": [],
   "source": []
  }
 ],
 "metadata": {
  "kernelspec": {
   "display_name": "Python 3.9.6 64-bit",
   "language": "python",
   "name": "python3"
  },
  "language_info": {
   "codemirror_mode": {
    "name": "ipython",
    "version": 3
   },
   "file_extension": ".py",
   "mimetype": "text/x-python",
   "name": "python",
   "nbconvert_exporter": "python",
   "pygments_lexer": "ipython3",
   "version": "3.9.6"
  },
  "orig_nbformat": 4,
  "vscode": {
   "interpreter": {
    "hash": "31f2aee4e71d21fbe5cf8b01ff0e069b9275f58929596ceb00d14d90e3e16cd6"
   }
  }
 },
 "nbformat": 4,
 "nbformat_minor": 2
}
