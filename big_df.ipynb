{
 "cells": [
  {
   "cell_type": "code",
   "execution_count": null,
   "metadata": {},
   "outputs": [],
   "source": [
    "import numpy as np\n",
    "import pandas as pd\n",
    "import datetime as dt\n",
    "import os\n",
    "#os.chdir('data/coherent-11-07-2022/csv/')"
   ]
  },
  {
   "cell_type": "code",
   "execution_count": null,
   "metadata": {},
   "outputs": [],
   "source": [
    "# List all file in folder\n",
    "csv_list = [x for x in os.listdir('.') if x.endswith('.csv')]\n",
    "csv_list"
   ]
  },
  {
   "cell_type": "code",
   "execution_count": null,
   "metadata": {},
   "outputs": [],
   "source": [
    "# Select or comment out files to be read in\n",
    "df_csv = [# 'allergies.csv',\n",
    "        # 'careplans.csv',\n",
    "        'conditions.csv',\n",
    "        'devices.csv',\n",
    "        'encounters.csv',\n",
    "        # 'imaging_studies.csv',\n",
    "        #'immunizations.csv',\n",
    "        'medications.csv',\n",
    "        'observations.csv',\n",
    "        # 'organizations.csv',\n",
    "        'patients.csv',\n",
    "        # 'payers.csv',\n",
    "        # 'payer_transitions.csv',\n",
    "        'procedures.csv',\n",
    "        'providers.csv',\n",
    "        # 'supplies.csv'\n",
    "        ]\n"
   ]
  },
  {
   "cell_type": "code",
   "execution_count": null,
   "metadata": {},
   "outputs": [],
   "source": [
    "# Create a dictionary of dfs for each selected csv\n",
    "d = {}\n",
    "for x in df_csv:\n",
    "    d[x.split('.')[0]] = pd.read_csv(x)\n",
    "\n",
    "# Lengths of the respective dataframes to join\n",
    "df_lengths = pd.DataFrame({'df': d.keys(), 'df_length': [d[x].shape[0] for x in d.keys()]})\n",
    "df_lengths"
   ]
  },
  {
   "cell_type": "code",
   "execution_count": null,
   "metadata": {},
   "outputs": [],
   "source": [
    "# Rename columns for join\n",
    "d['patients'].rename(columns={'Id': 'PATIENT'}, inplace=True)\n",
    "d['patients'].columns"
   ]
  },
  {
   "cell_type": "code",
   "execution_count": null,
   "metadata": {},
   "outputs": [],
   "source": [
    "# Rename columns for join\n",
    "d['encounters'].rename(columns={'Id': 'ENCOUNTER', 'START': 'Encounter_start', 'STOP': 'Encounter_stop',\n",
    "                                'REASONDESCRIPTION': 'Encounter_reason', 'REASONCODE': \n",
    "                                'Encounter_reasoncode', 'CODE': 'Encounter_classcode', 'DESCRIPTION': \n",
    "                                'Encounter_type'}, inplace=True)\n",
    "d['encounters'].columns"
   ]
  },
  {
   "cell_type": "code",
   "execution_count": null,
   "metadata": {},
   "outputs": [],
   "source": [
    "# Rename columns for join\n",
    "d['conditions'].rename(columns={'START': 'CONDITION_START', 'STOP': 'CONDITION_STOP',\n",
    "                                'CODE': 'CONDITION_CODE', 'DESCRIPTION': 'CONDITION_DESCRIPTION'}, \n",
    "                                inplace=True)\n",
    "conditions = pd.DataFrame(d['conditions'])\n",
    "conditions.drop(['PATIENT'], axis = 1, inplace=True)"
   ]
  },
  {
   "cell_type": "code",
   "execution_count": null,
   "metadata": {},
   "outputs": [],
   "source": [
    "# Merge 'patients' and 'encounter' on patient column\n",
    "large_df = pd.DataFrame(d['patients'].merge(d['encounters'], how='outer', on='PATIENT'))\n",
    "large_df.columns"
   ]
  },
  {
   "cell_type": "code",
   "execution_count": null,
   "metadata": {},
   "outputs": [],
   "source": [
    "# Drop irrelevant columns\n",
    "large_df.drop(['SSN', 'DRIVERS', 'PASSPORT', 'PREFIX', 'FIRST', 'LAST', \n",
    "                'SUFFIX', 'MAIDEN', 'ADDRESS', 'COUNTY', 'ZIP', 'LAT', 'LON', \n",
    "                'HEALTHCARE_EXPENSES', 'HEALTHCARE_COVERAGE', 'BASE_ENCOUNTER_COST',\n",
    "                'TOTAL_CLAIM_COST', 'PAYER_COVERAGE'], axis = 1, inplace = True)\n",
    "large_df.columns"
   ]
  },
  {
   "cell_type": "code",
   "execution_count": null,
   "metadata": {},
   "outputs": [],
   "source": [
    "# Merge current df with 'conditions' on the encounter column\n",
    "large_df = large_df.merge(conditions, how = 'outer', on = 'ENCOUNTER')"
   ]
  },
  {
   "cell_type": "code",
   "execution_count": null,
   "metadata": {},
   "outputs": [],
   "source": [
    "# Rename columns for join, drop redundant columns \n",
    "d['observations'].rename(columns={'DATE': 'OBSERVATION_DATE', 'CODE': 'OBSERVATION_CODE', \n",
    "                                  'DESCRIPTION': 'OBSERVATION_DESCRIPTION'}, inplace=True)\n",
    "\n",
    "observations = pd.DataFrame(d['observations'])\n",
    "\n",
    "observations.drop(['PATIENT'], axis = 1, inplace=True)"
   ]
  },
  {
   "cell_type": "code",
   "execution_count": null,
   "metadata": {},
   "outputs": [],
   "source": [
    "# Merge current df with 'observations' on the encounter column\n",
    "large_df = large_df.merge(observations, how = 'outer', on = 'ENCOUNTER')\n",
    "large_df.columns"
   ]
  },
  {
   "cell_type": "code",
   "execution_count": null,
   "metadata": {},
   "outputs": [],
   "source": [
    "# Rename columns for join, drop redundant columns\n",
    "d['medications'].rename(columns={'START': 'MED_START', 'STOP': 'MED_STOP', 'CODE': 'MED_CODE', \n",
    "                                 'DESCRIPTION': 'MEDICATION'}, inplace=True)\n",
    "\n",
    "medications = pd.DataFrame(d['medications'])\n",
    "\n",
    "medications.drop(['PATIENT', 'PAYER', 'BASE_COST', 'PAYER_COVERAGE', 'DISPENSES', 'TOTALCOST', 'REASONCODE',\n",
    "       'REASONDESCRIPTION'], axis = 1, inplace=True)"
   ]
  },
  {
   "cell_type": "code",
   "execution_count": null,
   "metadata": {},
   "outputs": [],
   "source": [
    "# Merge current df with 'medicaitons' on the encounter column\n",
    "large_df = large_df.merge(medications, how = 'outer', on = 'ENCOUNTER')\n",
    "large_df.columns"
   ]
  },
  {
   "cell_type": "code",
   "execution_count": null,
   "metadata": {},
   "outputs": [],
   "source": [
    "# List of date-based columns to convert to datetime\n",
    "date_columns = ['BIRTHDATE', 'DEATHDATE', 'OBSERVATION_DATE', 'MED_START', 'MED_STOP', \n",
    "                'Encounter_start', 'Encounter_stop', 'CONDITION_START', 'CONDIITON_STOP']\n",
    "\n",
    "# Convert dates to datetime format\n",
    "for col in date_columns:\n",
    "    large_df[col] = pd.to_datetime(large_df[col])\n",
    "    large_df[col] = large_df[col].dt.date.astype('datetime64[ns]')   \n"
   ]
  }
 ],
 "metadata": {
  "kernelspec": {
   "display_name": "fuqua",
   "language": "python",
   "name": "python3"
  },
  "language_info": {
   "codemirror_mode": {
    "name": "ipython",
    "version": 3
   },
   "file_extension": ".py",
   "mimetype": "text/x-python",
   "name": "python",
   "nbconvert_exporter": "python",
   "pygments_lexer": "ipython3",
   "version": "3.11.3"
  },
  "orig_nbformat": 4
 },
 "nbformat": 4,
 "nbformat_minor": 2
}
