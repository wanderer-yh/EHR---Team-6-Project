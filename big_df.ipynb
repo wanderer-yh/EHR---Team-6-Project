{
 "cells": [
  {
   "cell_type": "code",
   "execution_count": null,
   "metadata": {},
   "outputs": [],
   "source": [
    "import numpy as np\n",
    "import pandas as pd\n",
    "import datetime as dt\n",
    "import os\n",
    "os.chdir('data/coherent-11-07-2022/csv/')"
   ]
  },
  {
   "cell_type": "code",
   "execution_count": null,
   "metadata": {},
   "outputs": [],
   "source": [
    "# List all file in folder\n",
    "csv_list = [x for x in os.listdir('.') if x.endswith('.csv')]\n",
    "csv_list"
   ]
  },
  {
   "cell_type": "code",
   "execution_count": 7,
   "metadata": {},
   "outputs": [],
   "source": [
    "# Select or comment out files to be read in\n",
    "df_csv = [# 'allergies.csv',\n",
    "        # 'careplans.csv',\n",
    "        'conditions.csv',\n",
    "        'devices.csv',\n",
    "        'encounters.csv',\n",
    "        # 'imaging_studies.csv',\n",
    "        #'immunizations.csv',\n",
    "        'medications.csv',\n",
    "        'observations.csv',\n",
    "        # 'organizations.csv',\n",
    "        'patients.csv',\n",
    "        # 'payers.csv',\n",
    "        # 'payer_transitions.csv',\n",
    "        'procedures.csv',\n",
    "        'providers.csv',\n",
    "        # 'supplies.csv'\n",
    "        ]\n"
   ]
  },
  {
   "cell_type": "code",
   "execution_count": 8,
   "metadata": {},
   "outputs": [
    {
     "data": {
      "text/html": [
       "<div>\n",
       "<style scoped>\n",
       "    .dataframe tbody tr th:only-of-type {\n",
       "        vertical-align: middle;\n",
       "    }\n",
       "\n",
       "    .dataframe tbody tr th {\n",
       "        vertical-align: top;\n",
       "    }\n",
       "\n",
       "    .dataframe thead th {\n",
       "        text-align: right;\n",
       "    }\n",
       "</style>\n",
       "<table border=\"1\" class=\"dataframe\">\n",
       "  <thead>\n",
       "    <tr style=\"text-align: right;\">\n",
       "      <th></th>\n",
       "      <th>df</th>\n",
       "      <th>df_length</th>\n",
       "    </tr>\n",
       "  </thead>\n",
       "  <tbody>\n",
       "    <tr>\n",
       "      <th>0</th>\n",
       "      <td>conditions</td>\n",
       "      <td>35874</td>\n",
       "    </tr>\n",
       "    <tr>\n",
       "      <th>1</th>\n",
       "      <td>devices</td>\n",
       "      <td>552</td>\n",
       "    </tr>\n",
       "    <tr>\n",
       "      <th>2</th>\n",
       "      <td>encounters</td>\n",
       "      <td>285339</td>\n",
       "    </tr>\n",
       "    <tr>\n",
       "      <th>3</th>\n",
       "      <td>medications</td>\n",
       "      <td>371210</td>\n",
       "    </tr>\n",
       "    <tr>\n",
       "      <th>4</th>\n",
       "      <td>observations</td>\n",
       "      <td>1480409</td>\n",
       "    </tr>\n",
       "    <tr>\n",
       "      <th>5</th>\n",
       "      <td>patients</td>\n",
       "      <td>3539</td>\n",
       "    </tr>\n",
       "    <tr>\n",
       "      <th>6</th>\n",
       "      <td>procedures</td>\n",
       "      <td>134385</td>\n",
       "    </tr>\n",
       "    <tr>\n",
       "      <th>7</th>\n",
       "      <td>providers</td>\n",
       "      <td>13920</td>\n",
       "    </tr>\n",
       "  </tbody>\n",
       "</table>\n",
       "</div>"
      ],
      "text/plain": [
       "             df  df_length\n",
       "0    conditions      35874\n",
       "1       devices        552\n",
       "2    encounters     285339\n",
       "3   medications     371210\n",
       "4  observations    1480409\n",
       "5      patients       3539\n",
       "6    procedures     134385\n",
       "7     providers      13920"
      ]
     },
     "execution_count": 8,
     "metadata": {},
     "output_type": "execute_result"
    }
   ],
   "source": [
    "# Create a dictionary of dfs for each selected csv\n",
    "d = {}\n",
    "for x in df_csv:\n",
    "    d[x.split('.')[0]] = pd.read_csv(x)\n",
    "\n",
    "# Lengths of the respective dataframes to join\n",
    "df_lengths = pd.DataFrame({'df': d.keys(), 'df_length': [d[x].shape[0] for x in d.keys()]})\n",
    "df_lengths"
   ]
  },
  {
   "cell_type": "code",
   "execution_count": 21,
   "metadata": {},
   "outputs": [
    {
     "data": {
      "text/plain": [
       "Index(['PATIENT', 'BIRTHDATE', 'DEATHDATE', 'SSN', 'DRIVERS', 'PASSPORT',\n",
       "       'PREFIX', 'FIRST', 'LAST', 'SUFFIX', 'MAIDEN', 'MARITAL', 'RACE',\n",
       "       'ETHNICITY', 'GENDER', 'BIRTHPLACE', 'ADDRESS', 'CITY', 'STATE',\n",
       "       'COUNTY', 'ZIP', 'LAT', 'LON', 'HEALTHCARE_EXPENSES',\n",
       "       'HEALTHCARE_COVERAGE'],\n",
       "      dtype='object')"
      ]
     },
     "execution_count": 21,
     "metadata": {},
     "output_type": "execute_result"
    }
   ],
   "source": [
    "# Rename columns for join\n",
    "d['patients'].rename(columns={'Id': 'PATIENT'}, inplace=True)\n",
    "d['patients'].columns"
   ]
  },
  {
   "cell_type": "code",
   "execution_count": 22,
   "metadata": {},
   "outputs": [
    {
     "data": {
      "text/plain": [
       "Index(['ENCOUNTER', 'Encounter_start', 'Encounter_stop', 'PATIENT',\n",
       "       'ORGANIZATION', 'PROVIDER', 'PAYER', 'ENCOUNTERCLASS',\n",
       "       'Encounter_classcode', 'Encounter_type', 'BASE_ENCOUNTER_COST',\n",
       "       'TOTAL_CLAIM_COST', 'PAYER_COVERAGE', 'Encounter_reasoncode',\n",
       "       'Encounter_reason'],\n",
       "      dtype='object')"
      ]
     },
     "execution_count": 22,
     "metadata": {},
     "output_type": "execute_result"
    }
   ],
   "source": [
    "# Rename columns for join\n",
    "d['encounters'].rename(columns={'Id': 'ENCOUNTER', 'START': 'Encounter_start', 'STOP': 'Encounter_stop',\n",
    "                                'REASONDESCRIPTION': 'Encounter_reason', 'REASONCODE': \n",
    "                                'Encounter_reasoncode', 'CODE': 'Encounter_classcode', 'DESCRIPTION': \n",
    "                                'Encounter_type'}, inplace=True)\n",
    "d['encounters'].columns"
   ]
  },
  {
   "cell_type": "code",
   "execution_count": 23,
   "metadata": {},
   "outputs": [],
   "source": [
    "# Rename columns for join\n",
    "d['conditions'].rename(columns={'START': 'CONDITION_START', 'STOP': 'CONDITION_STOP',\n",
    "                                'CODE': 'CONDITION_CODE', 'DESCRIPTION': 'CONDITION_DESCRIPTION'}, \n",
    "                                inplace=True)\n",
    "conditions = pd.DataFrame(d['conditions'])\n",
    "conditions.drop(['PATIENT'], axis = 1, inplace=True)"
   ]
  },
  {
   "cell_type": "code",
   "execution_count": 24,
   "metadata": {},
   "outputs": [
    {
     "data": {
      "text/plain": [
       "Index(['PATIENT', 'BIRTHDATE', 'DEATHDATE', 'SSN', 'DRIVERS', 'PASSPORT',\n",
       "       'PREFIX', 'FIRST', 'LAST', 'SUFFIX', 'MAIDEN', 'MARITAL', 'RACE',\n",
       "       'ETHNICITY', 'GENDER', 'BIRTHPLACE', 'ADDRESS', 'CITY', 'STATE',\n",
       "       'COUNTY', 'ZIP', 'LAT', 'LON', 'HEALTHCARE_EXPENSES',\n",
       "       'HEALTHCARE_COVERAGE', 'ENCOUNTER', 'Encounter_start', 'Encounter_stop',\n",
       "       'ORGANIZATION', 'PROVIDER', 'PAYER', 'ENCOUNTERCLASS',\n",
       "       'Encounter_classcode', 'Encounter_type', 'BASE_ENCOUNTER_COST',\n",
       "       'TOTAL_CLAIM_COST', 'PAYER_COVERAGE', 'Encounter_reasoncode',\n",
       "       'Encounter_reason'],\n",
       "      dtype='object')"
      ]
     },
     "execution_count": 24,
     "metadata": {},
     "output_type": "execute_result"
    }
   ],
   "source": [
    "# Merge 'patients' and 'encounter' on patient column\n",
    "large_df = pd.DataFrame(d['patients'].merge(d['encounters'], how='outer', on='PATIENT'))\n",
    "large_df.columns"
   ]
  },
  {
   "cell_type": "code",
   "execution_count": 25,
   "metadata": {},
   "outputs": [
    {
     "data": {
      "text/plain": [
       "Index(['PATIENT', 'BIRTHDATE', 'DEATHDATE', 'MARITAL', 'RACE', 'ETHNICITY',\n",
       "       'GENDER', 'BIRTHPLACE', 'CITY', 'STATE', 'ENCOUNTER', 'Encounter_start',\n",
       "       'Encounter_stop', 'ORGANIZATION', 'PROVIDER', 'PAYER', 'ENCOUNTERCLASS',\n",
       "       'Encounter_classcode', 'Encounter_type', 'Encounter_reasoncode',\n",
       "       'Encounter_reason'],\n",
       "      dtype='object')"
      ]
     },
     "execution_count": 25,
     "metadata": {},
     "output_type": "execute_result"
    }
   ],
   "source": [
    "# Drop irrelevant columns\n",
    "large_df.drop(['SSN', 'DRIVERS', 'PASSPORT', 'PREFIX', 'FIRST', 'LAST', \n",
    "                'SUFFIX', 'MAIDEN', 'ADDRESS', 'COUNTY', 'ZIP', 'LAT', 'LON', \n",
    "                'HEALTHCARE_EXPENSES', 'HEALTHCARE_COVERAGE', 'BASE_ENCOUNTER_COST',\n",
    "                'TOTAL_CLAIM_COST', 'PAYER_COVERAGE'], axis = 1, inplace = True)\n",
    "large_df.columns"
   ]
  },
  {
   "cell_type": "code",
   "execution_count": 26,
   "metadata": {},
   "outputs": [],
   "source": [
    "# Merge current df with 'conditions' on the encounter column\n",
    "large_df = large_df.merge(conditions, how = 'outer', on = 'ENCOUNTER')"
   ]
  },
  {
   "cell_type": "code",
   "execution_count": 27,
   "metadata": {},
   "outputs": [],
   "source": [
    "# Rename columns for join, drop redundant columns \n",
    "d['observations'].rename(columns={'DATE': 'OBSERVATION_DATE', 'CODE': 'OBSERVATION_CODE', \n",
    "                                  'DESCRIPTION': 'OBSERVATION_DESCRIPTION'}, inplace=True)\n",
    "\n",
    "observations = pd.DataFrame(d['observations'])\n",
    "\n",
    "observations.drop(['PATIENT'], axis = 1, inplace=True)"
   ]
  },
  {
   "cell_type": "code",
   "execution_count": 28,
   "metadata": {},
   "outputs": [
    {
     "data": {
      "text/plain": [
       "Index(['PATIENT', 'BIRTHDATE', 'DEATHDATE', 'MARITAL', 'RACE', 'ETHNICITY',\n",
       "       'GENDER', 'BIRTHPLACE', 'CITY', 'STATE', 'ENCOUNTER', 'Encounter_start',\n",
       "       'Encounter_stop', 'ORGANIZATION', 'PROVIDER', 'PAYER', 'ENCOUNTERCLASS',\n",
       "       'Encounter_classcode', 'Encounter_type', 'Encounter_reasoncode',\n",
       "       'Encounter_reason', 'CONDITION_START', 'CONDITION_STOP',\n",
       "       'CONDITION_CODE', 'CONDITION_DESCRIPTION', 'OBSERVATION_DATE',\n",
       "       'OBSERVATION_CODE', 'OBSERVATION_DESCRIPTION', 'VALUE', 'UNITS',\n",
       "       'TYPE'],\n",
       "      dtype='object')"
      ]
     },
     "execution_count": 28,
     "metadata": {},
     "output_type": "execute_result"
    }
   ],
   "source": [
    "# Merge current df with 'observations' on the encounter column\n",
    "large_df = large_df.merge(observations, how = 'outer', on = 'ENCOUNTER')\n",
    "large_df.columns"
   ]
  },
  {
   "cell_type": "code",
   "execution_count": 46,
   "metadata": {},
   "outputs": [],
   "source": [
    "# Rename columns for join, drop redundant columns\n",
    "d['medications'].rename(columns={'START': 'MED_START', 'STOP': 'MED_STOP', 'CODE': 'MED_CODE', \n",
    "                                 'DESCRIPTION': 'MEDICATION', 'REASONDESCRIPTION': 'MEDREASON'}, inplace=True)\n",
    "\n",
    "medications = pd.DataFrame(d['medications'])\n",
    "\n",
    "medications.drop(['PATIENT', 'PAYER', 'BASE_COST', 'PAYER_COVERAGE', 'DISPENSES', \n",
    "                  'TOTALCOST', 'REASONCODE'], axis = 1, inplace=True)"
   ]
  },
  {
   "cell_type": "code",
   "execution_count": 47,
   "metadata": {},
   "outputs": [
    {
     "data": {
      "text/plain": [
       "12801"
      ]
     },
     "execution_count": 47,
     "metadata": {},
     "output_type": "execute_result"
    }
   ],
   "source": [
    "medications['MEDREASON'].str.contains('carcinoma | neoplasm | cancer | malignant').sum()"
   ]
  },
  {
   "cell_type": "code",
   "execution_count": 48,
   "metadata": {},
   "outputs": [
    {
     "data": {
      "text/plain": [
       "Index(['PATIENT', 'BIRTHDATE', 'DEATHDATE', 'MARITAL', 'RACE', 'ETHNICITY',\n",
       "       'GENDER', 'BIRTHPLACE', 'CITY', 'STATE', 'ENCOUNTER', 'Encounter_start',\n",
       "       'Encounter_stop', 'ORGANIZATION', 'PROVIDER', 'PAYER', 'ENCOUNTERCLASS',\n",
       "       'Encounter_classcode', 'Encounter_type', 'Encounter_reasoncode',\n",
       "       'Encounter_reason', 'CONDITION_START', 'CONDITION_STOP',\n",
       "       'CONDITION_CODE', 'CONDITION_DESCRIPTION', 'OBSERVATION_DATE',\n",
       "       'OBSERVATION_CODE', 'OBSERVATION_DESCRIPTION', 'VALUE', 'UNITS', 'TYPE',\n",
       "       'MED_START', 'MED_STOP', 'MED_CODE', 'MEDICATION', 'MEDREASON'],\n",
       "      dtype='object')"
      ]
     },
     "execution_count": 48,
     "metadata": {},
     "output_type": "execute_result"
    }
   ],
   "source": [
    "# Merge current df with 'medicaitons' on the encounter column\n",
    "large_df = large_df.merge(medications, how = 'outer', on = 'ENCOUNTER')\n",
    "large_df.columns"
   ]
  },
  {
   "cell_type": "code",
   "execution_count": 51,
   "metadata": {},
   "outputs": [],
   "source": [
    "# List of date-based columns to convert to datetime\n",
    "date_columns = ['BIRTHDATE', 'DEATHDATE', 'OBSERVATION_DATE', 'MED_START', 'MED_STOP', \n",
    "                'Encounter_start', 'Encounter_stop', 'CONDITION_START']\n",
    "\n",
    "# Convert dates to datetime format\n",
    "for col in date_columns:\n",
    "    large_df[col] = pd.to_datetime(large_df[col])\n",
    "    large_df[col] = large_df[col].dt.date.astype('datetime64[ns]')   "
   ]
  }
 ],
 "metadata": {
  "kernelspec": {
   "display_name": "fuqua",
   "language": "python",
   "name": "python3"
  },
  "language_info": {
   "codemirror_mode": {
    "name": "ipython",
    "version": 3
   },
   "file_extension": ".py",
   "mimetype": "text/x-python",
   "name": "python",
   "nbconvert_exporter": "python",
   "pygments_lexer": "ipython3",
   "version": "3.11.3"
  },
  "orig_nbformat": 4
 },
 "nbformat": 4,
 "nbformat_minor": 2
}
