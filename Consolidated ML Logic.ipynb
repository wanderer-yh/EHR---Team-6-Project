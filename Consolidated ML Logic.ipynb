{
 "cells": [
  {
   "cell_type": "code",
   "execution_count": 2,
   "id": "97255f58",
   "metadata": {},
   "outputs": [],
   "source": [
    "import numpy as np\n",
    "import pandas as pd\n",
    "import os\n",
    "import datetime\n",
    "os.getcwd()\n",
    "\n",
    "from sklearn.model_selection import (\n",
    "    GridSearchCV,\n",
    "    KFold,\n",
    "    train_test_split)\n",
    "from sklearn.ensemble import RandomForestClassifier, AdaBoostClassifier\n",
    "from sklearn.linear_model import Lasso\n",
    "\n",
    "\n",
    "import matplotlib.pyplot as plt\n",
    "import seaborn as sns\n",
    "from sklearn.linear_model import LogisticRegression\n",
    "from sklearn.metrics import (\n",
    "    ConfusionMatrixDisplay,\n",
    "    plot_confusion_matrix,\n",
    "    accuracy_score,\n",
    "    plot_roc_curve,\n",
    "    precision_score,\n",
    "    recall_score,\n",
    "    RocCurveDisplay\n",
    ")\n",
    "\n",
    "from sklearn.naive_bayes import GaussianNB\n",
    "from sklearn.neighbors import KNeighborsClassifier\n",
    "from sklearn.pipeline import make_pipeline\n",
    "from sklearn.preprocessing import StandardScaler\n",
    "from sklearn.svm import SVC\n",
    "from sklearn.feature_selection import RFE\n",
    "from sklearn.model_selection import cross_val_score\n",
    "from sklearn.metrics import make_scorer\n",
    "from sklearn.metrics import confusion_matrix"
   ]
  },
  {
   "cell_type": "code",
   "execution_count": 3,
   "id": "167a3b8f",
   "metadata": {},
   "outputs": [],
   "source": [
    "#Setting Directory:\n",
    "os.chdir('C:/Users/Student/Documents/EHR---Team-6-Project')\n"
   ]
  },
  {
   "cell_type": "code",
   "execution_count": 4,
   "id": "c38012b9",
   "metadata": {},
   "outputs": [],
   "source": [
    "#Loading datasets\n",
    "\n",
    "projectdf = pd.read_csv('NewMemYear.csv')\n",
    "\n",
    "chemo_pats = pd.read_csv('chemo_pats.csv')"
   ]
  },
  {
   "cell_type": "code",
   "execution_count": 5,
   "id": "42d68a62",
   "metadata": {},
   "outputs": [],
   "source": [
    "chemo_pats['START'] = pd.to_datetime(chemo_pats['START'])\n",
    "\n",
    "chemo_pats['MemYear'] = chemo_pats['START'].dt.strftime('%Y')\n",
    "\n",
    "chemo_ohc = chemo_pats[['PATIENT', 'MemYear']].join(pd.get_dummies(chemo_pats['DESCRIPTION'])).groupby(['PATIENT', 'MemYear']).max().reset_index()\n",
    "\n"
   ]
  },
  {
   "cell_type": "code",
   "execution_count": 6,
   "id": "6398f2b0",
   "metadata": {},
   "outputs": [],
   "source": [
    "projectdf.drop(['emergency', 'inpatient', 'outpatient', 'urgentcare', 'wellness', 'ER_Visits', 'Inpt_Admits'], axis=1, inplace=True)"
   ]
  },
  {
   "cell_type": "code",
   "execution_count": 7,
   "id": "10d666f2",
   "metadata": {},
   "outputs": [],
   "source": [
    "projectdf = projectdf.groupby(['PATIENT', 'MemYear']).max()"
   ]
  },
  {
   "cell_type": "code",
   "execution_count": 8,
   "id": "c3a5f8e1",
   "metadata": {},
   "outputs": [],
   "source": [
    "projectdf.reset_index(inplace = True)"
   ]
  },
  {
   "cell_type": "code",
   "execution_count": 9,
   "id": "594560a5",
   "metadata": {},
   "outputs": [],
   "source": [
    "# Assess for null values and fill null conditions with '0'\n",
    "projectdf.isnull().sum()\n",
    "projectdf.fillna(0, inplace=True)"
   ]
  },
  {
   "cell_type": "code",
   "execution_count": 200,
   "id": "edf16d0e",
   "metadata": {},
   "outputs": [],
   "source": [
    "#Cardiac Event\n",
    "Y = projectdf['Cardiac Event']\n",
    "X = projectdf.drop(['PATIENT', 'MemYear', 'Unnamed: 0', 'Cardiac Event', 'Atrial Fibrillation', 'Chronic congestive heart failure (disorder)', 'Coronary Heart Disease', 'Myocardial Infarction', 'Cardiac Arrest', 'DeceasedFlag'], axis=1)"
   ]
  },
  {
   "cell_type": "code",
   "execution_count": 1,
   "id": "e60a54a5",
   "metadata": {},
   "outputs": [
    {
     "ename": "NameError",
     "evalue": "name 'projectdf' is not defined",
     "output_type": "error",
     "traceback": [
      "\u001b[1;31m---------------------------------------------------------------------------\u001b[0m",
      "\u001b[1;31mNameError\u001b[0m                                 Traceback (most recent call last)",
      "Input \u001b[1;32mIn [1]\u001b[0m, in \u001b[0;36m<cell line: 2>\u001b[1;34m()\u001b[0m\n\u001b[0;32m      1\u001b[0m \u001b[38;5;66;03m#Afib\u001b[39;00m\n\u001b[1;32m----> 2\u001b[0m Y \u001b[38;5;241m=\u001b[39m \u001b[43mprojectdf\u001b[49m[\u001b[38;5;124m'\u001b[39m\u001b[38;5;124mAtrial Fibrillation\u001b[39m\u001b[38;5;124m'\u001b[39m]\n\u001b[0;32m      3\u001b[0m X \u001b[38;5;241m=\u001b[39m projectdf\u001b[38;5;241m.\u001b[39mdrop([\u001b[38;5;124m'\u001b[39m\u001b[38;5;124mPATIENT\u001b[39m\u001b[38;5;124m'\u001b[39m, \u001b[38;5;124m'\u001b[39m\u001b[38;5;124mMemYear\u001b[39m\u001b[38;5;124m'\u001b[39m, \u001b[38;5;124m'\u001b[39m\u001b[38;5;124mUnnamed: 0\u001b[39m\u001b[38;5;124m'\u001b[39m, \u001b[38;5;124m'\u001b[39m\u001b[38;5;124mCardiac Event\u001b[39m\u001b[38;5;124m'\u001b[39m, \u001b[38;5;124m'\u001b[39m\u001b[38;5;124mAtrial Fibrillation\u001b[39m\u001b[38;5;124m'\u001b[39m, \u001b[38;5;124m'\u001b[39m\u001b[38;5;124mDeceasedFlag\u001b[39m\u001b[38;5;124m'\u001b[39m], axis\u001b[38;5;241m=\u001b[39m\u001b[38;5;241m1\u001b[39m)\n",
      "\u001b[1;31mNameError\u001b[0m: name 'projectdf' is not defined"
     ]
    }
   ],
   "source": [
    "#Afib\n",
    "Y = projectdf['Atrial Fibrillation']\n",
    "X = projectdf.drop(['PATIENT', 'MemYear', 'Unnamed: 0', 'Cardiac Event', 'Atrial Fibrillation', 'DeceasedFlag'], axis=1)"
   ]
  },
  {
   "cell_type": "code",
   "execution_count": 10,
   "id": "995379bf",
   "metadata": {},
   "outputs": [],
   "source": [
    "#CHF\n",
    "Y = projectdf['Chronic congestive heart failure (disorder)']\n",
    "X = projectdf.drop(['PATIENT', 'MemYear', 'Unnamed: 0', 'Cardiac Event', 'Chronic congestive heart failure (disorder)', 'DeceasedFlag'], axis=1)"
   ]
  },
  {
   "cell_type": "code",
   "execution_count": 163,
   "id": "e17e0639",
   "metadata": {},
   "outputs": [],
   "source": [
    "#CHD\n",
    "Y = projectdf['Coronary Heart Disease']\n",
    "X = projectdf.drop(['PATIENT', 'MemYear', 'Unnamed: 0', 'Cardiac Event', 'DeceasedFlag','Coronary Heart Disease'], axis=1)"
   ]
  },
  {
   "cell_type": "code",
   "execution_count": 201,
   "id": "24e5ee15",
   "metadata": {},
   "outputs": [],
   "source": [
    "#MI\n",
    "Y = projectdf['Myocardial Infarction']\n",
    "X = projectdf.drop(['PATIENT', 'MemYear', 'Unnamed: 0', 'Cardiac Event', 'Myocardial Infarction', 'DeceasedFlag'], axis=1)"
   ]
  },
  {
   "cell_type": "code",
   "execution_count": 238,
   "id": "3d7a4ba9",
   "metadata": {},
   "outputs": [],
   "source": [
    "#Cardiac Arrest\n",
    "Y = projectdf['Cardiac Arrest']\n",
    "X = projectdf.drop(['PATIENT', 'MemYear', 'Unnamed: 0', 'Cardiac Event', 'Cardiac Arrest', 'DeceasedFlag'], axis=1)"
   ]
  },
  {
   "cell_type": "code",
   "execution_count": 11,
   "id": "2f2c87b1",
   "metadata": {},
   "outputs": [],
   "source": [
    "X_train, X_test, Y_train, Y_test = train_test_split(X, Y, test_size=0.30, random_state=42)"
   ]
  },
  {
   "cell_type": "code",
   "execution_count": 12,
   "id": "3a18d350",
   "metadata": {},
   "outputs": [],
   "source": [
    "rfc = RandomForestClassifier(random_state=42)\n",
    "rfc.get_params()\n",
    "\n",
    "param_grid = {\n",
    "            'max_depth': [5, 10, 15, 20, 25],\n",
    "            'n_estimators': [10, 15, 25, 50, 100],\n",
    "            'n_jobs': [-1]}\n",
    "\n",
    "cv = KFold(n_splits=5)\n"
   ]
  },
  {
   "cell_type": "code",
   "execution_count": 13,
   "id": "e97a90ea",
   "metadata": {},
   "outputs": [],
   "source": [
    "cv_mod = GridSearchCV(rfc, param_grid=param_grid, cv=cv)"
   ]
  },
  {
   "cell_type": "code",
   "execution_count": 14,
   "id": "666961c3",
   "metadata": {},
   "outputs": [
    {
     "data": {
      "text/plain": [
       "{'max_depth': 5, 'n_estimators': 10, 'n_jobs': -1}"
      ]
     },
     "execution_count": 14,
     "metadata": {},
     "output_type": "execute_result"
    }
   ],
   "source": [
    "gridcv = cv_mod.fit(X_train, Y_train)\n",
    "gridcv.best_params_"
   ]
  },
  {
   "cell_type": "code",
   "execution_count": 243,
   "id": "191dcdea",
   "metadata": {},
   "outputs": [
    {
     "data": {
      "image/png": "[encoded data removed]",
      "text/plain": [
       "<Figure size 432x288 with 2 Axes>"
      ]
     },
     "metadata": {
      "needs_background": "light"
     },
     "output_type": "display_data"
    }
   ],
   "source": [
    "_ = ConfusionMatrixDisplay.from_estimator(gridcv.best_estimator_, X_test, Y_test)"
   ]
  },
  {
   "cell_type": "code",
   "execution_count": 244,
   "id": "1e949637",
   "metadata": {},
   "outputs": [
    {
     "data": {
      "text/plain": [
       "0.0"
      ]
     },
     "execution_count": 244,
     "metadata": {},
     "output_type": "execute_result"
    }
   ],
   "source": [
    "recall_score(Y_test, gridcv.best_estimator_.predict(X_test))"
   ]
  },
  {
   "cell_type": "code",
   "execution_count": 245,
   "id": "415b57f7",
   "metadata": {},
   "outputs": [
    {
     "name": "stderr",
     "output_type": "stream",
     "text": [
      "C:\\Users\\Student\\anaconda3\\lib\\site-packages\\sklearn\\metrics\\_classification.py:1318: UndefinedMetricWarning: Precision is ill-defined and being set to 0.0 due to no predicted samples. Use `zero_division` parameter to control this behavior.\n",
      "  _warn_prf(average, modifier, msg_start, len(result))\n"
     ]
    },
    {
     "data": {
      "text/plain": [
       "0.0"
      ]
     },
     "execution_count": 245,
     "metadata": {},
     "output_type": "execute_result"
    }
   ],
   "source": [
    "precision_score(Y_test, gridcv.best_estimator_.predict(X_test))"
   ]
  },
  {
   "cell_type": "code",
   "execution_count": 246,
   "id": "578ae9dd",
   "metadata": {},
   "outputs": [
    {
     "data": {
      "text/plain": [
       "0.9981132075471698"
      ]
     },
     "execution_count": 246,
     "metadata": {},
     "output_type": "execute_result"
    }
   ],
   "source": [
    "accuracy_score(Y_test, gridcv.best_estimator_.predict(X_test))"
   ]
  },
  {
   "cell_type": "code",
   "execution_count": 247,
   "id": "8a619526",
   "metadata": {},
   "outputs": [],
   "source": [
    "ada = AdaBoostClassifier(random_state=42)\n",
    "ada.get_params()\n",
    "\n",
    "param_grid = {\n",
    "            'learning_rate': [0.5, 0.8, 15],\n",
    "            'n_estimators': [10, 15, 25, 50, 100],\n",
    "            'n_jobs': [-1]}\n",
    "\n",
    "cv = KFold(n_splits=5)\n"
   ]
  },
  {
   "cell_type": "code",
   "execution_count": 248,
   "id": "03bc1171",
   "metadata": {},
   "outputs": [],
   "source": [
    "adacv_mod = GridSearchCV(ada, param_grid=param_grid, cv=cv)"
   ]
  },
  {
   "cell_type": "code",
   "execution_count": 249,
   "id": "7a0e5e9b",
   "metadata": {},
   "outputs": [
    {
     "data": {
      "text/plain": [
       "{'max_depth': 5, 'n_estimators': 10, 'n_jobs': -1}"
      ]
     },
     "execution_count": 249,
     "metadata": {},
     "output_type": "execute_result"
    }
   ],
   "source": [
    "adagridcv = cv_mod.fit(X_train, Y_train)\n",
    "adagridcv.best_params_"
   ]
  },
  {
   "cell_type": "code",
   "execution_count": 250,
   "id": "3ed756a8",
   "metadata": {},
   "outputs": [
    {
     "data": {
      "image/png": "[encoded data removed]",
      "text/plain": [
       "<Figure size 432x288 with 2 Axes>"
      ]
     },
     "metadata": {
      "needs_background": "light"
     },
     "output_type": "display_data"
    }
   ],
   "source": [
    "_ = ConfusionMatrixDisplay.from_estimator(adagridcv.best_estimator_, X_test, Y_test)"
   ]
  },
  {
   "cell_type": "code",
   "execution_count": 251,
   "id": "adcf6f5a",
   "metadata": {},
   "outputs": [
    {
     "data": {
      "text/plain": [
       "0.9981132075471698"
      ]
     },
     "execution_count": 251,
     "metadata": {},
     "output_type": "execute_result"
    }
   ],
   "source": [
    "accuracy_score(Y_test, adagridcv.best_estimator_.predict(X_test))"
   ]
  },
  {
   "cell_type": "code",
   "execution_count": 252,
   "id": "a692f61a",
   "metadata": {},
   "outputs": [
    {
     "name": "stderr",
     "output_type": "stream",
     "text": [
      "C:\\Users\\Student\\anaconda3\\lib\\site-packages\\sklearn\\metrics\\_classification.py:1318: UndefinedMetricWarning: Precision is ill-defined and being set to 0.0 due to no predicted samples. Use `zero_division` parameter to control this behavior.\n",
      "  _warn_prf(average, modifier, msg_start, len(result))\n"
     ]
    },
    {
     "data": {
      "text/plain": [
       "0.0"
      ]
     },
     "execution_count": 252,
     "metadata": {},
     "output_type": "execute_result"
    }
   ],
   "source": [
    "precision_score(Y_test, adagridcv.best_estimator_.predict(X_test))"
   ]
  },
  {
   "cell_type": "code",
   "execution_count": 253,
   "id": "17d9e3eb",
   "metadata": {},
   "outputs": [
    {
     "data": {
      "text/plain": [
       "0.0"
      ]
     },
     "execution_count": 253,
     "metadata": {},
     "output_type": "execute_result"
    }
   ],
   "source": [
    "recall_score(Y_test, adagridcv.best_estimator_.predict(X_test))"
   ]
  },
  {
   "cell_type": "code",
   "execution_count": 254,
   "id": "fb9f13b6",
   "metadata": {},
   "outputs": [],
   "source": [
    "k_fold = KFold(n_splits=2, shuffle=True, random_state=42) #setting up our number of folds"
   ]
  },
  {
   "cell_type": "code",
   "execution_count": 255,
   "id": "b7443972",
   "metadata": {},
   "outputs": [],
   "source": [
    "#logspace-- what power base 10 are we raising to\n",
    "C_candidates = np.logspace(-2, 0, 20) #Grid of 20 points between 10^-2 and 10^0 (which is 1)\n",
    "gamma_candidates = np.logspace(-2, 1, 20) #Grid of 20 points between 10^-2 and 10^1 (which is 10)"
   ]
  },
  {
   "cell_type": "code",
   "execution_count": 256,
   "id": "4ea18cf0",
   "metadata": {},
   "outputs": [],
   "source": [
    "svm_pipeline = make_pipeline(StandardScaler(),  \n",
    "                             SVC(random_state=42))"
   ]
  },
  {
   "cell_type": "code",
   "execution_count": 257,
   "id": "adfa4fd8",
   "metadata": {},
   "outputs": [],
   "source": [
    "grid_search_cv = GridSearchCV(svm_pipeline, \n",
    "                              dict(svc__C=C_candidates, svc__gamma=gamma_candidates), \n",
    "                              cv=k_fold).fit(X_train, Y_train) "
   ]
  },
  {
   "cell_type": "code",
   "execution_count": 258,
   "id": "c1d055c0",
   "metadata": {},
   "outputs": [
    {
     "data": {
      "text/plain": [
       "{'svc__C': 1.0, 'svc__gamma': 0.01}"
      ]
     },
     "execution_count": 258,
     "metadata": {},
     "output_type": "execute_result"
    }
   ],
   "source": [
    "grid_search_cv.best_params_"
   ]
  },
  {
   "cell_type": "code",
   "execution_count": 259,
   "id": "68cab540",
   "metadata": {},
   "outputs": [
    {
     "data": {
      "image/png": "[encoded data removed]",
      "text/plain": [
       "<Figure size 432x288 with 2 Axes>"
      ]
     },
     "metadata": {
      "needs_background": "light"
     },
     "output_type": "display_data"
    }
   ],
   "source": [
    "_ = ConfusionMatrixDisplay.from_estimator(grid_search_cv.best_estimator_, X_test, Y_test)"
   ]
  },
  {
   "cell_type": "code",
   "execution_count": 260,
   "id": "2ca41974",
   "metadata": {},
   "outputs": [
    {
     "data": {
      "text/plain": [
       "1.0"
      ]
     },
     "execution_count": 260,
     "metadata": {},
     "output_type": "execute_result"
    }
   ],
   "source": [
    "precision_score(Y_test, grid_search_cv.best_estimator_.predict(X_test))"
   ]
  },
  {
   "cell_type": "code",
   "execution_count": 261,
   "id": "0544b3ee",
   "metadata": {},
   "outputs": [
    {
     "data": {
      "text/plain": [
       "0.6666666666666666"
      ]
     },
     "execution_count": 261,
     "metadata": {},
     "output_type": "execute_result"
    }
   ],
   "source": [
    "recall_score(Y_test, grid_search_cv.best_estimator_.predict(X_test))"
   ]
  },
  {
   "cell_type": "code",
   "execution_count": 262,
   "id": "7905c19f",
   "metadata": {},
   "outputs": [
    {
     "data": {
      "text/plain": [
       "0.9993710691823899"
      ]
     },
     "execution_count": 262,
     "metadata": {},
     "output_type": "execute_result"
    }
   ],
   "source": [
    "accuracy_score(Y_test, grid_search_cv.best_estimator_.predict(X_test))"
   ]
  },
  {
   "cell_type": "code",
   "execution_count": 263,
   "id": "5acd5785",
   "metadata": {},
   "outputs": [
    {
     "data": {
      "image/png": "[encoded data removed]",
      "text/plain": [
       "<Figure size 432x288 with 1 Axes>"
      ]
     },
     "metadata": {
      "needs_background": "light"
     },
     "output_type": "display_data"
    }
   ],
   "source": [
    "_ = RocCurveDisplay.from_estimator(grid_search_cv.best_estimator_, X_test, Y_test)"
   ]
  },
  {
   "cell_type": "code",
   "execution_count": 15,
   "id": "67830030",
   "metadata": {},
   "outputs": [],
   "source": [
    "#define the value for confusion matrix results\n",
    "def value_function(y_true, y_pred, tn_value=10, fp_value=-10, fn_value=-100, tp_value=100):\n",
    "    sum_ = y_pred + y_true\n",
    "    diff_ = y_pred - y_true\n",
    "    tn_contrib = tn_value * np.mean((sum_ == 0) & (diff_ == 0))\n",
    "    fp_contrib = fp_value * np.mean((sum_ == 1) & (diff_ == 1))\n",
    "    fn_contrib = fn_value * np.mean((sum_ == 1) & (diff_ == -1))\n",
    "    tp_contrib = tp_value * np.mean((sum_ == 2) & (diff_ == 0))\n",
    "    return tn_contrib + fp_contrib + fn_contrib + tp_contrib"
   ]
  },
  {
   "cell_type": "code",
   "execution_count": 16,
   "id": "8dd005a6",
   "metadata": {},
   "outputs": [],
   "source": [
    "# Create function for making intervention to patients based on prediction\n",
    "\n",
    "def intervine_patients(model, X, Y, fp_value=-10, tp_value=100):\n",
    "    tp_contrib = np.sum((model.predict(X) > 0) & (Y > 0)) * tp_value\n",
    "    fp_contrib = np.sum((model.predict(X) > 0) & (Y < 1)) * fp_value\n",
    "    return tp_contrib + fp_contrib"
   ]
  },
  {
   "cell_type": "code",
   "execution_count": 17,
   "id": "f6b32caf",
   "metadata": {},
   "outputs": [
    {
     "name": "stdout",
     "output_type": "stream",
     "text": [
      "Feature: white, Rank: 39\n",
      "Feature: Age, Rank: 59\n",
      "Feature: Body mass index 30+ - obesity (finding), Rank: 55\n",
      "Feature: Chronic sinusitis (disorder), Rank: 46\n",
      "Feature: Hyperlipidemia, Rank: 62\n",
      "Accuracy: 0.9943396226415094\n"
     ]
    }
   ],
   "source": [
    "# Initialize the Random Forest classifier\n",
    "rf = RandomForestClassifier(n_estimators=100, random_state=42)\n",
    "\n",
    "# Initialize the RFE object with the Random Forest model and the desired number of features to select\n",
    "rfe = RFE(estimator=rf, n_features_to_select=5)\n",
    "\n",
    "# Fit RFE to the training data\n",
    "rfe.fit(X_train, Y_train)\n",
    "\n",
    "# Get the selected features and their rankings\n",
    "selected_features = X_train.columns[rfe.support_]\n",
    "feature_rankings = rfe.ranking_\n",
    "\n",
    "# Print the selected features and their rankings\n",
    "for feature, rank in zip(selected_features, feature_rankings):\n",
    "    print(f\"Feature: {feature}, Rank: {rank}\")\n",
    "\n",
    "# Train the Random Forest model on the selected features\n",
    "rf.fit(X_train[selected_features], Y_train)\n",
    "\n",
    "# Evaluate the model on the test set\n",
    "accuracy = rf.score(X_test[selected_features], Y_test)\n",
    "print(f\"Accuracy: {accuracy}\")"
   ]
  },
  {
   "cell_type": "code",
   "execution_count": 18,
   "id": "aea2c044",
   "metadata": {},
   "outputs": [],
   "source": [
    "# Update data with selected feature \n",
    "X_train_selected = X_train[selected_features]\n",
    "X_test_selected = X_test[selected_features]\n"
   ]
  },
  {
   "cell_type": "code",
   "execution_count": 19,
   "id": "6e1470bd",
   "metadata": {},
   "outputs": [
    {
     "data": {
      "text/plain": [
       "RandomForestClassifier(random_state=42)"
      ]
     },
     "execution_count": 19,
     "metadata": {},
     "output_type": "execute_result"
    }
   ],
   "source": [
    "# Update model with selected feature\n",
    "rf_selected = RandomForestClassifier(n_estimators=100, random_state=42)\n",
    "rf_selected.fit(X_train_selected, Y_train)"
   ]
  },
  {
   "cell_type": "code",
   "execution_count": 20,
   "id": "2671f687",
   "metadata": {},
   "outputs": [
    {
     "name": "stdout",
     "output_type": "stream",
     "text": [
      "Cross-Validation Accuracy Scores:\n",
      "[0.98787062 0.98921833 0.98382749 0.99055331 0.98920378]\n",
      "Mean Accuracy: 0.9881347054137521\n"
     ]
    }
   ],
   "source": [
    "# Perform cross-validation and compute accuracy\n",
    "cv_scores = cross_val_score(rf_selected, X_train_selected, Y_train, cv=5)  # Set the number of folds as desired\n",
    "mean_accuracy = cv_scores.mean()\n",
    "\n",
    "print(\"Cross-Validation Accuracy Scores:\")\n",
    "print(cv_scores)\n",
    "print(\"Mean Accuracy:\", mean_accuracy)"
   ]
  },
  {
   "cell_type": "code",
   "execution_count": 21,
   "id": "7b359588",
   "metadata": {},
   "outputs": [
    {
     "data": {
      "text/plain": [
       "0.9943396226415094"
      ]
     },
     "execution_count": 21,
     "metadata": {},
     "output_type": "execute_result"
    }
   ],
   "source": [
    "accuracy_score(Y_test, rf_selected.predict(X_test_selected))"
   ]
  },
  {
   "cell_type": "code",
   "execution_count": 22,
   "id": "ac6d2346",
   "metadata": {},
   "outputs": [
    {
     "data": {
      "text/plain": [
       "0.0"
      ]
     },
     "execution_count": 22,
     "metadata": {},
     "output_type": "execute_result"
    }
   ],
   "source": [
    "precision_score(Y_test, rf_selected.predict(X_test_selected))"
   ]
  },
  {
   "cell_type": "code",
   "execution_count": 23,
   "id": "544aa14a",
   "metadata": {},
   "outputs": [
    {
     "data": {
      "text/plain": [
       "0.0"
      ]
     },
     "execution_count": 23,
     "metadata": {},
     "output_type": "execute_result"
    }
   ],
   "source": [
    "recall_score(Y_test, rf_selected.predict(X_test_selected))"
   ]
  },
  {
   "cell_type": "code",
   "execution_count": 24,
   "id": "9462ce4c",
   "metadata": {},
   "outputs": [
    {
     "data": {
      "text/plain": [
       "-10"
      ]
     },
     "execution_count": 24,
     "metadata": {},
     "output_type": "execute_result"
    }
   ],
   "source": [
    "# Compute the value function for the Random \n",
    "rf_y_test = rf_selected.predict(X_test_selected)\n",
    "rf_value = value_function(Y_test,rf_y_test)\n",
    "\n",
    "rf_impacts = intervine_patients(rf_selected, X_test_selected, Y_test)\n",
    "\n",
    "rf_impacts"
   ]
  },
  {
   "cell_type": "code",
   "execution_count": 25,
   "id": "86943eec",
   "metadata": {},
   "outputs": [
    {
     "data": {
      "image/png": "[encoded data removed]",
      "text/plain": [
       "<Figure size 576x432 with 1 Axes>"
      ]
     },
     "metadata": {
      "needs_background": "light"
     },
     "output_type": "display_data"
    },
    {
     "data": {
      "image/png": "[encoded data removed]",
      "text/plain": [
       "<Figure size 576x432 with 2 Axes>"
      ]
     },
     "metadata": {
      "needs_background": "light"
     },
     "output_type": "display_data"
    }
   ],
   "source": [
    "# Visualize feature importances\n",
    "feature_importances = rf_selected.feature_importances_\n",
    "plt.figure(figsize=(8, 6))\n",
    "sns.barplot(x=feature_importances, y=selected_features)\n",
    "plt.xlabel(\"Feature Importance\")\n",
    "plt.ylabel(\"Features\")\n",
    "plt.title(\"Random Forest Feature Importances\")\n",
    "plt.show()\n",
    "\n",
    "# Generate confusion matrix\n",
    "y_pred = rf_selected.predict(X_test_selected)\n",
    "cm = confusion_matrix(Y_test, y_pred)\n",
    "\n",
    "# Visualize confusion matrix\n",
    "plt.figure(figsize=(8, 6))\n",
    "sns.heatmap(cm, annot=True, fmt=\"d\", cmap=\"Blues\")\n",
    "plt.xlabel(\"Predicted Labels\")\n",
    "plt.ylabel(\"True Labels\")\n",
    "plt.title(\"Confusion Matrix\")\n",
    "plt.show()"
   ]
  }
 ],
 "metadata": {
  "kernelspec": {
   "display_name": "Python 3 (ipykernel)",
   "language": "python",
   "name": "python3"
  },
  "language_info": {
   "codemirror_mode": {
    "name": "ipython",
    "version": 3
   },
   "file_extension": ".py",
   "mimetype": "text/x-python",
   "name": "python",
   "nbconvert_exporter": "python",
   "pygments_lexer": "ipython3",
   "version": "3.9.12"
  }
 },
 "nbformat": 4,
 "nbformat_minor": 5
}
