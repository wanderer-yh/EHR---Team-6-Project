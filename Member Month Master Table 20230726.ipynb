{
 "cells": [
  {
   "cell_type": "markdown",
   "metadata": {},
   "source": [
    "In this file, patient conditions (diseases) are queried to find all patients with a history of cancer who also have cardiac issues (not assessed chronoclogically yet). I also compiled a list of chemotherapies from the medications.csv file and looked to see how many patients have been exposed to chemo."
   ]
  },
  {
   "cell_type": "code",
   "execution_count": 2,
   "metadata": {},
   "outputs": [],
   "source": [
    "import numpy as np\n",
    "import pandas as pd\n",
    "import os\n",
    "from datetime import datetime, timedelta\n",
    "from dateutil.relativedelta import relativedelta"
   ]
  },
  {
   "cell_type": "code",
   "execution_count": 3,
   "metadata": {},
   "outputs": [],
   "source": [
    "os.chdir('C:/Users/Student/Documents/EHR---Team-6-Project')"
   ]
  },
  {
   "cell_type": "code",
   "execution_count": 4,
   "metadata": {},
   "outputs": [],
   "source": [
    "# Load the conditions.csv df into a list and determine unique values\n",
    "conditions = pd.read_csv('conditions.csv')\n",
    "\n",
    "r_time = pd.read_csv('r_time.csv')\n",
    "\n",
    "chemo_patients = pd.read_csv('chemo_patients.csv')\n",
    "\n",
    "cardiac_patients = pd.read_csv('cardiac_patients.csv')\n",
    "\n",
    "cancer_patients = pd.read_csv('cancer_patients.csv')\n",
    "\n",
    "patients = pd.read_csv('PatientData.csv')"
   ]
  },
  {
   "cell_type": "code",
   "execution_count": 5,
   "metadata": {},
   "outputs": [],
   "source": [
    "condition_list = ['Body mass index 30+ - obesity (finding)', 'Prediabetes',\n",
    "       'Anemia (disorder)', 'Hypertension', 'Diabetes',\n",
    "       'Hypertriglyceridemia (disorder)',\n",
    "       'Metabolic syndrome X (disorder)', 'Hyperglycemia (disorder)',\n",
    "       'Chronic obstructive bronchitis (disorder)', 'Hyperlipidemia',\n",
    "       'Chronic kidney disease stage 1 (disorder)',\n",
    "       'Stroke',\n",
    "       'Shock (disorder)',\n",
    "       'Neuropathy due to type 2 diabetes mellitus (disorder)',\n",
    "       'Diabetic retinopathy associated with type II diabetes mellitus (disorder)',\n",
    "       'Pulmonary emphysema (disorder)',\n",
    "       'Alcoholism', \n",
    "       'Nonproliferative diabetic retinopathy due to type 2 diabetes mellitus (disorder)',\n",
    "       'Macular edema and retinopathy due to type 2 diabetes mellitus (disorder)',\n",
    "       'Proliferative diabetic retinopathy due to type II diabetes mellitus (disorder)',\n",
    "       'Rheumatoid arthritis',\n",
    "       'Body mass index 40+ - severely obese (finding)',\n",
    "       'Opioid abuse (disorder)', \n",
    "       'Primary fibromyalgia syndrome', \n",
    "       'Chronic kidney disease stage 2 (disorder)',\n",
    "       'Microalbuminuria due to type 2 diabetes mellitus (disorder)',\n",
    "       'Blindness due to type 2 diabetes mellitus (disorder)',\n",
    "       'Cystic Fibrosis',\n",
    "       'Diabetes from Cystic Fibrosis',\n",
    "       'Acute respiratory failure (disorder)', 'Lupus erythematosus',\n",
    "       'Chronic kidney disease stage 3 (disorder)',\n",
    "       'Proteinuria due to type 2 diabetes mellitus (disorder)']"
   ]
  },
  {
   "cell_type": "code",
   "execution_count": 6,
   "metadata": {},
   "outputs": [],
   "source": [
    "#Creating dataframes having equivalent number of rows in order to join together, will filter to appropriate date ranges in later step\n",
    "cancer_patients_repeated = pd.concat([cancer_patients] * len(r_time), ignore_index=True)\n",
    "r_time_repeated = pd.concat([r_time] * len(cancer_patients), ignore_index=True)"
   ]
  },
  {
   "cell_type": "code",
   "execution_count": 7,
   "metadata": {},
   "outputs": [],
   "source": [
    "#Dropping duplicates\n",
    "chemo_patients = chemo_patients.drop_duplicates()"
   ]
  },
  {
   "cell_type": "code",
   "execution_count": 8,
   "metadata": {},
   "outputs": [],
   "source": [
    "#Effectively, joining our repeated member month table to our repeated cancer patients table \n",
    "cancer_patients_repeated['PatMonth'] = r_time_repeated['PatMonth']"
   ]
  },
  {
   "cell_type": "code",
   "execution_count": 9,
   "metadata": {},
   "outputs": [],
   "source": [
    "#Converting the START column to datetime\n",
    "cancer_patients_repeated['START'] = pd.to_datetime(cancer_patients_repeated['START'])"
   ]
  },
  {
   "cell_type": "code",
   "execution_count": 10,
   "metadata": {},
   "outputs": [],
   "source": [
    "#Creating First DOM Field for Filter\n",
    "cancer_patients_repeated['START_FLOOR'] = (cancer_patients_repeated['START'].dt.floor('d') + pd.offsets.MonthEnd(0) - pd.offsets.MonthBegin(1))"
   ]
  },
  {
   "cell_type": "code",
   "execution_count": 11,
   "metadata": {},
   "outputs": [],
   "source": [
    "#Filtering down to rows only between start and stop date values\n",
    "PatMonths = cancer_patients_repeated.query('PatMonth >= START_FLOOR and PatMonth <= STOP').sort_values(by = ['PatMonth', 'PATIENT']).reset_index()\n",
    "\n",
    "#Dropping unneeded columns\n",
    "PatMonths.drop(columns=PatMonths.columns[[0, -1]], axis = 1, inplace = True)"
   ]
  },
  {
   "cell_type": "code",
   "execution_count": 12,
   "metadata": {},
   "outputs": [],
   "source": [
    "#Transforming into one hot encoded values\n",
    "PatMonthsWide = PatMonths[['PATIENT', 'START', 'STOP', 'PatMonth']].join(pd.get_dummies(PatMonths['DESCRIPTION'])).groupby(['PATIENT', 'START', 'STOP', 'PatMonth']).max().reset_index()"
   ]
  },
  {
   "cell_type": "code",
   "execution_count": 13,
   "metadata": {},
   "outputs": [],
   "source": [
    "#Joining Patient Data\n",
    "PatMonthsWide = PatMonthsWide.merge(patients, left_on = 'PATIENT', right_on = 'Id', how = 'inner')"
   ]
  },
  {
   "cell_type": "code",
   "execution_count": 14,
   "metadata": {},
   "outputs": [],
   "source": [
    "#Joining Cardiac and MemMonths\n",
    "PatMonthsWide = PatMonthsWide.merge(cardiac_patients, on = ['PATIENT', 'PatMonth'], how = 'left')"
   ]
  },
  {
   "cell_type": "code",
   "execution_count": 15,
   "metadata": {},
   "outputs": [],
   "source": [
    "#Converting the BIRTHDATE column to datetime\n",
    "PatMonthsWide['BIRTHDATE'] = pd.to_datetime(PatMonthsWide['BIRTHDATE'])\n",
    "\n",
    "PatMonthsWide['PatMonth'] = pd.to_datetime(PatMonthsWide['PatMonth'])\n",
    "\n",
    "PatMonthsWide['DEATHDATE'] = pd.to_datetime(PatMonthsWide['DEATHDATE'])"
   ]
  },
  {
   "cell_type": "code",
   "execution_count": 16,
   "metadata": {},
   "outputs": [],
   "source": [
    "#Creating Age Field\n",
    "PatMonthsWide['Age'] = PatMonthsWide.apply(lambda x: relativedelta(x['PatMonth'], x['BIRTHDATE']).years, axis=1)"
   ]
  },
  {
   "cell_type": "code",
   "execution_count": 17,
   "metadata": {},
   "outputs": [],
   "source": [
    "#Creating Deceased Flag\n",
    "PatMonthsWide['DeceasedFlag'] = (PatMonthsWide['PatMonth'] == (PatMonthsWide['DEATHDATE'].dt.floor('d') + pd.offsets.MonthEnd(0) - pd.offsets.MonthBegin(1))).astype(int)"
   ]
  },
  {
   "cell_type": "code",
   "execution_count": 18,
   "metadata": {},
   "outputs": [],
   "source": [
    "#Dropping rows after patient had passed\n",
    "PatMonthsWide = PatMonthsWide.query('PatMonth <= DEATHDATE').reset_index()"
   ]
  },
  {
   "cell_type": "code",
   "execution_count": 19,
   "metadata": {},
   "outputs": [],
   "source": [
    "#Dropping Unneeded Fields\n",
    "PatMonthsWide.drop(['Id', 'BIRTHDATE', 'DEATHDATE', 'START', 'index'], axis = 1, inplace = True)"
   ]
  },
  {
   "cell_type": "code",
   "execution_count": 20,
   "metadata": {},
   "outputs": [],
   "source": [
    "#Converting to appropriate data type for join\n",
    "chemo_patients['PatMonth'] = pd.to_datetime(chemo_patients['PatMonth'])"
   ]
  },
  {
   "cell_type": "code",
   "execution_count": 21,
   "metadata": {},
   "outputs": [],
   "source": [
    "#Joining Chemo Patients to Pat Month Table\n",
    "PatMonthsWide = PatMonthsWide.merge(chemo_patients, on = ['PATIENT', 'PatMonth'], how = 'left')"
   ]
  },
  {
   "cell_type": "code",
   "execution_count": 22,
   "metadata": {},
   "outputs": [],
   "source": [
    "#Filling NaN values with 0s\n",
    "PatMonthsWide.fillna(0, inplace = True)"
   ]
  },
  {
   "cell_type": "code",
   "execution_count": 23,
   "metadata": {},
   "outputs": [],
   "source": [
    "#Reducing conditions dataframe to only include patient data with chemo & storing in Condition_df\n",
    "Condition_df = conditions[conditions['PATIENT'].isin(chemo_patients['PATIENT'])==True].reset_index()"
   ]
  },
  {
   "cell_type": "code",
   "execution_count": 24,
   "metadata": {},
   "outputs": [],
   "source": [
    "#Changing NaN values to Current Date\n",
    "Condition_df['STOP'] = Condition_df['STOP'].replace(np.nan, '2021-08-01')"
   ]
  },
  {
   "cell_type": "code",
   "execution_count": 25,
   "metadata": {},
   "outputs": [],
   "source": [
    "#Converting the STOP column to datetime\n",
    "Condition_df['STOP'] = pd.to_datetime(Condition_df['STOP'])"
   ]
  },
  {
   "cell_type": "code",
   "execution_count": 26,
   "metadata": {},
   "outputs": [],
   "source": [
    "#Converting the START column to datetime\n",
    "Condition_df['START'] = pd.to_datetime(Condition_df['START'])"
   ]
  },
  {
   "cell_type": "code",
   "execution_count": 27,
   "metadata": {},
   "outputs": [],
   "source": [
    "#Creating dataframes having equivalent number of rows in order to join together\n",
    "#This is filtered to appropriate date ranges in later step\n",
    "Condition_df_repeated = pd.concat([Condition_df] * len(r_time), ignore_index=True)\n",
    "r_time_repeated_Cond = pd.concat([r_time] * len(Condition_df), ignore_index=True)"
   ]
  },
  {
   "cell_type": "code",
   "execution_count": 28,
   "metadata": {},
   "outputs": [],
   "source": [
    "#Effectively, joining our repeated patient month table to our repeated cancer patients table \n",
    "Condition_df_repeated['PatMonth'] = r_time_repeated_Cond['PatMonth']"
   ]
  },
  {
   "cell_type": "code",
   "execution_count": 29,
   "metadata": {},
   "outputs": [],
   "source": [
    "#Creating First DOM Field for Filter\n",
    "Condition_df_repeated['START_FLOOR'] = (Condition_df_repeated['START'].dt.floor('d') + pd.offsets.MonthEnd(0) - pd.offsets.MonthBegin(1))"
   ]
  },
  {
   "cell_type": "code",
   "execution_count": 30,
   "metadata": {},
   "outputs": [],
   "source": [
    "#Filtering down to rows only between start and stop date values\n",
    "PatMonthsCond = Condition_df_repeated.query('PatMonth >= START_FLOOR and PatMonth <= STOP').sort_values(by = ['PatMonth', 'PATIENT']).reset_index()"
   ]
  },
  {
   "cell_type": "code",
   "execution_count": 31,
   "metadata": {},
   "outputs": [],
   "source": [
    "#Dropping unneeded columns\n",
    "PatMonthsCond.drop(columns=PatMonthsCond.columns[[0, 1, -1]], axis = 1, inplace = True)"
   ]
  },
  {
   "cell_type": "code",
   "execution_count": 32,
   "metadata": {},
   "outputs": [],
   "source": [
    "#Transforming into one hot encoded values\n",
    "PatMonthsWideCond = PatMonthsCond[['PATIENT', 'START', 'STOP', 'PatMonth']].join(pd.get_dummies(PatMonthsCond['DESCRIPTION'])).groupby(['PATIENT', 'START', 'STOP', 'PatMonth']).max().reset_index()"
   ]
  },
  {
   "cell_type": "code",
   "execution_count": 33,
   "metadata": {},
   "outputs": [],
   "source": [
    "#Filling NaN values with 0s\n",
    "PatMonthsWideCond.fillna(0, inplace = True)"
   ]
  },
  {
   "cell_type": "code",
   "execution_count": 34,
   "metadata": {},
   "outputs": [],
   "source": [
    "#Dropping START and STOP Fields\n",
    "PatMonthsWideCond.drop(['START', 'STOP'], axis = 1, inplace = True)"
   ]
  },
  {
   "cell_type": "code",
   "execution_count": 35,
   "metadata": {},
   "outputs": [],
   "source": [
    "#Collapsing Rows\n",
    "PatMonthsWideCond = PatMonthsWideCond.groupby(['PATIENT', 'PatMonth']).sum().reset_index()"
   ]
  },
  {
   "cell_type": "code",
   "execution_count": 36,
   "metadata": {},
   "outputs": [],
   "source": [
    "#Dropping fields that would otherwise be duplicated following join\n",
    "PatMonthsWideCond.drop(['Carcinoma in situ of prostate (disorder)', 'Malignant neoplasm of breast (disorder)', 'Malignant tumor of colon', 'Metastasis from malignant tumor of prostate (disorder)', 'Neoplasm of prostate', 'Non-small cell carcinoma of lung  TNM stage 1 (disorder)', 'Non-small cell lung cancer (disorder)', 'Primary malignant neoplasm of colon', 'Primary small cell malignant neoplasm of lung  TNM stage 1 (disorder)', 'Secondary malignant neoplasm of colon', 'Suspected lung cancer (situation)'], axis = 1, inplace = True)"
   ]
  },
  {
   "cell_type": "code",
   "execution_count": 37,
   "metadata": {},
   "outputs": [],
   "source": [
    "#Dropping fields that would otherwise be duplicated following join\n",
    "PatMonthsWideCond.drop(['Chronic congestive heart failure (disorder)', 'Cardiac Arrest', 'History of cardiac arrest (situation)', 'Atrial Fibrillation', 'Coronary Heart Disease', 'Myocardial Infarction', 'History of myocardial infarction (situation)'], axis = 1, inplace = True)"
   ]
  },
  {
   "cell_type": "code",
   "execution_count": 38,
   "metadata": {},
   "outputs": [],
   "source": [
    "#Converting to appropriate data type for join\n",
    "PatMonthsWideCond['PatMonth'] = pd.to_datetime(PatMonthsWideCond['PatMonth'])"
   ]
  },
  {
   "cell_type": "code",
   "execution_count": 39,
   "metadata": {},
   "outputs": [],
   "source": [
    "#Combining Conditions with Core Patient Month Dataset\n",
    "NewPatMonths = PatMonthsWide.merge(PatMonthsWideCond, on = ['PATIENT','PatMonth'], how = 'left')"
   ]
  },
  {
   "cell_type": "code",
   "execution_count": 40,
   "metadata": {},
   "outputs": [],
   "source": [
    "#Engineering new field to represent occurance of adverse caridac event\n",
    "NewPatMonths['Cardiac Event'] = NewPatMonths[['Chronic congestive heart failure (disorder)', 'Cardiac Arrest', 'History of cardiac arrest (situation)', 'Atrial Fibrillation', 'Coronary Heart Disease', 'Myocardial Infarction', 'History of myocardial infarction (situation)']].any(axis = 1).astype(int)"
   ]
  },
  {
   "cell_type": "code",
   "execution_count": 41,
   "metadata": {},
   "outputs": [],
   "source": [
    "#Creating Patient Year field\n",
    "NewPatMonths['PatYear'] = NewPatMonths['PatMonth'].dt.strftime('%Y')"
   ]
  },
  {
   "cell_type": "code",
   "execution_count": 42,
   "metadata": {},
   "outputs": [],
   "source": [
    "#Dropping fields no longer necessary; determined that dataset would be collapsed at the patient year level\n",
    "NewPatMonths.drop(['PatMonth', 'STOP'], axis = 1, inplace = True)"
   ]
  },
  {
   "cell_type": "code",
   "execution_count": 55,
   "metadata": {},
   "outputs": [],
   "source": [
    "#Grouping by patient and year, taking the max one hot encoded value for that period\n",
    "NewPatYear = NewPatMonths.groupby(['PATIENT', 'PatYear']).max()"
   ]
  },
  {
   "cell_type": "code",
   "execution_count": 57,
   "metadata": {},
   "outputs": [],
   "source": [
    "#Resetting Index\n",
    "NewPatYear.reset_index(inplace = True)"
   ]
  },
  {
   "cell_type": "code",
   "execution_count": 58,
   "metadata": {},
   "outputs": [],
   "source": [
    "#Converting float dataypes to align with integers in dataframe\n",
    "NewPatYear = NewPatYear.convert_dtypes(convert_floating = True)"
   ]
  },
  {
   "cell_type": "code",
   "execution_count": 60,
   "metadata": {},
   "outputs": [],
   "source": [
    "#Exporting to csv\n",
    "NewPatYear.to_csv(r'NewPatYearTest.csv') "
   ]
  }
 ],
 "metadata": {
  "kernelspec": {
   "display_name": "Python 3 (ipykernel)",
   "language": "python",
   "name": "python3"
  },
  "language_info": {
   "codemirror_mode": {
    "name": "ipython",
    "version": 3
   },
   "file_extension": ".py",
   "mimetype": "text/x-python",
   "name": "python",
   "nbconvert_exporter": "python",
   "pygments_lexer": "ipython3",
   "version": "3.9.12"
  }
 },
 "nbformat": 4,
 "nbformat_minor": 2
}
