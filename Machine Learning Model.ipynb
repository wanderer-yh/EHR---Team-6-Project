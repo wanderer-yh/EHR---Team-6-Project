{
 "cells": [
  {
   "cell_type": "code",
   "execution_count": 58,
   "id": "2bba5851",
   "metadata": {},
   "outputs": [],
   "source": [
    "import os\n",
    "\n",
    "import matplotlib.pyplot as plt\n",
    "import numpy as np\n",
    "import pandas as pd\n",
    "import seaborn as sns\n",
    "from sklearn.linear_model import LogisticRegression\n",
    "from sklearn.metrics import (\n",
    "    ConfusionMatrixDisplay,\n",
    "    plot_confusion_matrix,\n",
    "    accuracy_score,\n",
    "    plot_roc_curve,\n",
    "    precision_score,\n",
    "    recall_score,\n",
    "    RocCurveDisplay\n",
    ")\n",
    "from sklearn.model_selection import (\n",
    "    GridSearchCV,\n",
    "    KFold,\n",
    "    train_test_split\n",
    ")\n",
    "from sklearn.naive_bayes import GaussianNB\n",
    "from sklearn.neighbors import KNeighborsClassifier\n",
    "from sklearn.pipeline import make_pipeline\n",
    "from sklearn.preprocessing import StandardScaler\n",
    "from sklearn.svm import SVC\n",
    "\n",
    "import datetime\n",
    "\n",
    "#from utils import plot_decision_boundary"
   ]
  },
  {
   "cell_type": "code",
   "execution_count": 59,
   "id": "55f3842e",
   "metadata": {},
   "outputs": [],
   "source": [
    "os.chdir('C:/Users/Student/Documents/EHR---Team-6-Project')\n"
   ]
  },
  {
   "cell_type": "code",
   "execution_count": 5,
   "id": "add50b59",
   "metadata": {},
   "outputs": [],
   "source": [
    "MemMonths = pd.read_csv('MemMonthsMostWidester.csv')"
   ]
  },
  {
   "cell_type": "code",
   "execution_count": 29,
   "id": "16eeb056",
   "metadata": {},
   "outputs": [],
   "source": [
    "MemYear = pd.read_csv('MemberYear.csv')"
   ]
  },
  {
   "cell_type": "code",
   "execution_count": 11,
   "id": "aa4a4465",
   "metadata": {},
   "outputs": [],
   "source": [
    "#logspace-- what power base 10 are we raising to\n",
    "C_candidates = np.logspace(-2, 0, 20) #Grid of 20 points between 10^-2 and 10^0 (which is 1)\n",
    "gamma_candidates = np.logspace(-2, 1, 20) #Grid of 20 points between 10^-2 and 10^1 (which is 10)"
   ]
  },
  {
   "cell_type": "code",
   "execution_count": 20,
   "id": "a837eb28",
   "metadata": {},
   "outputs": [],
   "source": [
    "k_fold = KFold(n_splits=2, shuffle=True, random_state=42) #setting up our number of folds"
   ]
  },
  {
   "cell_type": "code",
   "execution_count": 12,
   "id": "9c21845d",
   "metadata": {},
   "outputs": [
    {
     "data": {
      "text/html": [
       "<div>\n",
       "<style scoped>\n",
       "    .dataframe tbody tr th:only-of-type {\n",
       "        vertical-align: middle;\n",
       "    }\n",
       "\n",
       "    .dataframe tbody tr th {\n",
       "        vertical-align: top;\n",
       "    }\n",
       "\n",
       "    .dataframe thead th {\n",
       "        text-align: right;\n",
       "    }\n",
       "</style>\n",
       "<table border=\"1\" class=\"dataframe\">\n",
       "  <thead>\n",
       "    <tr style=\"text-align: right;\">\n",
       "      <th></th>\n",
       "      <th>PATIENT</th>\n",
       "      <th>Years (MemMonth)</th>\n",
       "      <th>ISMALE</th>\n",
       "      <th>white</th>\n",
       "      <th>other</th>\n",
       "      <th>black</th>\n",
       "      <th>asian</th>\n",
       "      <th>ISHISPANIC</th>\n",
       "      <th>ISMARRIED</th>\n",
       "      <th>ambulatory</th>\n",
       "      <th>...</th>\n",
       "      <th>emergency</th>\n",
       "      <th>Atrial Fibrillation</th>\n",
       "      <th>Chronic congestive heart failure (disorder)</th>\n",
       "      <th>Coronary Heart Disease</th>\n",
       "      <th>Myocardial Infarction</th>\n",
       "      <th>Cardiac Arrest</th>\n",
       "      <th>DeceasedFlag</th>\n",
       "      <th>History of cardiac arrest (situation)</th>\n",
       "      <th>History of myocardial infarction (situation)</th>\n",
       "      <th>Cardiac Event</th>\n",
       "    </tr>\n",
       "  </thead>\n",
       "  <tbody>\n",
       "    <tr>\n",
       "      <th>0</th>\n",
       "      <td>01541ad3-5323-cb64-96a7-c2ef42941253</td>\n",
       "      <td>1987</td>\n",
       "      <td>1</td>\n",
       "      <td>1</td>\n",
       "      <td>0</td>\n",
       "      <td>0</td>\n",
       "      <td>0</td>\n",
       "      <td>0</td>\n",
       "      <td>0</td>\n",
       "      <td>154.98</td>\n",
       "      <td>...</td>\n",
       "      <td>0.0</td>\n",
       "      <td>0</td>\n",
       "      <td>0</td>\n",
       "      <td>0</td>\n",
       "      <td>0</td>\n",
       "      <td>0</td>\n",
       "      <td>0</td>\n",
       "      <td>0</td>\n",
       "      <td>0</td>\n",
       "      <td>0</td>\n",
       "    </tr>\n",
       "    <tr>\n",
       "      <th>1</th>\n",
       "      <td>01541ad3-5323-cb64-96a7-c2ef42941253</td>\n",
       "      <td>1988</td>\n",
       "      <td>1</td>\n",
       "      <td>1</td>\n",
       "      <td>0</td>\n",
       "      <td>0</td>\n",
       "      <td>0</td>\n",
       "      <td>0</td>\n",
       "      <td>0</td>\n",
       "      <td>154.98</td>\n",
       "      <td>...</td>\n",
       "      <td>0.0</td>\n",
       "      <td>0</td>\n",
       "      <td>0</td>\n",
       "      <td>0</td>\n",
       "      <td>0</td>\n",
       "      <td>0</td>\n",
       "      <td>0</td>\n",
       "      <td>0</td>\n",
       "      <td>0</td>\n",
       "      <td>0</td>\n",
       "    </tr>\n",
       "    <tr>\n",
       "      <th>2</th>\n",
       "      <td>01541ad3-5323-cb64-96a7-c2ef42941253</td>\n",
       "      <td>1989</td>\n",
       "      <td>1</td>\n",
       "      <td>1</td>\n",
       "      <td>0</td>\n",
       "      <td>0</td>\n",
       "      <td>0</td>\n",
       "      <td>0</td>\n",
       "      <td>0</td>\n",
       "      <td>77.49</td>\n",
       "      <td>...</td>\n",
       "      <td>0.0</td>\n",
       "      <td>0</td>\n",
       "      <td>0</td>\n",
       "      <td>0</td>\n",
       "      <td>0</td>\n",
       "      <td>0</td>\n",
       "      <td>0</td>\n",
       "      <td>0</td>\n",
       "      <td>0</td>\n",
       "      <td>0</td>\n",
       "    </tr>\n",
       "    <tr>\n",
       "      <th>3</th>\n",
       "      <td>01541ad3-5323-cb64-96a7-c2ef42941253</td>\n",
       "      <td>1990</td>\n",
       "      <td>1</td>\n",
       "      <td>1</td>\n",
       "      <td>0</td>\n",
       "      <td>0</td>\n",
       "      <td>0</td>\n",
       "      <td>0</td>\n",
       "      <td>0</td>\n",
       "      <td>0.00</td>\n",
       "      <td>...</td>\n",
       "      <td>0.0</td>\n",
       "      <td>0</td>\n",
       "      <td>0</td>\n",
       "      <td>0</td>\n",
       "      <td>0</td>\n",
       "      <td>0</td>\n",
       "      <td>0</td>\n",
       "      <td>0</td>\n",
       "      <td>0</td>\n",
       "      <td>0</td>\n",
       "    </tr>\n",
       "    <tr>\n",
       "      <th>4</th>\n",
       "      <td>01541ad3-5323-cb64-96a7-c2ef42941253</td>\n",
       "      <td>1991</td>\n",
       "      <td>1</td>\n",
       "      <td>1</td>\n",
       "      <td>0</td>\n",
       "      <td>0</td>\n",
       "      <td>0</td>\n",
       "      <td>0</td>\n",
       "      <td>0</td>\n",
       "      <td>0.00</td>\n",
       "      <td>...</td>\n",
       "      <td>0.0</td>\n",
       "      <td>0</td>\n",
       "      <td>0</td>\n",
       "      <td>1</td>\n",
       "      <td>0</td>\n",
       "      <td>0</td>\n",
       "      <td>0</td>\n",
       "      <td>0</td>\n",
       "      <td>0</td>\n",
       "      <td>1</td>\n",
       "    </tr>\n",
       "  </tbody>\n",
       "</table>\n",
       "<p>5 rows × 28 columns</p>\n",
       "</div>"
      ],
      "text/plain": [
       "                                PATIENT  Years (MemMonth)  ISMALE  white  \\\n",
       "0  01541ad3-5323-cb64-96a7-c2ef42941253              1987       1      1   \n",
       "1  01541ad3-5323-cb64-96a7-c2ef42941253              1988       1      1   \n",
       "2  01541ad3-5323-cb64-96a7-c2ef42941253              1989       1      1   \n",
       "3  01541ad3-5323-cb64-96a7-c2ef42941253              1990       1      1   \n",
       "4  01541ad3-5323-cb64-96a7-c2ef42941253              1991       1      1   \n",
       "\n",
       "   other  black  asian  ISHISPANIC  ISMARRIED  ambulatory  ...  emergency  \\\n",
       "0      0      0      0           0          0      154.98  ...        0.0   \n",
       "1      0      0      0           0          0      154.98  ...        0.0   \n",
       "2      0      0      0           0          0       77.49  ...        0.0   \n",
       "3      0      0      0           0          0        0.00  ...        0.0   \n",
       "4      0      0      0           0          0        0.00  ...        0.0   \n",
       "\n",
       "   Atrial Fibrillation  Chronic congestive heart failure (disorder)  \\\n",
       "0                    0                                            0   \n",
       "1                    0                                            0   \n",
       "2                    0                                            0   \n",
       "3                    0                                            0   \n",
       "4                    0                                            0   \n",
       "\n",
       "   Coronary Heart Disease  Myocardial Infarction  Cardiac Arrest  \\\n",
       "0                       0                      0               0   \n",
       "1                       0                      0               0   \n",
       "2                       0                      0               0   \n",
       "3                       0                      0               0   \n",
       "4                       1                      0               0   \n",
       "\n",
       "   DeceasedFlag  History of cardiac arrest (situation)  \\\n",
       "0             0                                      0   \n",
       "1             0                                      0   \n",
       "2             0                                      0   \n",
       "3             0                                      0   \n",
       "4             0                                      0   \n",
       "\n",
       "   History of myocardial infarction (situation)  Cardiac Event  \n",
       "0                                             0              0  \n",
       "1                                             0              0  \n",
       "2                                             0              0  \n",
       "3                                             0              0  \n",
       "4                                             0              1  \n",
       "\n",
       "[5 rows x 28 columns]"
      ]
     },
     "execution_count": 12,
     "metadata": {},
     "output_type": "execute_result"
    }
   ],
   "source": [
    "MemYear.head()"
   ]
  },
  {
   "cell_type": "code",
   "execution_count": 38,
   "id": "c2237005",
   "metadata": {},
   "outputs": [],
   "source": [
    "\n",
    "X = MemYear.drop(['Years (MemMonth)', 'PATIENT', 'Cardiac Event', 'Atrial Fibrillation', 'Chronic congestive heart failure (disorder)', 'Coronary Heart Disease', 'Myocardial Infarction', 'Cardiac Arrest', 'DeceasedFlag'], axis = 1)\n",
    "\n",
    "Y = MemYear['Cardiac Event']\n",
    "\n",
    "\n",
    "#'Cardiac Event', 'DeceasedFlag'"
   ]
  },
  {
   "cell_type": "code",
   "execution_count": 39,
   "id": "ef7399e4",
   "metadata": {},
   "outputs": [],
   "source": [
    "X_train, X_test, Y_train, Y_test = train_test_split(X, Y, test_size=0.30, random_state=42) #Splitting into a 70/30% split"
   ]
  },
  {
   "cell_type": "code",
   "execution_count": 40,
   "id": "3789aa14",
   "metadata": {},
   "outputs": [],
   "source": [
    "svm_pipeline = make_pipeline(StandardScaler(), #Scaling features-- want to make sure our distance computations are dominated by predictors that have large variability\n",
    "                             SVC(random_state=42))"
   ]
  },
  {
   "cell_type": "code",
   "execution_count": 41,
   "id": "98d8abe6",
   "metadata": {},
   "outputs": [],
   "source": [
    "#Looking in a \"box\" 20 points on gamma axis (depth) and 20 points on x? axis (width); either way 400 candidates total\n",
    "grid_search_cv = GridSearchCV(svm_pipeline, \n",
    "                              dict(svc__C=C_candidates, svc__gamma=gamma_candidates), #C parameter is the marginal regularlization strength\n",
    "                              cv=k_fold).fit(X_train, Y_train) #two folds defined above"
   ]
  },
  {
   "cell_type": "code",
   "execution_count": 42,
   "id": "d74d146a",
   "metadata": {},
   "outputs": [
    {
     "data": {
      "text/plain": [
       "{'svc__C': 0.29763514416313175, 'svc__gamma': 0.01}"
      ]
     },
     "execution_count": 42,
     "metadata": {},
     "output_type": "execute_result"
    }
   ],
   "source": [
    "grid_search_cv.best_params_"
   ]
  },
  {
   "cell_type": "code",
   "execution_count": 44,
   "id": "9aee54b5",
   "metadata": {},
   "outputs": [
    {
     "data": {
      "image/png": "[encoded data removed]",
      "text/plain": [
       "<Figure size 432x288 with 2 Axes>"
      ]
     },
     "metadata": {
      "needs_background": "light"
     },
     "output_type": "display_data"
    }
   ],
   "source": [
    "_ = ConfusionMatrixDisplay.from_estimator(grid_search_cv.best_estimator_, X_test, Y_test)"
   ]
  },
  {
   "cell_type": "code",
   "execution_count": 45,
   "id": "0e1b23b9",
   "metadata": {},
   "outputs": [
    {
     "data": {
      "image/png": "[encoded data removed]",
      "text/plain": [
       "<Figure size 432x288 with 2 Axes>"
      ]
     },
     "metadata": {
      "needs_background": "light"
     },
     "output_type": "display_data"
    }
   ],
   "source": [
    "_ = ConfusionMatrixDisplay.from_estimator(grid_search_cv.best_estimator_, X_test, Y_test, normalize='all')"
   ]
  },
  {
   "cell_type": "code",
   "execution_count": 46,
   "id": "f9c777bd",
   "metadata": {},
   "outputs": [
    {
     "ename": "NameError",
     "evalue": "name 'precision_recall' is not defined",
     "output_type": "error",
     "traceback": [
      "\u001b[1;31m---------------------------------------------------------------------------\u001b[0m",
      "\u001b[1;31mNameError\u001b[0m                                 Traceback (most recent call last)",
      "Input \u001b[1;32mIn [46]\u001b[0m, in \u001b[0;36m<cell line: 2>\u001b[1;34m()\u001b[0m\n\u001b[1;32m----> 1\u001b[0m \u001b[43mprecision_recall\u001b[49m[\u001b[38;5;124m'\u001b[39m\u001b[38;5;124msvm\u001b[39m\u001b[38;5;124m'\u001b[39m] \u001b[38;5;241m=\u001b[39m {\n\u001b[0;32m      2\u001b[0m     \u001b[38;5;124m'\u001b[39m\u001b[38;5;124mprecision\u001b[39m\u001b[38;5;124m'\u001b[39m: precision_score(Y_test, grid_search_cv\u001b[38;5;241m.\u001b[39mbest_estimator_\u001b[38;5;241m.\u001b[39mpredict(X_test)),\n\u001b[0;32m      3\u001b[0m     \u001b[38;5;124m'\u001b[39m\u001b[38;5;124mrecall\u001b[39m\u001b[38;5;124m'\u001b[39m: recall_score(Y_test, grid_search_cv\u001b[38;5;241m.\u001b[39mbest_estimator_\u001b[38;5;241m.\u001b[39mpredict(X_test))\n\u001b[0;32m      4\u001b[0m }\n",
      "\u001b[1;31mNameError\u001b[0m: name 'precision_recall' is not defined"
     ]
    }
   ],
   "source": [
    "precision_recall['svm'] = {\n",
    "    'precision': precision_score(Y_test, grid_search_cv.best_estimator_.predict(X_test)),\n",
    "    'recall': recall_score(Y_test, grid_search_cv.best_estimator_.predict(X_test))\n",
    "}"
   ]
  },
  {
   "cell_type": "code",
   "execution_count": 47,
   "id": "9a3162f1",
   "metadata": {},
   "outputs": [
    {
     "data": {
      "text/plain": [
       "1.0"
      ]
     },
     "execution_count": 47,
     "metadata": {},
     "output_type": "execute_result"
    }
   ],
   "source": [
    "precision_score(Y_test, grid_search_cv.best_estimator_.predict(X_test))"
   ]
  },
  {
   "cell_type": "code",
   "execution_count": 48,
   "id": "a67e516a",
   "metadata": {},
   "outputs": [
    {
     "data": {
      "text/plain": [
       "0.2391304347826087"
      ]
     },
     "execution_count": 48,
     "metadata": {},
     "output_type": "execute_result"
    }
   ],
   "source": [
    "recall_score(Y_test, grid_search_cv.best_estimator_.predict(X_test))"
   ]
  },
  {
   "cell_type": "code",
   "execution_count": 53,
   "id": "a4319f7c",
   "metadata": {},
   "outputs": [
    {
     "data": {
      "text/plain": [
       "0.9779874213836478"
      ]
     },
     "execution_count": 53,
     "metadata": {},
     "output_type": "execute_result"
    }
   ],
   "source": [
    "accuracy_score(Y_test, grid_search_cv.best_estimator_.predict(X_test))"
   ]
  },
  {
   "cell_type": "code",
   "execution_count": 27,
   "id": "9e6deaa4",
   "metadata": {},
   "outputs": [
    {
     "ename": "NameError",
     "evalue": "name 'precision_recall' is not defined",
     "output_type": "error",
     "traceback": [
      "\u001b[1;31m---------------------------------------------------------------------------\u001b[0m",
      "\u001b[1;31mNameError\u001b[0m                                 Traceback (most recent call last)",
      "Input \u001b[1;32mIn [27]\u001b[0m, in \u001b[0;36m<cell line: 1>\u001b[1;34m()\u001b[0m\n\u001b[1;32m----> 1\u001b[0m \u001b[43mprecision_recall\u001b[49m\n",
      "\u001b[1;31mNameError\u001b[0m: name 'precision_recall' is not defined"
     ]
    }
   ],
   "source": [
    "precision_recall"
   ]
  },
  {
   "cell_type": "code",
   "execution_count": 54,
   "id": "839f500b",
   "metadata": {},
   "outputs": [
    {
     "data": {
      "image/png": "[encoded data removed]",
      "text/plain": [
       "<Figure size 432x288 with 1 Axes>"
      ]
     },
     "metadata": {
      "needs_background": "light"
     },
     "output_type": "display_data"
    }
   ],
   "source": [
    "_ = RocCurveDisplay.from_estimator(grid_search_cv.best_estimator_, X_test, Y_test)"
   ]
  },
  {
   "cell_type": "code",
   "execution_count": 65,
   "id": "0a8d6163",
   "metadata": {},
   "outputs": [
    {
     "data": {
      "image/png": "[encoded data removed]",
      "text/plain": [
       "<Figure size 432x288 with 2 Axes>"
      ]
     },
     "metadata": {
      "needs_background": "light"
     },
     "output_type": "display_data"
    }
   ],
   "source": [
    "_ = ConfusionMatrixDisplay.from_estimator(grid_search_cv.best_estimator_, X_train, Y_train)"
   ]
  },
  {
   "cell_type": "code",
   "execution_count": 68,
   "id": "a2c4041b",
   "metadata": {},
   "outputs": [
    {
     "data": {
      "text/plain": [
       "0.25874125874125875"
      ]
     },
     "execution_count": 68,
     "metadata": {},
     "output_type": "execute_result"
    }
   ],
   "source": [
    "recall_score(Y_train, grid_search_cv.best_estimator_.predict(X_train))"
   ]
  }
 ],
 "metadata": {
  "kernelspec": {
   "display_name": "Python 3 (ipykernel)",
   "language": "python",
   "name": "python3"
  },
  "language_info": {
   "codemirror_mode": {
    "name": "ipython",
    "version": 3
   },
   "file_extension": ".py",
   "mimetype": "text/x-python",
   "name": "python",
   "nbconvert_exporter": "python",
   "pygments_lexer": "ipython3",
   "version": "3.9.12"
  }
 },
 "nbformat": 4,
 "nbformat_minor": 5
}
