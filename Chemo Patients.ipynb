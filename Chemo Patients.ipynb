{
 "cells": [
  {
   "cell_type": "code",
   "execution_count": 1,
   "id": "18356e61",
   "metadata": {},
   "outputs": [],
   "source": [
    "import numpy as np\n",
    "import pandas as pd\n",
    "import os\n",
    "from datetime import datetime, timedelta\n",
    "from dateutil.relativedelta import relativedelta"
   ]
  },
  {
   "cell_type": "code",
   "execution_count": 2,
   "id": "a341ebab",
   "metadata": {},
   "outputs": [],
   "source": [
    "os.chdir('C:/Users/Student/Documents/EHR---Team-6-Project')"
   ]
  },
  {
   "cell_type": "code",
   "execution_count": 3,
   "id": "c9a06998",
   "metadata": {},
   "outputs": [],
   "source": [
    "# Read in medication data and review unique meds\n",
    "medications = pd.read_csv('medications.csv')\n",
    "meds = medications.DESCRIPTION.unique()\n",
    "\n",
    "# Compile a list of chemo meds from the medications data\n",
    "chemo = ['1 ML DOCEtaxel 20 MG/ML Injection', '0.25 ML Leuprolide Acetate 30 MG/ML Prefilled Syringe', \n",
    "         '10 ML oxaliplatin 5 MG/ML Injection', 'Cisplatin 50 MG Injection', 'PACLitaxel 100 MG Injection', \n",
    "         '100 ML Epirubicin Hydrochloride 2 MG/ML Injection', 'Tamoxifen 10 MG Oral Tablet', 'palbociclib 100 MG Oral Capsule', \n",
    "         'Paclitaxel 100 MG Injection', '10 ML Doxorubicin Hydrochloride 2 MG/ML Injection',\n",
    "         'Etoposide 100 MG Injection', 'Methotrexate 2.5 MG Oral Tablet', 'ribociclib 200 MG Oral Tablet', \n",
    "         'neratinib 40 MG Oral Tablet', 'exemestane 25 MG Oral Tablet']\n"
   ]
  },
  {
   "cell_type": "code",
   "execution_count": 4,
   "id": "af7d86e2",
   "metadata": {},
   "outputs": [],
   "source": [
    "# Search for patient who have received chemo in the list above\n",
    "chemo_pats = medications[medications['DESCRIPTION'].isin(chemo)].reset_index()"
   ]
  },
  {
   "cell_type": "code",
   "execution_count": 5,
   "id": "53459c68",
   "metadata": {},
   "outputs": [],
   "source": [
    "# Select relevant columns and convert start date to datetime format\n",
    "chemo_pats = chemo_pats[['START', 'PATIENT', 'DESCRIPTION']].reset_index() \n",
    "chemo_pats['START'] = pd.to_datetime(pd.to_datetime(chemo_pats['START']).dt.date)"
   ]
  },
  {
   "cell_type": "code",
   "execution_count": 6,
   "id": "71aa25e4",
   "metadata": {},
   "outputs": [],
   "source": [
    "#Replacing DESCRIPTION with a 1 for a CHEMO Flag that will be used as predictor variable\n",
    "chemo_pats.iloc[:, -1] = np.where(chemo_pats.iloc[:, -1].isnull(), 0, 1)"
   ]
  },
  {
   "cell_type": "code",
   "execution_count": 7,
   "id": "2dc06e17",
   "metadata": {},
   "outputs": [],
   "source": [
    "#Adding MM field to chemo_pats\n",
    "chemo_pats['PatMonth'] = (chemo_pats['START'].dt.floor('d') + pd.offsets.MonthEnd(0) - pd.offsets.MonthBegin(1))"
   ]
  },
  {
   "cell_type": "code",
   "execution_count": 8,
   "id": "92b12276",
   "metadata": {},
   "outputs": [],
   "source": [
    "#Dropping Unneeded fields\n",
    "chemo_pats.drop(['START', 'index'], axis = 1, inplace = True)"
   ]
  },
  {
   "cell_type": "code",
   "execution_count": 9,
   "id": "9a122da0",
   "metadata": {},
   "outputs": [],
   "source": [
    "#Dropping duplicates\n",
    "chemo_pats = chemo_pats.drop_duplicates()"
   ]
  },
  {
   "cell_type": "code",
   "execution_count": 10,
   "id": "4d0b38e0",
   "metadata": {},
   "outputs": [],
   "source": [
    "#Renaming to DESCRIPTION column to CHEMO\n",
    "chemo_pats.rename(columns = {'DESCRIPTION':'CHEMO'}, inplace = True)"
   ]
  },
  {
   "cell_type": "code",
   "execution_count": 11,
   "id": "4ee3c773",
   "metadata": {},
   "outputs": [],
   "source": [
    "chemo_pats.to_csv(r'chemo_patients.csv', index = False) "
   ]
  }
 ],
 "metadata": {
  "kernelspec": {
   "display_name": "Python 3 (ipykernel)",
   "language": "python",
   "name": "python3"
  },
  "language_info": {
   "codemirror_mode": {
    "name": "ipython",
    "version": 3
   },
   "file_extension": ".py",
   "mimetype": "text/x-python",
   "name": "python",
   "nbconvert_exporter": "python",
   "pygments_lexer": "ipython3",
   "version": "3.9.12"
  }
 },
 "nbformat": 4,
 "nbformat_minor": 5
}
