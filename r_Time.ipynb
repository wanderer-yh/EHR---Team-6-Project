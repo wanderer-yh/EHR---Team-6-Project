{
 "cells": [
  {
   "cell_type": "code",
   "execution_count": 1,
   "id": "64694916",
   "metadata": {},
   "outputs": [],
   "source": [
    "import numpy as np\n",
    "import pandas as pd\n",
    "import os\n",
    "from datetime import datetime, timedelta\n",
    "from dateutil.relativedelta import relativedelta"
   ]
  },
  {
   "cell_type": "code",
   "execution_count": 2,
   "id": "b53044bf",
   "metadata": {},
   "outputs": [],
   "source": [
    "os.chdir('C:/Users/Student/Documents/EHR---Team-6-Project')"
   ]
  },
  {
   "cell_type": "code",
   "execution_count": 3,
   "id": "8b93d0db",
   "metadata": {},
   "outputs": [],
   "source": [
    "#Creating a dataframe with a line item for each month between 1/1/1900 & today\n",
    "r_time = pd.DataFrame(pd.date_range('01-01-1900',datetime.today().strftime(\"%Y-%m-%d\"), \n",
    "              freq='MS').strftime(\"%-d/%-m/%Y\").tolist(), columns=['PatMonth']) "
   ]
  },
  {
   "cell_type": "code",
   "execution_count": 4,
   "id": "1c960958",
   "metadata": {},
   "outputs": [],
   "source": [
    "#Converting the PatMonth column to datetime\n",
    "r_time['PatMonth'] = pd.to_datetime(r_time['PatMonth'])"
   ]
  },
  {
   "cell_type": "code",
   "execution_count": 5,
   "id": "e0321c63",
   "metadata": {},
   "outputs": [],
   "source": [
    "r_time['PatYear'] = r_time['PatMonth'].dt.strftime('%Y')"
   ]
  },
  {
   "cell_type": "code",
   "execution_count": 6,
   "id": "098d44e8",
   "metadata": {},
   "outputs": [],
   "source": [
    "r_time.to_csv(r'r_time.csv', index = False) "
   ]
  }
 ],
 "metadata": {
  "kernelspec": {
   "display_name": "Python 3 (ipykernel)",
   "language": "python",
   "name": "python3"
  },
  "language_info": {
   "codemirror_mode": {
    "name": "ipython",
    "version": 3
   },
   "file_extension": ".py",
   "mimetype": "text/x-python",
   "name": "python",
   "nbconvert_exporter": "python",
   "pygments_lexer": "ipython3",
   "version": "3.9.12"
  }
 },
 "nbformat": 4,
 "nbformat_minor": 5
}
